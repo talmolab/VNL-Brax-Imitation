{
 "cells": [
  {
   "cell_type": "code",
   "execution_count": 19,
   "metadata": {},
   "outputs": [
    {
     "name": "stdout",
     "output_type": "stream",
     "text": [
      "The autoreload extension is already loaded. To reload it, use:\n",
      "  %reload_ext autoreload\n"
     ]
    }
   ],
   "source": [
    "%load_ext autoreload\n",
    "%autoreload 2\n",
    "\n",
    "import jax\n",
    "from jax import numpy as jnp\n",
    "\n",
    "import mujoco\n",
    "from mujoco import mjx\n",
    "\n",
    "import h5py\n",
    "import pickle\n",
    "\n",
    "import mocap_preprocess as mp\n",
    "data_path = \"transform_lbfgs1k_12_21_1.p\""
   ]
  },
  {
   "cell_type": "code",
   "execution_count": 20,
   "metadata": {},
   "outputs": [
    {
     "name": "stdout",
     "output_type": "stream",
     "text": [
      "start_step: 0\n",
      "(250, 3)\n"
     ]
    }
   ],
   "source": [
    "mp.start(data_path, \n",
    "         \"12_21_1_250.h5\", \n",
    "         n_steps=250,\n",
    "         ref_steps=(1,2,3,4,5))"
   ]
  },
  {
   "cell_type": "markdown",
   "metadata": {},
   "source": [
    "____"
   ]
  },
  {
   "cell_type": "code",
   "execution_count": 21,
   "metadata": {},
   "outputs": [
    {
     "name": "stdout",
     "output_type": "stream",
     "text": [
      "Contents of 12_21_1_250.h5:\n",
      "clip_0 (Group)\n",
      "  props (Group)\n",
      "  walkers (Group)\n",
      "    walker_0 (Group)\n",
      "      angular_velocity (Dataset): (3, 250)\n",
      "      appendages (Dataset): (15, 250)\n",
      "      body_positions (Dataset): (54, 250)\n",
      "      body_quaternions (Dataset): (72, 250)\n",
      "      center_of_mass (Dataset): (3, 250)\n",
      "      end_effectors (Dataset): (12, 250)\n",
      "      joints (Dataset): (67, 250)\n",
      "      joints_velocity (Dataset): (67, 250)\n",
      "      markers (Dataset): (0,)\n",
      "      position (Dataset): (3, 250)\n",
      "      quaternion (Dataset): (4, 250)\n",
      "      scaling (Dataset): (0,)\n",
      "      velocity (Dataset): (3, 250)\n"
     ]
    }
   ],
   "source": [
    "# Prints the h5 file hierarchy and the dataset shapes\n",
    "def print_hierarchy(h5file, indent=\"\"):\n",
    "    for key, item in h5file.items():\n",
    "        if isinstance(item, h5py.Group):\n",
    "            print(f\"{indent}{key} (Group)\")\n",
    "            print_hierarchy(item, indent + \"  \")\n",
    "        elif isinstance(item, h5py.Dataset):\n",
    "            print(f\"{indent}{key} (Dataset): {item.shape}\")\n",
    "            \n",
    "filename = \"12_21_1_250.h5\"\n",
    "with h5py.File(filename, \"r\") as f:\n",
    "    print(f\"Contents of {filename}:\")\n",
    "    print_hierarchy(f)"
   ]
  },
  {
   "cell_type": "code",
   "execution_count": null,
   "metadata": {},
   "outputs": [],
   "source": []
  }
 ],
 "metadata": {
  "kernelspec": {
   "display_name": "rl",
   "language": "python",
   "name": "python3"
  },
  "language_info": {
   "codemirror_mode": {
    "name": "ipython",
    "version": 3
   },
   "file_extension": ".py",
   "mimetype": "text/x-python",
   "name": "python",
   "nbconvert_exporter": "python",
   "pygments_lexer": "ipython3",
   "version": "3.11.8"
  }
 },
 "nbformat": 4,
 "nbformat_minor": 2
}
