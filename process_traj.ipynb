{
 "cells": [
  {
   "cell_type": "code",
   "execution_count": 3,
   "metadata": {},
   "outputs": [
    {
     "name": "stdout",
     "output_type": "stream",
     "text": [
      "The autoreload extension is already loaded. To reload it, use:\n",
      "  %reload_ext autoreload\n"
     ]
    }
   ],
   "source": [
    "%load_ext autoreload\n",
    "%autoreload 2\n",
    "\n",
    "import jax\n",
    "from jax import numpy as jnp\n",
    "\n",
    "import mujoco\n",
    "from mujoco import mjx\n",
    "\n",
    "import h5py\n",
    "import pickle\n",
    "\n",
    "import mocap_preprocess as mp\n",
    "data_path = \"/Users/charleszhang/GitHub/stac-mjx/transform_snips.p\""
   ]
  },
  {
   "cell_type": "code",
   "execution_count": 4,
   "metadata": {},
   "outputs": [
    {
     "name": "stdout",
     "output_type": "stream",
     "text": [
      "start_step: 500\n",
      "(250, 3)\n"
     ]
    },
    {
     "data": {
      "text/plain": [
       "['transform_snips_250_clip_500.p']"
      ]
     },
     "execution_count": 4,
     "metadata": {},
     "output_type": "execute_result"
    }
   ],
   "source": [
    "mp.process(data_path, \n",
    "         \"transform_snips_250.h5\", \n",
    "         start_step=500,\n",
    "         clip_length=250,\n",
    "         n_steps=250,\n",
    "         ref_steps=(1,2,3,4,5))\n"
   ]
  },
  {
   "cell_type": "markdown",
   "metadata": {},
   "source": [
    "____"
   ]
  },
  {
   "cell_type": "code",
   "execution_count": 4,
   "metadata": {},
   "outputs": [
    {
     "name": "stdout",
     "output_type": "stream",
     "text": [
      "Contents of transform_snips_250.h5:\n",
      "clip_0 (Group)\n",
      "  props (Group)\n",
      "  walkers (Group)\n",
      "    walker_0 (Group)\n",
      "      angular_velocity (Dataset): (3, 256)\n",
      "      appendages (Dataset): (15, 256)\n",
      "      body_positions (Dataset): (54, 256)\n",
      "      body_quaternions (Dataset): (72, 256)\n",
      "      center_of_mass (Dataset): (3, 256)\n",
      "      end_effectors (Dataset): (12, 256)\n",
      "      joints (Dataset): (67, 256)\n",
      "      joints_velocity (Dataset): (67, 256)\n",
      "      markers (Dataset): (0,)\n",
      "      position (Dataset): (3, 256)\n",
      "      quaternion (Dataset): (4, 256)\n",
      "      scaling (Dataset): (0,)\n",
      "      velocity (Dataset): (3, 256)\n",
      "clip_250 (Group)\n",
      "  props (Group)\n",
      "  walkers (Group)\n",
      "    walker_0 (Group)\n",
      "      angular_velocity (Dataset): (3, 250)\n",
      "      appendages (Dataset): (15, 250)\n",
      "      body_positions (Dataset): (54, 250)\n",
      "      body_quaternions (Dataset): (72, 250)\n",
      "      center_of_mass (Dataset): (3, 250)\n",
      "      end_effectors (Dataset): (12, 250)\n",
      "      joints (Dataset): (67, 250)\n",
      "      joints_velocity (Dataset): (67, 250)\n",
      "      markers (Dataset): (0,)\n",
      "      position (Dataset): (3, 250)\n",
      "      quaternion (Dataset): (4, 250)\n",
      "      scaling (Dataset): (0,)\n",
      "      velocity (Dataset): (3, 250)\n"
     ]
    }
   ],
   "source": [
    "import h5py\n",
    "# Prints the h5 file hierarchy and the dataset shapes\n",
    "def print_hierarchy(h5file, indent=\"\"):\n",
    "    for key, item in h5file.items():\n",
    "        if isinstance(item, h5py.Group):\n",
    "            print(f\"{indent}{key} (Group)\")\n",
    "            print_hierarchy(item, indent + \"  \")\n",
    "        elif isinstance(item, h5py.Dataset):\n",
    "            print(f\"{indent}{key} (Dataset): {item.shape}\")\n",
    "            \n",
    "filename = \"transform_snips_250.h5\"\n",
    "with h5py.File(filename, \"r\") as f:\n",
    "    print(f\"Contents of {filename}:\")\n",
    "    print_hierarchy(f)"
   ]
  },
  {
   "cell_type": "code",
   "execution_count": 1,
   "metadata": {},
   "outputs": [],
   "source": [
    "import pickle\n",
    "p = \"/home/charles/github/VNL-Brax-Imitation/transform_snips_250_clip_0.p\"\n",
    "\n",
    "with open(p, 'rb') as f:\n",
    "      d = pickle.load(f)"
   ]
  },
  {
   "cell_type": "code",
   "execution_count": 2,
   "metadata": {},
   "outputs": [
    {
     "data": {
      "text/plain": [
       "(256, 3)"
      ]
     },
     "execution_count": 2,
     "metadata": {},
     "output_type": "execute_result"
    }
   ],
   "source": [
    "d.angular_velocity.shape"
   ]
  },
  {
   "cell_type": "code",
   "execution_count": null,
   "metadata": {},
   "outputs": [],
   "source": []
  }
 ],
 "metadata": {
  "kernelspec": {
   "display_name": "rl",
   "language": "python",
   "name": "python3"
  },
  "language_info": {
   "codemirror_mode": {
    "name": "ipython",
    "version": 3
   },
   "file_extension": ".py",
   "mimetype": "text/x-python",
   "name": "python",
   "nbconvert_exporter": "python",
   "pygments_lexer": "ipython3",
   "version": "3.11.8"
  }
 },
 "nbformat": 4,
 "nbformat_minor": 2
}
