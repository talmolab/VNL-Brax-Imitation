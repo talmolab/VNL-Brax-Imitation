{
 "cells": [
  {
   "cell_type": "code",
   "execution_count": 1,
   "metadata": {},
   "outputs": [],
   "source": [
    "# rendering related\n",
    "import os, imageio\n",
    "import jax\n",
    "import mujoco\n",
    "from dm_control.mujoco import wrapper\n",
    "from dm_control.mujoco.wrapper.mjbindings import enums\n",
    "import pickle\n",
    "from tqdm import tqdm"
   ]
  },
  {
   "cell_type": "code",
   "execution_count": 2,
   "metadata": {},
   "outputs": [],
   "source": [
    "# loading data\n",
    "with open(\"./../clips/all_snips.p\", \"rb\") as f:\n",
    "    all_traj = pickle.load(f)\n",
    "\n",
    "# render overlay\n",
    "scene_option = wrapper.MjvOption()\n",
    "scene_option.geomgroup[2] = 1\n",
    "scene_option.sitegroup[2] = 1\n",
    "\n",
    "scene_option.sitegroup[3] = 1\n",
    "scene_option.flags[enums.mjtVisFlag.mjVIS_TRANSPARENT] = True\n",
    "scene_option.flags[enums.mjtVisFlag.mjVIS_LIGHT] = False\n",
    "scene_option.flags[enums.mjtVisFlag.mjVIS_CONVEXHULL] = True\n",
    "scene_option.flags[enums.mjtRndFlag.mjRND_SHADOW] = False\n",
    "scene_option.flags[enums.mjtRndFlag.mjRND_REFLECTION] = False\n",
    "scene_option.flags[enums.mjtRndFlag.mjRND_SKYBOX] = False\n",
    "scene_option.flags[enums.mjtRndFlag.mjRND_FOG] = False\n",
    "mj_model = mujoco.MjModel.from_xml_path(f\"../assets/rodent.xml\")\n",
    "\n",
    "mj_model.opt.solver = {\n",
    "    \"cg\": mujoco.mjtSolver.mjSOL_CG,\n",
    "    \"newton\": mujoco.mjtSolver.mjSOL_NEWTON,\n",
    "}[\"cg\"]\n",
    "\n",
    "mj_model.opt.iterations = 6\n",
    "mj_model.opt.ls_iterations = 6\n",
    "mj_model.opt.jacobian = 0  # dense\n",
    "mj_data = mujoco.MjData(mj_model)\n",
    "\n",
    "os.environ[\"MUJOCO_GL\"] = \"egl\"\n",
    "\n",
    "renderer = mujoco.Renderer(mj_model, height=512, width=512)\n",
    "mujoco.mj_kinematics(mj_model, mj_data)"
   ]
  },
  {
   "cell_type": "code",
   "execution_count": 3,
   "metadata": {},
   "outputs": [
    {
     "data": {
      "text/plain": [
       "842"
      ]
     },
     "execution_count": 3,
     "metadata": {},
     "output_type": "execute_result"
    }
   ],
   "source": [
    "len(all_traj[\"snips_order\"])"
   ]
  },
  {
   "cell_type": "code",
   "execution_count": 9,
   "metadata": {},
   "outputs": [
    {
     "data": {
      "text/plain": [
       "(210500, 74)"
      ]
     },
     "execution_count": 9,
     "metadata": {},
     "output_type": "execute_result"
    }
   ],
   "source": [
    "all_traj[\"qpos\"].shape"
   ]
  },
  {
   "cell_type": "code",
   "execution_count": 13,
   "metadata": {},
   "outputs": [],
   "source": [
    "qpos_clips = all_traj[\"qpos\"].reshape((-1, 250, 74))"
   ]
  },
  {
   "cell_type": "code",
   "execution_count": 20,
   "metadata": {},
   "outputs": [
    {
     "data": {
      "text/plain": [
       "'FastWalk_171'"
      ]
     },
     "execution_count": 20,
     "metadata": {},
     "output_type": "execute_result"
    }
   ],
   "source": [
    "all_traj[\"snips_order\"][0].split(\"/\")[-1].split(\".\")[0]"
   ]
  },
  {
   "cell_type": "code",
   "execution_count": 24,
   "metadata": {},
   "outputs": [
    {
     "name": "stderr",
     "output_type": "stream",
     "text": [
      "100%|██████████| 842/842 [07:22<00:00,  1.90it/s]\n"
     ]
    }
   ],
   "source": [
    "for i, name in enumerate(tqdm(all_traj[\"snips_order\"])):\n",
    "    frames = []\n",
    "    # render while stepping using mujoco\n",
    "    name = name.split(\"/\")[-1].split(\".\")[0]\n",
    "    video_path = f\"videos/{name}.mp4\"\n",
    "    with imageio.get_writer(video_path, fps=50) as video:\n",
    "        for qpos in tqdm(qpos_clips[i], leave=False):\n",
    "            # Set keypoints\n",
    "            mj_data.qpos = qpos\n",
    "            mujoco.mj_forward(mj_model, mj_data)\n",
    "            renderer.update_scene(\n",
    "                mj_data, camera=\"close_profile\"\n",
    "            )\n",
    "            pixels = renderer.render()\n",
    "            video.append_data(pixels)\n",
    "            frames.append(pixels)"
   ]
  },
  {
   "cell_type": "markdown",
   "metadata": {},
   "source": [
    "# Good Clip to Imitate\n",
    "\n",
    "- FastWalk_61\n",
    "- FastWalk_65\n",
    "- FastWalk_80\n",
    "- FastWalk_93\n",
    "- Walk_20\n",
    "- Walk_27\n",
    "- Walk_34\n",
    "- Walk_49"
   ]
  },
  {
   "cell_type": "code",
   "execution_count": null,
   "metadata": {},
   "outputs": [],
   "source": []
  },
  {
   "cell_type": "code",
   "execution_count": null,
   "metadata": {},
   "outputs": [],
   "source": []
  }
 ],
 "metadata": {
  "kernelspec": {
   "display_name": "vnl",
   "language": "python",
   "name": "python3"
  },
  "language_info": {
   "codemirror_mode": {
    "name": "ipython",
    "version": 3
   },
   "file_extension": ".py",
   "mimetype": "text/x-python",
   "name": "python",
   "nbconvert_exporter": "python",
   "pygments_lexer": "ipython3",
   "version": "3.11.9"
  }
 },
 "nbformat": 4,
 "nbformat_minor": 2
}
