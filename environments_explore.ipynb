{
 "cells": [
  {
   "cell_type": "code",
   "execution_count": 19,
   "metadata": {},
   "outputs": [
    {
     "name": "stdout",
     "output_type": "stream",
     "text": [
      "The autoreload extension is already loaded. To reload it, use:\n",
      "  %reload_ext autoreload\n"
     ]
    }
   ],
   "source": [
    "%load_ext autoreload\n",
    "%autoreload 2\n",
    "import jax\n",
    "from jax import random\n",
    "from environments import RodentSingleClipTrack\n",
    "import numpy as np\n",
    "import mediapy as media\n",
    "import jax.numpy as jp"
   ]
  },
  {
   "cell_type": "code",
   "execution_count": 20,
   "metadata": {},
   "outputs": [],
   "source": [
    "params = {\n",
    "    \"scale_factor\": .9,\n",
    "    \"solver\": \"cg\",\n",
    "    \"iterations\": 6,\n",
    "    \"ls_iterations\": 3,\n",
    "    \"clip_path\": \"12_22_1_250_clip_0.p\",\n",
    "    \"end_eff_names\": [\n",
    "        \"foot_L\",\n",
    "        \"foot_R\",\n",
    "        \"hand_L\",\n",
    "        \"hand_R\",\n",
    "    ],\n",
    "}"
   ]
  },
  {
   "cell_type": "markdown",
   "metadata": {},
   "source": [
    "# Creating env objects"
   ]
  },
  {
   "cell_type": "code",
   "execution_count": 21,
   "metadata": {},
   "outputs": [
    {
     "name": "stderr",
     "output_type": "stream",
     "text": [
      "/Users/kevinb/Desktop/salk/rodent/VNL-Brax-Imitation-Main/.brax-imitation/lib/python3.10/site-packages/brax/io/mjcf.py:344: DeprecationWarning: jax.tree_map is deprecated: use jax.tree.map (jax v0.4.25 or newer) or jax.tree_util.tree_map (any JAX version).\n",
      "  link = jax.tree_map(lambda x: x[1:].copy(), link)\n",
      "/Users/kevinb/Desktop/salk/rodent/VNL-Brax-Imitation-Main/.brax-imitation/lib/python3.10/site-packages/brax/io/mjcf.py:374: DeprecationWarning: jax.tree_map is deprecated: use jax.tree.map (jax v0.4.25 or newer) or jax.tree_util.tree_map (any JAX version).\n",
      "  motion = jax.tree_map(lambda *x: np.concatenate(x), *motions)\n",
      "/Users/kevinb/Desktop/salk/rodent/VNL-Brax-Imitation-Main/.brax-imitation/lib/python3.10/site-packages/brax/io/mjcf.py:378: DeprecationWarning: jax.tree_map is deprecated: use jax.tree.map (jax v0.4.25 or newer) or jax.tree_util.tree_map (any JAX version).\n",
      "  limit = jax.tree_map(lambda *x: np.concatenate(x), *limits)\n",
      "/Users/kevinb/Desktop/salk/rodent/VNL-Brax-Imitation-Main/.brax-imitation/lib/python3.10/site-packages/brax/io/mjcf.py:414: DeprecationWarning: jax.tree_map is deprecated: use jax.tree.map (jax v0.4.25 or newer) or jax.tree_util.tree_map (any JAX version).\n",
      "  act_kwargs = jax.tree_map(lambda x: x[act_mask], act_kwargs)\n",
      "/Users/kevinb/Desktop/salk/rodent/VNL-Brax-Imitation-Main/.brax-imitation/lib/python3.10/site-packages/mujoco/mjx/_src/collision_driver.py:217: DeprecationWarning: jax.tree_map is deprecated: use jax.tree.map (jax v0.4.25 or newer) or jax.tree_util.tree_map (any JAX version).\n",
      "  params = jax.tree_map(lambda *x: jp.concatenate(x), *params)\n",
      "/Users/kevinb/Desktop/salk/rodent/VNL-Brax-Imitation-Main/.brax-imitation/lib/python3.10/site-packages/mujoco/mjx/_src/collision_driver.py:217: DeprecationWarning: jax.tree_map is deprecated: use jax.tree.map (jax v0.4.25 or newer) or jax.tree_util.tree_map (any JAX version).\n",
      "  params = jax.tree_map(lambda *x: jp.concatenate(x), *params)\n",
      "/Users/kevinb/Desktop/salk/rodent/VNL-Brax-Imitation-Main/.brax-imitation/lib/python3.10/site-packages/brax/io/mjcf.py:479: DeprecationWarning: jax.tree_map is deprecated: use jax.tree.map (jax v0.4.25 or newer) or jax.tree_util.tree_map (any JAX version).\n",
      "  sys = jax.tree_map(jp.array, sys)\n"
     ]
    }
   ],
   "source": [
    "env = RodentSingleClipTrack(params)"
   ]
  },
  {
   "cell_type": "code",
   "execution_count": 22,
   "metadata": {},
   "outputs": [],
   "source": [
    "key = random.PRNGKey(0)\n",
    "jit_step = jax.jit(env.step)\n",
    "jit_reset = jax.jit(env.reset)\n",
    "# next = env.step(state, random.uniform(key, shape=(env.sys.nu,)))"
   ]
  },
  {
   "cell_type": "code",
   "execution_count": 24,
   "metadata": {},
   "outputs": [
    {
     "data": {
      "text/plain": [
       "dict"
      ]
     },
     "execution_count": 24,
     "metadata": {},
     "output_type": "execute_result"
    }
   ],
   "source": [
    "type(env._ref_traj)"
   ]
  },
  {
   "cell_type": "code",
   "execution_count": 7,
   "metadata": {},
   "outputs": [
    {
     "ename": "KeyError",
     "evalue": "'position'",
     "output_type": "error",
     "traceback": [
      "\u001b[0;31m---------------------------------------------------------------------------\u001b[0m",
      "\u001b[0;31mKeyError\u001b[0m                                  Traceback (most recent call last)",
      "Cell \u001b[0;32mIn[7], line 1\u001b[0m\n\u001b[0;32m----> 1\u001b[0m n \u001b[38;5;241m=\u001b[39m \u001b[43menv\u001b[49m\u001b[38;5;241;43m.\u001b[39;49m\u001b[43mreset\u001b[49m\u001b[43m(\u001b[49m\u001b[43mkey\u001b[49m\u001b[43m)\u001b[49m\n",
      "File \u001b[0;32m~/Desktop/salk/rodent/VNL-Brax-Imitation-Main/environments.py:154\u001b[0m, in \u001b[0;36mRodentSingleClipTrack.reset\u001b[0;34m(self, rng)\u001b[0m\n\u001b[1;32m    142\u001b[0m start_frame \u001b[38;5;241m=\u001b[39m jax\u001b[38;5;241m.\u001b[39mrandom\u001b[38;5;241m.\u001b[39mrandint(\n\u001b[1;32m    143\u001b[0m   subkey, (), \u001b[38;5;241m0\u001b[39m, \n\u001b[1;32m    144\u001b[0m   \u001b[38;5;28mself\u001b[39m\u001b[38;5;241m.\u001b[39m_clip_length \u001b[38;5;241m-\u001b[39m \u001b[38;5;28mself\u001b[39m\u001b[38;5;241m.\u001b[39m_episode_length \u001b[38;5;241m-\u001b[39m \u001b[38;5;28mself\u001b[39m\u001b[38;5;241m.\u001b[39m_ref_traj_length\n\u001b[1;32m    145\u001b[0m )\n\u001b[1;32m    147\u001b[0m \u001b[38;5;66;03m# qpos = position + quaternion + joints\u001b[39;00m\n\u001b[1;32m    148\u001b[0m \u001b[38;5;66;03m# pos = self._ref_traj.position[:, start_frame]\u001b[39;00m\n\u001b[1;32m    149\u001b[0m \u001b[38;5;66;03m# quat = self._ref_traj.quaternion[:, start_frame]\u001b[39;00m\n\u001b[1;32m    150\u001b[0m \u001b[38;5;66;03m# joints = self._ref_traj.joints[:, start_frame]\u001b[39;00m\n\u001b[1;32m    151\u001b[0m \u001b[38;5;66;03m# qpos = jp.concatenate((pos, quat, joints))\u001b[39;00m\n\u001b[1;32m    153\u001b[0m qpos \u001b[38;5;241m=\u001b[39m jp\u001b[38;5;241m.\u001b[39mhstack([\n\u001b[0;32m--> 154\u001b[0m   \u001b[38;5;28;43mself\u001b[39;49m\u001b[38;5;241;43m.\u001b[39;49m\u001b[43m_ref_traj\u001b[49m\u001b[43m[\u001b[49m\u001b[38;5;124;43m'\u001b[39;49m\u001b[38;5;124;43mposition\u001b[39;49m\u001b[38;5;124;43m'\u001b[39;49m\u001b[43m]\u001b[49m[:, start_frame],\n\u001b[1;32m    155\u001b[0m   \u001b[38;5;28mself\u001b[39m\u001b[38;5;241m.\u001b[39m_ref_traj\u001b[38;5;241m.\u001b[39mquaternion[:, start_frame],\n\u001b[1;32m    156\u001b[0m   \u001b[38;5;28mself\u001b[39m\u001b[38;5;241m.\u001b[39m_ref_traj\u001b[38;5;241m.\u001b[39mjoints[:, start_frame],\n\u001b[1;32m    157\u001b[0m ])\n\u001b[1;32m    158\u001b[0m qvel \u001b[38;5;241m=\u001b[39m jp\u001b[38;5;241m.\u001b[39mhstack([\n\u001b[1;32m    159\u001b[0m   \u001b[38;5;28mself\u001b[39m\u001b[38;5;241m.\u001b[39m_ref_traj\u001b[38;5;241m.\u001b[39mvelocity[:, start_frame],\n\u001b[1;32m    160\u001b[0m   \u001b[38;5;28mself\u001b[39m\u001b[38;5;241m.\u001b[39m_ref_traj\u001b[38;5;241m.\u001b[39mangular_velocity[:, start_frame],\n\u001b[1;32m    161\u001b[0m   \u001b[38;5;28mself\u001b[39m\u001b[38;5;241m.\u001b[39m_ref_traj\u001b[38;5;241m.\u001b[39mjoints_velocity[:, start_frame],\n\u001b[1;32m    162\u001b[0m ])\n\u001b[1;32m    163\u001b[0m data \u001b[38;5;241m=\u001b[39m \u001b[38;5;28mself\u001b[39m\u001b[38;5;241m.\u001b[39mpipeline_init(qpos, qvel) \u001b[38;5;66;03m# jp.zeros(self.sys.nv) \u001b[39;00m\n",
      "\u001b[0;31mKeyError\u001b[0m: 'position'"
     ]
    }
   ],
   "source": [
    "n = env.reset(key)"
   ]
  },
  {
   "cell_type": "code",
   "execution_count": null,
   "metadata": {},
   "outputs": [],
   "source": [
    "next = jit_reset(key)\n",
    "\n",
    "rollout = []\n",
    "for _ in range(100):\n",
    "    next = jit_step(next, random.uniform(key, shape=(env.sys.nu,)))\n"
   ]
  },
  {
   "cell_type": "code",
   "execution_count": null,
   "metadata": {},
   "outputs": [],
   "source": [
    "res = jax.tree_util.tree_map(\n",
    "    lambda x: jax.lax.dynamic_slice_in_dim(x, 3, 4, axis=1),\n",
    "    env._ref_traj,\n",
    ")"
   ]
  },
  {
   "cell_type": "code",
   "execution_count": null,
   "metadata": {},
   "outputs": [],
   "source": [
    "jax.tree_util.tree_map(\n",
    "    lambda x: print(x.shape),\n",
    "    env._ref_traj,\n",
    ")"
   ]
  },
  {
   "cell_type": "code",
   "execution_count": null,
   "metadata": {},
   "outputs": [],
   "source": [
    "env._ref_traj.body_positions[:,env.body_idxs]"
   ]
  },
  {
   "cell_type": "code",
   "execution_count": null,
   "metadata": {},
   "outputs": [],
   "source": [
    "env._ref_traj.angular_velocity.shape"
   ]
  },
  {
   "cell_type": "code",
   "execution_count": null,
   "metadata": {},
   "outputs": [],
   "source": [
    "# def slice_arrays(start_index, end_index):\n",
    "#     def slicer(x):\n",
    "#         if isinstance(x, jp.ndarray):\n",
    "#             return x[..., start_index:end_index]\n",
    "#         return x\n",
    "#     return slicer\n",
    "\n",
    "# sliced_tree = jax.tree_map(slice_arrays(0, 5), env._ref_traj)\n",
    "# sliced_tree.body_positions.shape"
   ]
  },
  {
   "cell_type": "code",
   "execution_count": null,
   "metadata": {},
   "outputs": [],
   "source": [
    "start_index = 0\n",
    "end_index = 5\n",
    "sliced_clip = env._ref_traj.slice_clip(start_index, end_index)\n",
    "sliced_clip.center_of_mass.shape"
   ]
  },
  {
   "cell_type": "markdown",
   "metadata": {},
   "source": [
    "# Creating state objects & reset_fn, get_obs_fn\n",
    "`reset_fn` and `get_obs_fn` is called when initilizing the environment and creating the state object"
   ]
  },
  {
   "cell_type": "code",
   "execution_count": null,
   "metadata": {},
   "outputs": [],
   "source": [
    "rng = random.PRNGKey(0)\n",
    "state = env.reset(rng)"
   ]
  },
  {
   "cell_type": "code",
   "execution_count": null,
   "metadata": {},
   "outputs": [],
   "source": [
    "state.info['start_frame']"
   ]
  },
  {
   "cell_type": "code",
   "execution_count": null,
   "metadata": {},
   "outputs": [],
   "source": [
    "env._ref_traj.velocity[:, state.info['start_frame']]"
   ]
  },
  {
   "cell_type": "code",
   "execution_count": null,
   "metadata": {},
   "outputs": [],
   "source": [
    "state.pipeline_state.xpos.shape"
   ]
  },
  {
   "cell_type": "code",
   "execution_count": null,
   "metadata": {},
   "outputs": [],
   "source": [
    "env._ref_traj.body_positions.shape"
   ]
  },
  {
   "cell_type": "code",
   "execution_count": null,
   "metadata": {},
   "outputs": [],
   "source": [
    "state.obs.shape"
   ]
  },
  {
   "cell_type": "markdown",
   "metadata": {},
   "source": [
    "end effector position"
   ]
  },
  {
   "cell_type": "code",
   "execution_count": null,
   "metadata": {},
   "outputs": [],
   "source": [
    "state.pipeline_state.xpos[jp.array(env._end_eff_idx)]"
   ]
  },
  {
   "cell_type": "code",
   "execution_count": null,
   "metadata": {},
   "outputs": [],
   "source": [
    "env._ref_traj.end_effectors.shape"
   ]
  },
  {
   "cell_type": "markdown",
   "metadata": {},
   "source": [
    "# Creating step_fn, reward_fn, & termination_fn\n",
    "`step_fn`, which calls `reward_fn` & `termination_fn` is only used when actually making action, not when setting up environment and state object"
   ]
  },
  {
   "cell_type": "code",
   "execution_count": null,
   "metadata": {},
   "outputs": [],
   "source": [
    "# rollout = [state.pipeline_state]\n",
    "# ctrl = jax.numpy.array(np.random.uniform(-1,1, env.sys.nu))\n",
    "# state = env.step(state, ctrl)\n",
    "# rollout.append(state.pipeline_state)"
   ]
  },
  {
   "cell_type": "code",
   "execution_count": null,
   "metadata": {},
   "outputs": [],
   "source": [
    "# media.show_video(env.render(rollout,camera='close_profile'), fps=1.0 / env.dt)"
   ]
  }
 ],
 "metadata": {
  "kernelspec": {
   "display_name": "rl",
   "language": "python",
   "name": "python3"
  },
  "language_info": {
   "codemirror_mode": {
    "name": "ipython",
    "version": 3
   },
   "file_extension": ".py",
   "mimetype": "text/x-python",
   "name": "python",
   "nbconvert_exporter": "python",
   "pygments_lexer": "ipython3",
   "version": "3.10.9"
  }
 },
 "nbformat": 4,
 "nbformat_minor": 2
}
