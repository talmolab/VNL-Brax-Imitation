{
 "cells": [
  {
   "cell_type": "code",
   "execution_count": 74,
   "metadata": {},
   "outputs": [
    {
     "name": "stdout",
     "output_type": "stream",
     "text": [
      "The autoreload extension is already loaded. To reload it, use:\n",
      "  %reload_ext autoreload\n"
     ]
    }
   ],
   "source": [
    "%load_ext autoreload\n",
    "%autoreload 2\n",
    "import jax\n",
    "from jax import random\n",
    "from environments import RodentSingleClipTrack\n",
    "\n",
    "params = {\n",
    "    \"scale_factor\": .9,\n",
    "    \"solver\": \"cg\",\n",
    "    \"iterations\": 6,\n",
    "    \"ls_iterations\": 3,\n",
    "    \"clip_path\": \"12_21_1_250.h5\",\n",
    "    \"end_eff_names\": [\n",
    "        \"foot_L\",\n",
    "        \"foot_R\",\n",
    "        \"hand_L\",\n",
    "        \"hand_R\",\n",
    "    ],\n",
    "}"
   ]
  },
  {
   "cell_type": "code",
   "execution_count": 75,
   "metadata": {},
   "outputs": [
    {
     "name": "stdout",
     "output_type": "stream",
     "text": [
      "<class 'numpy.ndarray'>\n"
     ]
    }
   ],
   "source": [
    "env = RodentSingleClipTrack(params)"
   ]
  },
  {
   "cell_type": "code",
   "execution_count": 57,
   "metadata": {},
   "outputs": [
    {
     "data": {
      "text/plain": [
       "numpy.ndarray"
      ]
     },
     "execution_count": 57,
     "metadata": {},
     "output_type": "execute_result"
    }
   ],
   "source": [
    "type(env._ref_traj.quaternion)"
   ]
  },
  {
   "cell_type": "code",
   "execution_count": 73,
   "metadata": {},
   "outputs": [
    {
     "name": "stdout",
     "output_type": "stream",
     "text": [
      "(74,) (73,)\n"
     ]
    },
    {
     "ename": "AttributeError",
     "evalue": "'RodentSingleClipTrack' object has no attribute 'full_ref_traj'",
     "output_type": "error",
     "traceback": [
      "\u001b[0;31m---------------------------------------------------------------------------\u001b[0m",
      "\u001b[0;31mAttributeError\u001b[0m                            Traceback (most recent call last)",
      "Cell \u001b[0;32mIn[73], line 2\u001b[0m\n\u001b[1;32m      1\u001b[0m rng \u001b[38;5;241m=\u001b[39m random\u001b[38;5;241m.\u001b[39mPRNGKey(\u001b[38;5;241m0\u001b[39m)\n\u001b[0;32m----> 2\u001b[0m state \u001b[38;5;241m=\u001b[39m \u001b[43menv\u001b[49m\u001b[38;5;241;43m.\u001b[39;49m\u001b[43mreset\u001b[49m\u001b[43m(\u001b[49m\u001b[43mrng\u001b[49m\u001b[43m)\u001b[49m\n",
      "File \u001b[0;32m~/GitHub/VNL-Brax-Imitation/environments.py:177\u001b[0m, in \u001b[0;36mRodentSingleClipTrack.reset\u001b[0;34m(self, rng)\u001b[0m\n\u001b[1;32m    174\u001b[0m \u001b[38;5;28mprint\u001b[39m(qpos\u001b[38;5;241m.\u001b[39mshape, qvel\u001b[38;5;241m.\u001b[39mshape)\n\u001b[1;32m    175\u001b[0m data \u001b[38;5;241m=\u001b[39m \u001b[38;5;28mself\u001b[39m\u001b[38;5;241m.\u001b[39mpipeline_init(qpos, qvel) \u001b[38;5;66;03m# jp.zeros(self.sys.nv) \u001b[39;00m\n\u001b[0;32m--> 177\u001b[0m obs \u001b[38;5;241m=\u001b[39m \u001b[38;5;28;43mself\u001b[39;49m\u001b[38;5;241;43m.\u001b[39;49m\u001b[43m_get_obs\u001b[49m\u001b[43m(\u001b[49m\u001b[43mdata\u001b[49m\u001b[43m,\u001b[49m\u001b[43m \u001b[49m\u001b[43mjp\u001b[49m\u001b[38;5;241;43m.\u001b[39;49m\u001b[43mzeros\u001b[49m\u001b[43m(\u001b[49m\u001b[38;5;28;43mself\u001b[39;49m\u001b[38;5;241;43m.\u001b[39;49m\u001b[43msys\u001b[49m\u001b[38;5;241;43m.\u001b[39;49m\u001b[43mnu\u001b[49m\u001b[43m)\u001b[49m\u001b[43m)\u001b[49m\n\u001b[1;32m    178\u001b[0m reward, done, zero \u001b[38;5;241m=\u001b[39m jp\u001b[38;5;241m.\u001b[39mzeros(\u001b[38;5;241m3\u001b[39m)\n\u001b[1;32m    179\u001b[0m metrics \u001b[38;5;241m=\u001b[39m {\n\u001b[1;32m    180\u001b[0m     \u001b[38;5;124m'\u001b[39m\u001b[38;5;124mforward_reward\u001b[39m\u001b[38;5;124m'\u001b[39m: zero,\n\u001b[1;32m    181\u001b[0m     \u001b[38;5;124m'\u001b[39m\u001b[38;5;124mreward_linvel\u001b[39m\u001b[38;5;124m'\u001b[39m: zero,\n\u001b[0;32m   (...)\u001b[0m\n\u001b[1;32m    188\u001b[0m     \u001b[38;5;124m'\u001b[39m\u001b[38;5;124my_velocity\u001b[39m\u001b[38;5;124m'\u001b[39m: zero,\n\u001b[1;32m    189\u001b[0m }\n",
      "File \u001b[0;32m~/GitHub/VNL-Brax-Imitation/environments.py:269\u001b[0m, in \u001b[0;36mRodentSingleClipTrack._get_obs\u001b[0;34m(self, data, action)\u001b[0m\n\u001b[1;32m    263\u001b[0m \u001b[38;5;250m\u001b[39m\u001b[38;5;124;03m\"\"\"\u001b[39;00m\n\u001b[1;32m    264\u001b[0m \u001b[38;5;124;03m  Gets reference trajectory obs along with env state obs \u001b[39;00m\n\u001b[1;32m    265\u001b[0m \u001b[38;5;124;03m\"\"\"\u001b[39;00m\n\u001b[1;32m    266\u001b[0m \u001b[38;5;66;03m# I don't think the order matters as long as it's consistent?\u001b[39;00m\n\u001b[1;32m    267\u001b[0m \u001b[38;5;66;03m# return the reference traj concatenated with the state obs. reference traj goes in the encoder\u001b[39;00m\n\u001b[1;32m    268\u001b[0m \u001b[38;5;66;03m# and the rest of the obs go straight to the decoder\u001b[39;00m\n\u001b[0;32m--> 269\u001b[0m ref_traj \u001b[38;5;241m=\u001b[39m \u001b[38;5;28;43mself\u001b[39;49m\u001b[38;5;241;43m.\u001b[39;49m\u001b[43mfull_ref_traj\u001b[49m\u001b[38;5;241m.\u001b[39mqpos[i:i\u001b[38;5;241m+\u001b[39m\u001b[38;5;241m5\u001b[39m]\n\u001b[1;32m    270\u001b[0m ref_traj \u001b[38;5;241m=\u001b[39m \u001b[38;5;28mself\u001b[39m\u001b[38;5;241m.\u001b[39mget_reference_rel_bodies_pos_local(data, ref_traj)\n\u001b[1;32m    272\u001b[0m end_effectors \u001b[38;5;241m=\u001b[39m data\u001b[38;5;241m.\u001b[39mxpos[\u001b[38;5;28mself\u001b[39m\u001b[38;5;241m.\u001b[39m_end_eff_idx]\n",
      "\u001b[0;31mAttributeError\u001b[0m: 'RodentSingleClipTrack' object has no attribute 'full_ref_traj'"
     ]
    }
   ],
   "source": [
    "rng = random.PRNGKey(0)\n",
    "state = env.reset(rng)"
   ]
  },
  {
   "cell_type": "code",
   "execution_count": null,
   "metadata": {},
   "outputs": [],
   "source": []
  }
 ],
 "metadata": {
  "kernelspec": {
   "display_name": "rl",
   "language": "python",
   "name": "python3"
  },
  "language_info": {
   "codemirror_mode": {
    "name": "ipython",
    "version": 3
   },
   "file_extension": ".py",
   "mimetype": "text/x-python",
   "name": "python",
   "nbconvert_exporter": "python",
   "pygments_lexer": "ipython3",
   "version": "3.11.8"
  }
 },
 "nbformat": 4,
 "nbformat_minor": 2
}
