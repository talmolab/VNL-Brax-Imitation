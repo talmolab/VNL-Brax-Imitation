{
  "cells": [
    {
      "cell_type": "markdown",
      "metadata": {
        "id": "ssCOanHc8JH_"
      },
      "source": [
        "# Training in Brax For Humanoid Expert Rendering\n",
        "\n",
        "Once an environment is created in brax, we can quickly train it using brax's built-in training algorithms. Let's try it out!"
      ]
    },
    {
      "cell_type": "code",
      "execution_count": 1,
      "metadata": {
        "executionInfo": {
          "elapsed": 22308,
          "status": "ok",
          "timestamp": 1679686324614,
          "user": {
            "displayName": "",
            "userId": ""
          },
          "user_tz": 240
        },
        "id": "kUrAlZTod7t_"
      },
      "outputs": [],
      "source": [
        "import functools\n",
        "import jax\n",
        "import os\n",
        "\n",
        "from datetime import datetime\n",
        "from jax import numpy as jp\n",
        "import matplotlib.pyplot as plt\n",
        "\n",
        "from IPython.display import HTML, clear_output\n",
        "\n",
        "import brax\n",
        "import flax\n",
        "from brax import envs\n",
        "from brax.io import model\n",
        "from brax.io import json\n",
        "from brax.io import html\n",
        "from brax.training.agents.ppo import train as ppo\n",
        "from brax.training.agents.sac import train as sac\n",
        "\n",
        "import mediapy as media\n",
        "import matplotlib.pyplot as plt"
      ]
    },
    {
      "cell_type": "markdown",
      "metadata": {
        "id": "eoyyw6pQ3xVJ"
      },
      "source": [
        "First let's pick an environment and a backend to train an agent in. \n",
        "\n",
        "Recall from the [Brax Basics](https://github.com/google/brax/blob/main/notebooks/basics.ipynb) colab, that the backend specifies which physics engine to use, each with different trade-offs between physical realism and training throughput/speed. The engines generally decrease in physical realism but increase in speed in the following order: `generalized`,  `positional`, then `spring`.\n"
      ]
    },
    {
      "cell_type": "code",
      "execution_count": 2,
      "metadata": {
        "colab": {
          "height": 480
        },
        "executionInfo": {
          "elapsed": 6143,
          "status": "ok",
          "timestamp": 1679686333304,
          "user": {
            "displayName": "",
            "userId": ""
          },
          "user_tz": 240
        },
        "id": "4hHuDp53e4VJ",
        "outputId": "90d4c41b-9a25-4ca4-c6be-93172ea9ef57"
      },
      "outputs": [
        {
          "data": {
            "text/html": [
              "<!DOCTYPE html>\n",
              "<html>\n",
              "\n",
              "  <head>\n",
              "    <title>Brax visualizer</title>\n",
              "    <link rel=\"shortcut icon\" type=\"image/x-icon\" href=\"/favicon.ico\">\n",
              "  </head>\n",
              "\n",
              "  <style>\n",
              "    body {\n",
              "      margin: 0;\n",
              "      padding: 0;\n",
              "    }\n",
              "\n",
              "    #brax-viewer {\n",
              "      height: 480px;\n",
              "      margin: 0;\n",
              "      padding: 0;\n",
              "    }\n",
              "  </style>\n",
              "  <script async src=\"https://unpkg.com/es-module-shims@1.6.3/dist/es-module-shims.js\"></script>\n",
              "\n",
              "  <script type=\"importmap\">\n",
              "    {\n",
              "      \"imports\": {\n",
              "        \"three\": \"https://unpkg.com/three@0.150.1/build/three.module.js\",\n",
              "        \"three/addons/\": \"https://unpkg.com/three@0.150.1/examples/jsm/\",\n",
              "        \"lilgui\": \"https://cdn.jsdelivr.net/npm/lil-gui@0.18.0/+esm\",\n",
              "        \"viewer\": \"https://cdn.jsdelivr.net/gh/google/brax@v0.10.3/brax/visualizer/js/viewer.js\"\n",
              "      }\n",
              "    }\n",
              "  </script>\n",
              "\n",
              "  <script type=\"application/javascript\">\n",
              "  var system = {\"dt\": 0.0015, \"link_names\": [\"torso\", \"lwaist\", \"pelvis\", \"right_thigh\", \"right_shin\", \"left_thigh\", \"left_shin\", \"right_upper_arm\", \"right_lower_arm\", \"left_upper_arm\", \"left_lower_arm\"], \"name\": \"System\", \"geoms\": {\"world\": [{\"name\": \"Plane\", \"link_idx\": -1, \"pos\": [0.0, 0.0, 0.0], \"rot\": [1.0, 0.0, 0.0, 0.0], \"rgba\": [0.4, 0.33, 0.26, 1.0], \"size\": [20.0, 20.0, 0.125]}], \"torso\": [{\"name\": \"Capsule\", \"link_idx\": 0, \"pos\": [0.0, 0.0, 0.0], \"rot\": [0.7071067690849304, 0.7071067690849304, 0.0, -0.0], \"rgba\": [0.4000000059604645, 0.33000001311302185, 0.25999999046325684, 1.0], \"size\": [0.07000000029802322, 0.07000000029802322, 0.0]}, {\"name\": \"Sphere\", \"link_idx\": 0, \"pos\": [0.0, 0.0, 0.1899999976158142], \"rot\": [1.0, 0.0, 0.0, 0.0], \"rgba\": [0.4000000059604645, 0.33000001311302185, 0.25999999046325684, 1.0], \"size\": [0.09000000357627869, 0.0, 0.0]}, {\"name\": \"Capsule\", \"link_idx\": 0, \"pos\": [-0.009999999776482582, 0.0, -0.11999999731779099], \"rot\": [0.7071067690849304, 0.7071067690849304, 0.0, -0.0], \"rgba\": [0.4000000059604645, 0.33000001311302185, 0.25999999046325684, 1.0], \"size\": [0.05999999865889549, 0.05999999865889549, 0.0]}], \"lwaist\": [{\"name\": \"Capsule\", \"link_idx\": 1, \"pos\": [0.0, 0.0, 0.0], \"rot\": [0.7071067690849304, 0.7071067690849304, 0.0, -0.0], \"rgba\": [0.4000000059604645, 0.33000001311302185, 0.25999999046325684, 1.0], \"size\": [0.05999999865889549, 0.05999999865889549, 0.0]}], \"pelvis\": [{\"name\": \"Capsule\", \"link_idx\": 2, \"pos\": [-0.019999999552965164, 0.0, 0.0], \"rot\": [0.7071067690849304, 0.7071067690849304, 0.0, -0.0], \"rgba\": [0.4000000059604645, 0.33000001311302185, 0.25999999046325684, 1.0], \"size\": [0.09000000357627869, 0.07000000029802322, 0.0]}], \"right_thigh\": [{\"name\": \"Capsule\", \"link_idx\": 3, \"pos\": [0.0, 0.004999999888241291, -0.17000000178813934], \"rot\": [0.9998919367790222, 0.0147011149674654, 0.0, -0.0], \"rgba\": [0.4000000059604645, 0.33000001311302185, 0.25999999046325684, 1.0], \"size\": [0.05999999865889549, 0.1700735092163086, 0.0]}], \"right_shin\": [{\"name\": \"Capsule\", \"link_idx\": 4, \"pos\": [0.0, 0.0, -0.15000000596046448], \"rot\": [1.0, 0.0, 0.0, 0.0], \"rgba\": [0.4000000059604645, 0.33000001311302185, 0.25999999046325684, 1.0], \"size\": [0.04899999871850014, 0.15000000596046448, 0.0]}, {\"name\": \"Sphere\", \"link_idx\": 4, \"pos\": [0.0, 0.0, -0.3499999940395355], \"rot\": [1.0, 0.0, 0.0, 0.0], \"rgba\": [0.4000000059604645, 0.33000001311302185, 0.25999999046325684, 1.0], \"size\": [0.07500000298023224, 0.0, 0.0]}], \"left_thigh\": [{\"name\": \"Capsule\", \"link_idx\": 5, \"pos\": [0.0, -0.004999999888241291, -0.17000000178813934], \"rot\": [0.9998919367790222, -0.0147011149674654, 0.0, 0.0], \"rgba\": [0.4000000059604645, 0.33000001311302185, 0.25999999046325684, 1.0], \"size\": [0.05999999865889549, 0.1700735092163086, 0.0]}], \"left_shin\": [{\"name\": \"Capsule\", \"link_idx\": 6, \"pos\": [0.0, 0.0, -0.15000000596046448], \"rot\": [1.0, 0.0, 0.0, 0.0], \"rgba\": [0.4000000059604645, 0.33000001311302185, 0.25999999046325684, 1.0], \"size\": [0.04899999871850014, 0.15000000596046448, 0.0]}, {\"name\": \"Sphere\", \"link_idx\": 6, \"pos\": [0.0, 0.0, -0.3499999940395355], \"rot\": [1.0, 0.0, 0.0, 0.0], \"rgba\": [0.4000000059604645, 0.33000001311302185, 0.25999999046325684, 1.0], \"size\": [0.07500000298023224, 0.0, 0.0]}], \"right_upper_arm\": [{\"name\": \"Capsule\", \"link_idx\": 7, \"pos\": [0.07999999821186066, -0.07999999821186066, -0.07999999821186066], \"rot\": [0.8880738615989685, -0.32505759596824646, -0.32505759596824646, 0.0], \"rgba\": [0.4000000059604645, 0.33000001311302185, 0.25999999046325684, 1.0], \"size\": [0.03999999910593033, 0.1385640650987625, 0.0]}], \"right_lower_arm\": [{\"name\": \"Capsule\", \"link_idx\": 8, \"pos\": [0.09000000357627869, 0.09000000357627869, 0.09000000357627869], \"rot\": [0.4597008526325226, 0.6279630064964294, -0.6279630064964294, 0.0], \"rgba\": [0.4000000059604645, 0.33000001311302185, 0.25999999046325684, 1.0], \"size\": [0.03099999949336052, 0.1385640650987625, 0.0]}, {\"name\": \"Sphere\", \"link_idx\": 8, \"pos\": [0.18000000715255737, 0.18000000715255737, 0.18000000715255737], \"rot\": [1.0, 0.0, 0.0, 0.0], \"rgba\": [0.4000000059604645, 0.33000001311302185, 0.25999999046325684, 1.0], \"size\": [0.03999999910593033, 0.0, 0.0]}], \"left_upper_arm\": [{\"name\": \"Capsule\", \"link_idx\": 9, \"pos\": [0.07999999821186066, 0.07999999821186066, -0.07999999821186066], \"rot\": [0.8880738615989685, 0.32505759596824646, -0.32505759596824646, 0.0], \"rgba\": [0.4000000059604645, 0.33000001311302185, 0.25999999046325684, 1.0], \"size\": [0.03999999910593033, 0.1385640650987625, 0.0]}], \"left_lower_arm\": [{\"name\": \"Capsule\", \"link_idx\": 10, \"pos\": [0.09000000357627869, -0.09000000357627869, 0.09000000357627869], \"rot\": [0.4597008526325226, -0.6279630064964294, -0.6279630064964294, 0.0], \"rgba\": [0.4000000059604645, 0.33000001311302185, 0.25999999046325684, 1.0], \"size\": [0.03099999949336052, 0.1385640650987625, 0.0]}, {\"name\": \"Sphere\", \"link_idx\": 10, \"pos\": [0.18000000715255737, -0.18000000715255737, 0.18000000715255737], \"rot\": [1.0, 0.0, 0.0, 0.0], \"rgba\": [0.4000000059604645, 0.33000001311302185, 0.25999999046325684, 1.0], \"size\": [0.03999999910593033, 0.0, 0.0]}]}, \"states\": {\"x\": {\"pos\": [[[-0.006359992083162069, -0.008605253882706165, 1.4031633138656616], [-0.012727953493595123, -0.006916251499205828, 1.1447547674179077], [-0.008712464943528175, -0.005132097285240889, 0.9808758497238159], [-0.007185039576143026, -0.10392747074365616, 0.939785361289978], [0.00333851994946599, -0.09034591913223267, 0.5396226644515991], [-0.007976075634360313, 0.09476597607135773, 0.9425206780433655], [0.005122775211930275, 0.09235410392284393, 0.5422112941741943], [-0.008060287684202194, -0.17788097262382507, 1.4616968631744385], [0.16949762403964996, -0.3576493263244629, 1.2825031280517578], [-0.006039501167833805, 0.1599196493625641, 1.4638476371765137], [0.1781940460205078, 0.3380663990974426, 1.289848804473877]]], \"rot\": [[[0.9999738335609436, 0.0031660599634051323, -0.0057770200073719025, -0.003009348176419735], [0.9999182820320129, 0.0031303672585636377, -0.012262546457350254, 0.0018445332534611225], [0.9998727440834045, 0.006910340860486031, -0.014255308546125889, 0.0018921206938102841], [0.999901294708252, 0.004568224772810936, -0.013242754153907299, -0.001122131710872054], [0.9999329447746277, 0.004571191500872374, -0.010584848001599312, -0.00110998481977731], [0.9998198747634888, 0.009331237524747849, -0.016080016270279884, 0.003825925290584564], [0.9997400045394897, 0.009347873739898205, -0.02045070379972458, 0.0037850956432521343], [0.9999727606773376, 0.0034357814583927393, -0.0024715482722967863, -0.0060494448989629745], [0.9999659657478333, 0.0034474229905754328, -0.0010999072110280395, -0.007411675993353128], [0.9999309182167053, 0.0040095155127346516, -0.009397310204803944, -0.005812441930174828], [0.9998898506164551, 0.004017879720777273, -0.011726981960237026, -0.008160891011357307]]], \"name\": \"Transform\"}, \"contact\": null}};\n",
              "  </script>\n",
              "\n",
              "  <body>\n",
              "\n",
              "    <div id=\"brax-viewer\"></div>\n",
              "\n",
              "    <script type=\"module\">\n",
              "      import {Viewer} from 'viewer';\n",
              "      const domElement = document.getElementById(\"brax-viewer\");\n",
              "      var viewer = new Viewer(domElement, system);\n",
              "    </script>\n",
              "\n",
              "  </body>\n",
              "\n",
              "</html>"
            ],
            "text/plain": [
              "<IPython.core.display.HTML object>"
            ]
          },
          "execution_count": 2,
          "metadata": {},
          "output_type": "execute_result"
        }
      ],
      "source": [
        "env_name = 'humanoid'  # @param ['ant', 'halfcheetah', 'hopper', 'humanoid', 'humanoidstandup', 'inverted_pendulum', 'inverted_double_pendulum', 'pusher', 'reacher', 'walker2d']\n",
        "backend = 'positional'  # @param ['generalized', 'positional', 'spring']\n",
        "\n",
        "env = envs.get_environment(env_name=env_name,\n",
        "                           backend=backend)\n",
        "state = jax.jit(env.reset)(rng=jax.random.PRNGKey(seed=0))\n",
        "\n",
        "HTML(html.render(env.sys, [state.pipeline_state]))"
      ]
    },
    {
      "cell_type": "markdown",
      "metadata": {
        "id": "GMailSDb30t-"
      },
      "source": [
        "# Training\n",
        "\n",
        "Brax provides out of the box the following training algorithms:\n",
        "\n",
        "* [Proximal policy optimization](https://github.com/google/brax/blob/main/brax/training/agents/ppo/train.py)\n",
        "* [Soft actor-critic](https://github.com/google/brax/blob/main/brax/training/agents/sac/train.py)\n",
        "* [Evolutionary strategy](https://github.com/google/brax/blob/main/brax/training/agents/es/train.py)\n",
        "* [Analytic policy gradients](https://github.com/google/brax/blob/main/brax/training/agents/apg/train.py)\n",
        "* [Augmented random search](https://github.com/google/brax/blob/main/brax/training/agents/ars/train.py)\n",
        "\n",
        "Trainers take as input an environment function and some hyperparameters, and return an inference function to operate the environment."
      ]
    },
    {
      "cell_type": "markdown",
      "metadata": {
        "id": "y3MA1UYlftuq"
      },
      "source": [
        "# Training\n",
        "\n",
        "Let's train the Ant policy using the `generalized` backend with PPO."
      ]
    },
    {
      "cell_type": "code",
      "execution_count": 6,
      "metadata": {
        "colab": {
          "height": 321
        },
        "executionInfo": {
          "elapsed": 190263,
          "status": "ok",
          "timestamp": 1671658344336,
          "user": {
            "displayName": "",
            "userId": ""
          },
          "user_tz": 300
        },
        "id": "FB6G2_Yt4A2m",
        "outputId": "402a0a43-3525-4eca-a425-ffcc71e8db0f"
      },
      "outputs": [
        {
          "data": {
            "image/png": "[encoded data removed]",
            "text/plain": [
              "<Figure size 640x480 with 1 Axes>"
            ]
          },
          "metadata": {},
          "output_type": "display_data"
        }
      ],
      "source": [
        "# We determined some reasonable hyperparameters offline and share them here.\n",
        "train_fn = {\n",
        "  'inverted_pendulum': functools.partial(ppo.train, num_timesteps=2_000_000, num_evals=20, reward_scaling=10, episode_length=1000, normalize_observations=True, action_repeat=1, unroll_length=5, num_minibatches=32, num_updates_per_batch=4, discounting=0.97, learning_rate=3e-4, entropy_cost=1e-2, num_envs=2048, batch_size=1024, seed=1),\n",
        "  'inverted_double_pendulum': functools.partial(ppo.train, num_timesteps=20_000_000, num_evals=20, reward_scaling=10, episode_length=1000, normalize_observations=True, action_repeat=1, unroll_length=5, num_minibatches=32, num_updates_per_batch=4, discounting=0.97, learning_rate=3e-4, entropy_cost=1e-2, num_envs=2048, batch_size=1024, seed=1),\n",
        "  'ant': functools.partial(ppo.train,  num_timesteps=50_000_000, num_evals=10, reward_scaling=10, episode_length=1000, normalize_observations=True, action_repeat=1, unroll_length=5, num_minibatches=32, num_updates_per_batch=4, discounting=0.97, learning_rate=3e-4, entropy_cost=1e-2, num_envs=4096, batch_size=2048, seed=1),\n",
        "  'humanoid': functools.partial(ppo.train,  num_timesteps=50_000_000, num_evals=10, reward_scaling=0.1, episode_length=1000, normalize_observations=True, action_repeat=1, unroll_length=10, num_minibatches=32, num_updates_per_batch=8, discounting=0.97, learning_rate=3e-4, entropy_cost=1e-3, num_envs=2048, batch_size=1024, seed=1),\n",
        "  'reacher': functools.partial(ppo.train, num_timesteps=50_000_000, num_evals=20, reward_scaling=5, episode_length=1000, normalize_observations=True, action_repeat=4, unroll_length=50, num_minibatches=32, num_updates_per_batch=8, discounting=0.95, learning_rate=3e-4, entropy_cost=1e-3, num_envs=2048, batch_size=256, max_devices_per_host=8, seed=1),\n",
        "  'humanoidstandup': functools.partial(ppo.train, num_timesteps=100_000_000, num_evals=20, reward_scaling=0.1, episode_length=1000, normalize_observations=True, action_repeat=1, unroll_length=15, num_minibatches=32, num_updates_per_batch=8, discounting=0.97, learning_rate=6e-4, entropy_cost=1e-2, num_envs=2048, batch_size=1024, seed=1),\n",
        "  'hopper': functools.partial(sac.train, num_timesteps=6_553_600, num_evals=20, reward_scaling=30, episode_length=1000, normalize_observations=True, action_repeat=1, discounting=0.997, learning_rate=6e-4, num_envs=128, batch_size=512, grad_updates_per_step=64, max_devices_per_host=1, max_replay_size=1048576, min_replay_size=8192, seed=1),\n",
        "  'walker2d': functools.partial(sac.train, num_timesteps=7_864_320, num_evals=20, reward_scaling=5, episode_length=1000, normalize_observations=True, action_repeat=1, discounting=0.997, learning_rate=6e-4, num_envs=128, batch_size=128, grad_updates_per_step=32, max_devices_per_host=1, max_replay_size=1048576, min_replay_size=8192, seed=1),\n",
        "  'halfcheetah': functools.partial(ppo.train, num_timesteps=50_000_000, num_evals=20, reward_scaling=1, episode_length=1000, normalize_observations=True, action_repeat=1, unroll_length=20, num_minibatches=32, num_updates_per_batch=8, discounting=0.95, learning_rate=3e-4, entropy_cost=0.001, num_envs=2048, batch_size=512, seed=3),\n",
        "  'pusher': functools.partial(ppo.train, num_timesteps=50_000_000, num_evals=20, reward_scaling=5, episode_length=1000, normalize_observations=True, action_repeat=1, unroll_length=30, num_minibatches=16, num_updates_per_batch=8, discounting=0.95, learning_rate=3e-4,entropy_cost=1e-2, num_envs=2048, batch_size=512, seed=3),\n",
        "}[env_name]\n",
        "\n",
        "\n",
        "max_y = {'ant': 8000, 'halfcheetah': 8000, 'hopper': 2500, 'humanoid': 13000, 'humanoidstandup': 75_000, 'reacher': 5, 'walker2d': 5000, 'pusher': 0}[env_name]\n",
        "min_y = {'reacher': -100, 'pusher': -150}.get(env_name, 0)\n",
        "\n",
        "xdata, ydata = [], []\n",
        "times = [datetime.now()]\n",
        "\n",
        "def progress(num_steps, metrics):\n",
        "  times.append(datetime.now())\n",
        "  xdata.append(num_steps)\n",
        "  ydata.append(metrics['eval/episode_reward'])\n",
        "  clear_output(wait=True)\n",
        "  plt.xlim([0, train_fn.keywords['num_timesteps']])\n",
        "  plt.ylim([min_y, max_y])\n",
        "  plt.xlabel('# environment steps')\n",
        "  plt.ylabel('reward per episode')\n",
        "  plt.plot(xdata, ydata)\n",
        "  plt.show()\n",
        "\n",
        "make_inference_fn, params, _ = train_fn(environment=env, progress_fn=progress)\n",
        "\n",
        "print(f'time to jit: {times[1] - times[0]}')\n",
        "print(f'time to train: {times[-1] - times[1]}')"
      ]
    },
    {
      "cell_type": "markdown",
      "metadata": {
        "id": "bjlh7puy2ZM1"
      },
      "source": [
        "The trainers return an inference function, parameters, and the final set of metrics gathered during evaluation.\n",
        "\n",
        "# Saving Policies\n",
        "\n",
        "Brax can save and load trained policies:"
      ]
    },
    {
      "cell_type": "code",
      "execution_count": 4,
      "metadata": {
        "id": "gOWeDqlP35sI"
      },
      "outputs": [],
      "source": [
        "model.save_params('expert_policy/humanoid_params', params)"
      ]
    },
    {
      "cell_type": "markdown",
      "metadata": {
        "id": "4YlZvIG320sK"
      },
      "source": [
        "The trainers return an inference function, parameters, and the final set of metrics gathered during evaluation.\n",
        "\n",
        "# Loading Policies\n",
        "\n",
        "Brax can save and load trained policies:"
      ]
    },
    {
      "cell_type": "code",
      "execution_count": 5,
      "metadata": {
        "colab": {
          "height": 480
        },
        "executionInfo": {
          "elapsed": 33520,
          "status": "ok",
          "timestamp": 1679346718844,
          "user": {
            "displayName": "",
            "userId": ""
          },
          "user_tz": 240
        },
        "id": "kF5fS-yo35sI",
        "outputId": "94d1a7d5-8d6e-456c-8cfd-94a689b8808f"
      },
      "outputs": [
        {
          "ename": "NameError",
          "evalue": "name 'make_inference_fn' is not defined",
          "output_type": "error",
          "traceback": [
            "\u001b[0;31m---------------------------------------------------------------------------\u001b[0m",
            "\u001b[0;31mNameError\u001b[0m                                 Traceback (most recent call last)",
            "Cell \u001b[0;32mIn[5], line 6\u001b[0m\n\u001b[1;32m      1\u001b[0m \u001b[38;5;66;03m#@title Visualizing a trajectory of the learned inference function\u001b[39;00m\n\u001b[1;32m      2\u001b[0m \n\u001b[1;32m      3\u001b[0m \u001b[38;5;66;03m# create an env with auto-reset\u001b[39;00m\n\u001b[1;32m      5\u001b[0m params \u001b[38;5;241m=\u001b[39m model\u001b[38;5;241m.\u001b[39mload_params(\u001b[38;5;124m'\u001b[39m\u001b[38;5;124mexpert_policy/humanoid_params\u001b[39m\u001b[38;5;124m'\u001b[39m)\n\u001b[0;32m----> 6\u001b[0m inference_fn \u001b[38;5;241m=\u001b[39m \u001b[43mmake_inference_fn\u001b[49m(params)\n\u001b[1;32m      8\u001b[0m env \u001b[38;5;241m=\u001b[39m envs\u001b[38;5;241m.\u001b[39mcreate(env_name\u001b[38;5;241m=\u001b[39menv_name, backend\u001b[38;5;241m=\u001b[39mbackend)\n\u001b[1;32m     10\u001b[0m jit_env_reset \u001b[38;5;241m=\u001b[39m jax\u001b[38;5;241m.\u001b[39mjit(env\u001b[38;5;241m.\u001b[39mreset)\n",
            "\u001b[0;31mNameError\u001b[0m: name 'make_inference_fn' is not defined"
          ]
        }
      ],
      "source": [
        "#@title Visualizing a trajectory of the learned inference function\n",
        "\n",
        "# create an env with auto-reset\n",
        "\n",
        "params = model.load_params('expert_policy/humanoid_params')\n",
        "inference_fn = make_inference_fn(params)\n",
        "\n",
        "env = envs.create(env_name=env_name, backend=backend)\n",
        "\n",
        "jit_env_reset = jax.jit(env.reset)\n",
        "jit_env_step = jax.jit(env.step)\n",
        "jit_inference_fn = jax.jit(inference_fn)\n",
        "\n",
        "rollout = []\n",
        "rng = jax.random.PRNGKey(seed=1)\n",
        "state = jit_env_reset(rng=rng)\n",
        "for _ in range(1000):\n",
        "  rollout.append(state.pipeline_state)\n",
        "  act_rng, rng = jax.random.split(rng)\n",
        "  act, _ = jit_inference_fn(state.obs, act_rng)\n",
        "  state = jit_env_step(state, act)\n",
        "\n",
        "HTML(html.render(env.sys.tree_replace({'opt.timestep': env.dt}), rollout))"
      ]
    },
    {
      "cell_type": "code",
      "execution_count": 21,
      "metadata": {},
      "outputs": [
        {
          "ename": "RuntimeError",
          "evalue": "Program 'ffmpeg' is not found; perhaps install ffmpeg using 'apt install ffmpeg'.",
          "output_type": "error",
          "traceback": [
            "\u001b[0;31m---------------------------------------------------------------------------\u001b[0m",
            "\u001b[0;31mRuntimeError\u001b[0m                              Traceback (most recent call last)",
            "Cell \u001b[0;32mIn[21], line 34\u001b[0m\n\u001b[1;32m     31\u001b[0m   \u001b[38;5;28;01mif\u001b[39;00m state\u001b[38;5;241m.\u001b[39mdone:\n\u001b[1;32m     32\u001b[0m     \u001b[38;5;28;01mbreak\u001b[39;00m\n\u001b[0;32m---> 34\u001b[0m \u001b[43mmedia\u001b[49m\u001b[38;5;241;43m.\u001b[39;49m\u001b[43mshow_video\u001b[49m\u001b[43m(\u001b[49m\u001b[43menv\u001b[49m\u001b[38;5;241;43m.\u001b[39;49m\u001b[43mrender\u001b[49m\u001b[43m(\u001b[49m\u001b[43mrollout\u001b[49m\u001b[43m[\u001b[49m\u001b[43m:\u001b[49m\u001b[43m:\u001b[49m\u001b[43mrender_every\u001b[49m\u001b[43m]\u001b[49m\u001b[43m,\u001b[49m\u001b[43m \u001b[49m\u001b[43mcamera\u001b[49m\u001b[38;5;241;43m=\u001b[39;49m\u001b[38;5;124;43m'\u001b[39;49m\u001b[38;5;124;43mtrack\u001b[39;49m\u001b[38;5;124;43m'\u001b[39;49m\u001b[43m)\u001b[49m\u001b[43m,\u001b[49m\u001b[43m \u001b[49m\u001b[43mfps\u001b[49m\u001b[38;5;241;43m=\u001b[39;49m\u001b[38;5;241;43m1.0\u001b[39;49m\u001b[43m \u001b[49m\u001b[38;5;241;43m/\u001b[39;49m\u001b[43m \u001b[49m\u001b[43menv\u001b[49m\u001b[38;5;241;43m.\u001b[39;49m\u001b[43mdt\u001b[49m\u001b[43m \u001b[49m\u001b[38;5;241;43m/\u001b[39;49m\u001b[43m \u001b[49m\u001b[43mrender_every\u001b[49m\u001b[43m)\u001b[49m\n",
            "File \u001b[0;32m~/anaconda3/envs/vnl/lib/python3.11/site-packages/mediapy/__init__.py:1862\u001b[0m, in \u001b[0;36mshow_video\u001b[0;34m(images, title, **kwargs)\u001b[0m\n\u001b[1;32m   1839\u001b[0m \u001b[38;5;28;01mdef\u001b[39;00m \u001b[38;5;21mshow_video\u001b[39m(\n\u001b[1;32m   1840\u001b[0m     images: Iterable[_NDArray], \u001b[38;5;241m*\u001b[39m, title: \u001b[38;5;28mstr\u001b[39m \u001b[38;5;241m|\u001b[39m \u001b[38;5;28;01mNone\u001b[39;00m \u001b[38;5;241m=\u001b[39m \u001b[38;5;28;01mNone\u001b[39;00m, \u001b[38;5;241m*\u001b[39m\u001b[38;5;241m*\u001b[39mkwargs: Any\n\u001b[1;32m   1841\u001b[0m ) \u001b[38;5;241m-\u001b[39m\u001b[38;5;241m>\u001b[39m \u001b[38;5;28mstr\u001b[39m \u001b[38;5;241m|\u001b[39m \u001b[38;5;28;01mNone\u001b[39;00m:\n\u001b[1;32m   1842\u001b[0m \u001b[38;5;250m  \u001b[39m\u001b[38;5;124;03m\"\"\"Displays a video in the IPython notebook and optionally saves it to a file.\u001b[39;00m\n\u001b[1;32m   1843\u001b[0m \n\u001b[1;32m   1844\u001b[0m \u001b[38;5;124;03m  See `show_videos`.\u001b[39;00m\n\u001b[0;32m   (...)\u001b[0m\n\u001b[1;32m   1860\u001b[0m \u001b[38;5;124;03m    html string if `return_html` is `True`.\u001b[39;00m\n\u001b[1;32m   1861\u001b[0m \u001b[38;5;124;03m  \"\"\"\u001b[39;00m\n\u001b[0;32m-> 1862\u001b[0m   \u001b[38;5;28;01mreturn\u001b[39;00m \u001b[43mshow_videos\u001b[49m\u001b[43m(\u001b[49m\u001b[43m[\u001b[49m\u001b[43mimages\u001b[49m\u001b[43m]\u001b[49m\u001b[43m,\u001b[49m\u001b[43m \u001b[49m\u001b[43m[\u001b[49m\u001b[43mtitle\u001b[49m\u001b[43m]\u001b[49m\u001b[43m,\u001b[49m\u001b[43m \u001b[49m\u001b[38;5;241;43m*\u001b[39;49m\u001b[38;5;241;43m*\u001b[39;49m\u001b[43mkwargs\u001b[49m\u001b[43m)\u001b[49m\n",
            "File \u001b[0;32m~/anaconda3/envs/vnl/lib/python3.11/site-packages/mediapy/__init__.py:1944\u001b[0m, in \u001b[0;36mshow_videos\u001b[0;34m(videos, titles, width, height, downsample, columns, fps, bps, qp, codec, ylabel, html_class, return_html, **kwargs)\u001b[0m\n\u001b[1;32m   1942\u001b[0m   video \u001b[38;5;241m=\u001b[39m [resize_image(image, (h, w)) \u001b[38;5;28;01mfor\u001b[39;00m image \u001b[38;5;129;01min\u001b[39;00m video]\n\u001b[1;32m   1943\u001b[0m   first_image \u001b[38;5;241m=\u001b[39m video[\u001b[38;5;241m0\u001b[39m]\n\u001b[0;32m-> 1944\u001b[0m data \u001b[38;5;241m=\u001b[39m \u001b[43mcompress_video\u001b[49m\u001b[43m(\u001b[49m\n\u001b[1;32m   1945\u001b[0m \u001b[43m    \u001b[49m\u001b[43mvideo\u001b[49m\u001b[43m,\u001b[49m\u001b[43m \u001b[49m\u001b[43mmetadata\u001b[49m\u001b[38;5;241;43m=\u001b[39;49m\u001b[43mmetadata\u001b[49m\u001b[43m,\u001b[49m\u001b[43m \u001b[49m\u001b[43mfps\u001b[49m\u001b[38;5;241;43m=\u001b[39;49m\u001b[43mfps\u001b[49m\u001b[43m,\u001b[49m\u001b[43m \u001b[49m\u001b[43mbps\u001b[49m\u001b[38;5;241;43m=\u001b[39;49m\u001b[43mbps\u001b[49m\u001b[43m,\u001b[49m\u001b[43m \u001b[49m\u001b[43mqp\u001b[49m\u001b[38;5;241;43m=\u001b[39;49m\u001b[43mqp\u001b[49m\u001b[43m,\u001b[49m\u001b[43m \u001b[49m\u001b[43mcodec\u001b[49m\u001b[38;5;241;43m=\u001b[39;49m\u001b[43mcodec\u001b[49m\n\u001b[1;32m   1946\u001b[0m \u001b[43m\u001b[49m\u001b[43m)\u001b[49m\n\u001b[1;32m   1947\u001b[0m \u001b[38;5;28;01mif\u001b[39;00m title \u001b[38;5;129;01mis\u001b[39;00m \u001b[38;5;129;01mnot\u001b[39;00m \u001b[38;5;28;01mNone\u001b[39;00m \u001b[38;5;129;01mand\u001b[39;00m _config\u001b[38;5;241m.\u001b[39mshow_save_dir:\n\u001b[1;32m   1948\u001b[0m   suffix \u001b[38;5;241m=\u001b[39m _filename_suffix_from_codec(codec)\n",
            "File \u001b[0;32m~/anaconda3/envs/vnl/lib/python3.11/site-packages/mediapy/__init__.py:1781\u001b[0m, in \u001b[0;36mcompress_video\u001b[0;34m(images, codec, **kwargs)\u001b[0m\n\u001b[1;32m   1779\u001b[0m \u001b[38;5;28;01mwith\u001b[39;00m tempfile\u001b[38;5;241m.\u001b[39mTemporaryDirectory() \u001b[38;5;28;01mas\u001b[39;00m directory_name:\n\u001b[1;32m   1780\u001b[0m   tmp_path \u001b[38;5;241m=\u001b[39m pathlib\u001b[38;5;241m.\u001b[39mPath(directory_name) \u001b[38;5;241m/\u001b[39m \u001b[38;5;124mf\u001b[39m\u001b[38;5;124m'\u001b[39m\u001b[38;5;124mfile\u001b[39m\u001b[38;5;132;01m{\u001b[39;00msuffix\u001b[38;5;132;01m}\u001b[39;00m\u001b[38;5;124m'\u001b[39m\n\u001b[0;32m-> 1781\u001b[0m   \u001b[43mwrite_video\u001b[49m\u001b[43m(\u001b[49m\u001b[43mtmp_path\u001b[49m\u001b[43m,\u001b[49m\u001b[43m \u001b[49m\u001b[43mimages\u001b[49m\u001b[43m,\u001b[49m\u001b[43m \u001b[49m\u001b[43mcodec\u001b[49m\u001b[38;5;241;43m=\u001b[39;49m\u001b[43mcodec\u001b[49m\u001b[43m,\u001b[49m\u001b[43m \u001b[49m\u001b[38;5;241;43m*\u001b[39;49m\u001b[38;5;241;43m*\u001b[39;49m\u001b[43mkwargs\u001b[49m\u001b[43m)\u001b[49m\n\u001b[1;32m   1782\u001b[0m   \u001b[38;5;28;01mreturn\u001b[39;00m tmp_path\u001b[38;5;241m.\u001b[39mread_bytes()\n",
            "File \u001b[0;32m~/anaconda3/envs/vnl/lib/python3.11/site-packages/mediapy/__init__.py:1751\u001b[0m, in \u001b[0;36mwrite_video\u001b[0;34m(path, images, **kwargs)\u001b[0m\n\u001b[1;32m   1749\u001b[0m   dtype \u001b[38;5;241m=\u001b[39m np\u001b[38;5;241m.\u001b[39mdtype(np\u001b[38;5;241m.\u001b[39muint16)\n\u001b[1;32m   1750\u001b[0m kwargs \u001b[38;5;241m=\u001b[39m {\u001b[38;5;124m'\u001b[39m\u001b[38;5;124mmetadata\u001b[39m\u001b[38;5;124m'\u001b[39m: \u001b[38;5;28mgetattr\u001b[39m(images, \u001b[38;5;124m'\u001b[39m\u001b[38;5;124mmetadata\u001b[39m\u001b[38;5;124m'\u001b[39m, \u001b[38;5;28;01mNone\u001b[39;00m), \u001b[38;5;241m*\u001b[39m\u001b[38;5;241m*\u001b[39mkwargs}\n\u001b[0;32m-> 1751\u001b[0m \u001b[43m\u001b[49m\u001b[38;5;28;43;01mwith\u001b[39;49;00m\u001b[43m \u001b[49m\u001b[43mVideoWriter\u001b[49m\u001b[43m(\u001b[49m\u001b[43mpath\u001b[49m\u001b[43m,\u001b[49m\u001b[43m \u001b[49m\u001b[43mshape\u001b[49m\u001b[38;5;241;43m=\u001b[39;49m\u001b[43mshape\u001b[49m\u001b[43m,\u001b[49m\u001b[43m \u001b[49m\u001b[43mdtype\u001b[49m\u001b[38;5;241;43m=\u001b[39;49m\u001b[43mdtype\u001b[49m\u001b[43m,\u001b[49m\u001b[43m \u001b[49m\u001b[38;5;241;43m*\u001b[39;49m\u001b[38;5;241;43m*\u001b[39;49m\u001b[43mkwargs\u001b[49m\u001b[43m)\u001b[49m\u001b[43m \u001b[49m\u001b[38;5;28;43;01mas\u001b[39;49;00m\u001b[43m \u001b[49m\u001b[43mwriter\u001b[49m\u001b[43m:\u001b[49m\n\u001b[1;32m   1752\u001b[0m \u001b[43m  \u001b[49m\u001b[38;5;28;43;01mfor\u001b[39;49;00m\u001b[43m \u001b[49m\u001b[43mimage\u001b[49m\u001b[43m \u001b[49m\u001b[38;5;129;43;01min\u001b[39;49;00m\u001b[43m \u001b[49m\u001b[43mimages\u001b[49m\u001b[43m:\u001b[49m\n\u001b[1;32m   1753\u001b[0m \u001b[43m    \u001b[49m\u001b[43mwriter\u001b[49m\u001b[38;5;241;43m.\u001b[39;49m\u001b[43madd_image\u001b[49m\u001b[43m(\u001b[49m\u001b[43mimage\u001b[49m\u001b[43m)\u001b[49m\n",
            "File \u001b[0;32m~/anaconda3/envs/vnl/lib/python3.11/site-packages/mediapy/__init__.py:1571\u001b[0m, in \u001b[0;36mVideoWriter.__enter__\u001b[0;34m(self)\u001b[0m\n\u001b[1;32m   1570\u001b[0m \u001b[38;5;28;01mdef\u001b[39;00m \u001b[38;5;21m__enter__\u001b[39m(\u001b[38;5;28mself\u001b[39m) \u001b[38;5;241m-\u001b[39m\u001b[38;5;241m>\u001b[39m \u001b[38;5;124m'\u001b[39m\u001b[38;5;124mVideoWriter\u001b[39m\u001b[38;5;124m'\u001b[39m:\n\u001b[0;32m-> 1571\u001b[0m   ffmpeg_path \u001b[38;5;241m=\u001b[39m \u001b[43m_get_ffmpeg_path\u001b[49m\u001b[43m(\u001b[49m\u001b[43m)\u001b[49m\n\u001b[1;32m   1572\u001b[0m   input_pix_fmt \u001b[38;5;241m=\u001b[39m \u001b[38;5;28mself\u001b[39m\u001b[38;5;241m.\u001b[39m_get_pix_fmt(\u001b[38;5;28mself\u001b[39m\u001b[38;5;241m.\u001b[39mdtype, \u001b[38;5;28mself\u001b[39m\u001b[38;5;241m.\u001b[39minput_format)\n\u001b[1;32m   1573\u001b[0m   \u001b[38;5;28;01mtry\u001b[39;00m:\n",
            "File \u001b[0;32m~/anaconda3/envs/vnl/lib/python3.11/site-packages/mediapy/__init__.py:1170\u001b[0m, in \u001b[0;36m_get_ffmpeg_path\u001b[0;34m()\u001b[0m\n\u001b[1;32m   1168\u001b[0m path \u001b[38;5;241m=\u001b[39m _search_for_ffmpeg_path()\n\u001b[1;32m   1169\u001b[0m \u001b[38;5;28;01mif\u001b[39;00m \u001b[38;5;129;01mnot\u001b[39;00m path:\n\u001b[0;32m-> 1170\u001b[0m   \u001b[38;5;28;01mraise\u001b[39;00m \u001b[38;5;167;01mRuntimeError\u001b[39;00m(\n\u001b[1;32m   1171\u001b[0m       \u001b[38;5;124mf\u001b[39m\u001b[38;5;124m\"\u001b[39m\u001b[38;5;124mProgram \u001b[39m\u001b[38;5;124m'\u001b[39m\u001b[38;5;132;01m{\u001b[39;00m_config\u001b[38;5;241m.\u001b[39mffmpeg_name_or_path\u001b[38;5;132;01m}\u001b[39;00m\u001b[38;5;124m'\u001b[39m\u001b[38;5;124m is not found;\u001b[39m\u001b[38;5;124m\"\u001b[39m\n\u001b[1;32m   1172\u001b[0m       \u001b[38;5;124m\"\u001b[39m\u001b[38;5;124m perhaps install ffmpeg using \u001b[39m\u001b[38;5;124m'\u001b[39m\u001b[38;5;124mapt install ffmpeg\u001b[39m\u001b[38;5;124m'\u001b[39m\u001b[38;5;124m.\u001b[39m\u001b[38;5;124m\"\u001b[39m\n\u001b[1;32m   1173\u001b[0m   )\n\u001b[1;32m   1174\u001b[0m \u001b[38;5;28;01mreturn\u001b[39;00m path\n",
            "\u001b[0;31mRuntimeError\u001b[0m: Program 'ffmpeg' is not found; perhaps install ffmpeg using 'apt install ffmpeg'."
          ]
        }
      ],
      "source": [
        "from mocap_preprocess import ReferenceClip, save_dataclass_pickle\n",
        "\n",
        "# initialize the state\n",
        "rng = jax.random.PRNGKey(0)\n",
        "state = jit_env_reset(rng)\n",
        "rollout = [state.pipeline_state]\n",
        "\n",
        "# grab a trajectory\n",
        "n_steps = 500\n",
        "render_every = 1\n",
        "\n",
        "# TODO: in here, construct a dict with the features that we want from \n",
        "# state.pipeline_state.qpos/qvel/xpos, using ReferenceClip\n",
        "qposes = []\n",
        "qvels = []\n",
        "xposes = []\n",
        "coms = []\n",
        "xquats = []\n",
        "for i in range(n_steps):\n",
        "  act_rng, rng = jax.random.split(rng)\n",
        "  ctrl, _ = jit_inference_fn(state.obs, act_rng)\n",
        "  state = jit_env_step(state, ctrl)\n",
        "  data = state.pipeline_state\n",
        "  \n",
        "  # rollout.append(data)\n",
        "  # qposes.append(data.qpos)\n",
        "  # qvels.append(data.qvel)\n",
        "  # xposes.append(data.xpos)\n",
        "  # coms.append(data.subtree_com[1])\n",
        "  # xquats.append(data.xquat)\n",
        "  if state.done:\n",
        "    break\n",
        "\n",
        "# media.show_video(env.render(rollout[::render_every], camera='track'), fps=1.0 / env.dt / render_every)"
      ]
    },
    {
      "cell_type": "code",
      "execution_count": null,
      "metadata": {},
      "outputs": [],
      "source": [
        "qposes = np.stack(qposes)\n",
        "qvels = np.stack(qvels)\n",
        "xposes = np.stack(xposes)\n",
        "coms = np.stack(coms)\n",
        "xquats = np.stack(xquats)\n",
        "\n",
        "mocap_features = {}\n",
        "mocap_features[\"position\"] = qposes[:,:3]\n",
        "mocap_features[\"quaternion\"] = qposes[:,3:7]\n",
        "mocap_features[\"joints\"] = qposes[:, 7:]\n",
        "mocap_features[\"center_of_mass\"] = np.reshape(coms, (coms.shape[0], -1))\n",
        "mocap_features[\"end_effectors\"] = []\n",
        "mocap_features[\"velocity\"] = qvels[:, :3]\n",
        "mocap_features[\"angular_velocity\"] = qvels[:, 3:6]\n",
        "mocap_features[\"joints_velocity\"] = qvels[:, 6:]\n",
        "mocap_features[\"appendages\"] = []\n",
        "mocap_features[\"body_positions\"] = xposes\n",
        "mocap_features[\"body_quaternions\"] = np.reshape(xquats, (xquats.shape[0], -1))"
      ]
    },
    {
      "cell_type": "code",
      "execution_count": null,
      "metadata": {},
      "outputs": [],
      "source": [
        "mocap_features['center_of_mass'].shape"
      ]
    },
    {
      "cell_type": "code",
      "execution_count": null,
      "metadata": {},
      "outputs": [],
      "source": [
        "mocap_features['markers'] = None\n",
        "mocap_features['scaling'] = None\n",
        "save_dataclass_pickle(\"ant_traj.p\", mocap_features)"
      ]
    }
  ],
  "metadata": {
    "colab": {
      "provenance": [],
      "toc_visible": true
    },
    "kernelspec": {
      "display_name": "Python 3",
      "name": "python3"
    },
    "language_info": {
      "codemirror_mode": {
        "name": "ipython",
        "version": 3
      },
      "file_extension": ".py",
      "mimetype": "text/x-python",
      "name": "python",
      "nbconvert_exporter": "python",
      "pygments_lexer": "ipython3",
      "version": "3.10.9"
    }
  },
  "nbformat": 4,
  "nbformat_minor": 0
}
