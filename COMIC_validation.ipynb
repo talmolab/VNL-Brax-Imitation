{
 "cells": [
  {
   "cell_type": "markdown",
   "metadata": {},
   "source": [
    "# Cross Validation With COMIC Environment From dm_control\n",
    "Data is where intelligence comes form, not just fancy math, we need to make sure the integrity of the observation space, or the data. When we have one that is already available to compares with (COMIC setup) we should use it to garantee that the setup is correct. **This notebook is for checking the integirty of the observation space.**"
   ]
  },
  {
   "cell_type": "code",
   "execution_count": 1,
   "metadata": {},
   "outputs": [],
   "source": [
    "%load_ext autoreload\n",
    "%autoreload 2\n",
    "import jax\n",
    "from jax import random\n",
    "from envs.humanoid_cmu_validate import HumanoidTracking\n",
    "import numpy as np\n",
    "import mediapy as media\n",
    "import jax.numpy as jp\n",
    "import mujoco\n",
    "from dm_control import mjcf\n",
    "\n",
    "import warnings\n",
    "warnings.filterwarnings(\"ignore\", category=DeprecationWarning) "
   ]
  },
  {
   "cell_type": "markdown",
   "metadata": {},
   "source": [
    "# CMU Humanoid env"
   ]
  },
  {
   "cell_type": "code",
   "execution_count": 2,
   "metadata": {},
   "outputs": [
    {
     "data": {
      "text/plain": [
       "56"
      ]
     },
     "execution_count": 2,
     "metadata": {},
     "output_type": "execute_result"
    }
   ],
   "source": [
    "_CMU_MOCAP_JOINTS = (\n",
    "    'lfemurrz', 'lfemurry', 'lfemurrx', 'ltibiarx', 'lfootrz', 'lfootrx',\n",
    "    'ltoesrx', 'rfemurrz', 'rfemurry', 'rfemurrx', 'rtibiarx', 'rfootrz',\n",
    "    'rfootrx', 'rtoesrx', 'lowerbackrz', 'lowerbackry', 'lowerbackrx',\n",
    "    'upperbackrz', 'upperbackry', 'upperbackrx', 'thoraxrz', 'thoraxry',\n",
    "    'thoraxrx', 'lowerneckrz', 'lowerneckry', 'lowerneckrx', 'upperneckrz',\n",
    "    'upperneckry', 'upperneckrx', 'headrz', 'headry', 'headrx', 'lclaviclerz',\n",
    "    'lclaviclery', 'lhumerusrz', 'lhumerusry', 'lhumerusrx', 'lradiusrx',\n",
    "    'lwristry', 'lhandrz', 'lhandrx', 'lfingersrx', 'lthumbrz', 'lthumbrx',\n",
    "    'rclaviclerz', 'rclaviclery', 'rhumerusrz', 'rhumerusry', 'rhumerusrx',\n",
    "    'rradiusrx', 'rwristry', 'rhandrz', 'rhandrx', 'rfingersrx', 'rthumbrz',\n",
    "    'rthumbrx')\n",
    "len(_CMU_MOCAP_JOINTS)"
   ]
  },
  {
   "cell_type": "markdown",
   "metadata": {},
   "source": [
    "Checking the body positions and make sure they are aligned"
   ]
  },
  {
   "cell_type": "code",
   "execution_count": 3,
   "metadata": {},
   "outputs": [
    {
     "data": {
      "text/plain": [
       "Array([ 2,  3,  4,  5,  6,  7,  8,  9, 10, 11, 12, 13, 14, 15, 16, 17, 18,\n",
       "       19, 20, 21, 22, 23, 24, 25, 26, 27, 28, 29, 30, 31], dtype=int32)"
      ]
     },
     "execution_count": 3,
     "metadata": {},
     "output_type": "execute_result"
    }
   ],
   "source": [
    "root = mjcf.from_path(\"./assets/humanoid_CMU_V2019.xml\")\n",
    "\n",
    "physics = mjcf.Physics.from_mjcf_model(root).model.ptr\n",
    "\n",
    "physics.body_pos.shape\n",
    "\n",
    "physics.name_bodyadr\n",
    "\n",
    "mj_model = mujoco.MjModel.from_xml_path(\"./assets/humanoid_CMU_V2019.xml\")\n",
    "\n",
    "params = np.array([\n",
    "    # 'world',\n",
    "    # 'root',\n",
    "    'lhipjoint', 'lfemur', 'ltibia', 'lfoot', 'ltoes', 'rhipjoint', 'rfemur', 'rtibia', 'rfoot',\n",
    "    'rtoes', 'lowerback', 'upperback', 'thorax', 'lowerneck', 'upperneck', 'head', 'lclavicle', 'lhumerus',\n",
    "    'lradius', 'lwrist', 'lhand', 'lfingers', 'lthumb', 'rclavicle', 'rhumerus', 'rradius', 'rwrist',\n",
    "    'rhand', 'rfingers', 'rthumb'])\n",
    "\n",
    "jp.array([mujoco.mj_name2id(mj_model, mujoco.mju_str2Type(\"body\"), body) for body in params])"
   ]
  },
  {
   "cell_type": "code",
   "execution_count": 4,
   "metadata": {},
   "outputs": [
    {
     "data": {
      "text/plain": [
       "Array([15, 16, 17, 18, 19, 20, 21, 22, 23, 24, 25, 26, 27, 28, 29, 30, 31,\n",
       "       32, 33, 34, 35, 36, 37, 38, 39, 40, 41, 42, 43, 44, 45, 46, 47, 48,\n",
       "       49, 50, 51, 52, 53, 54, 55, 56,  1,  2,  3,  4,  5,  6,  7,  8,  9,\n",
       "       10, 11, 12, 13, 14], dtype=int32)"
      ]
     },
     "execution_count": 4,
     "metadata": {},
     "output_type": "execute_result"
    }
   ],
   "source": [
    "params = np.array(\n",
    "    ['lowerbackrz', 'lowerbackry', 'lowerbackrx', 'upperbackrz', 'upperbackry', 'upperbackrx', 'thoraxrz',\n",
    "     'thoraxry', 'thoraxrx', 'lowerneckrz', 'lowerneckry', 'lowerneckrx', 'upperneckrz', 'upperneckry', 'upperneckrx', 'headrz', 'headry',\n",
    "     'headrx', 'lclaviclerz', 'lclaviclery', 'lhumerusrz', 'lhumerusry', 'lhumerusrx', 'lradiusrx', 'lwristry', 'lhandrz', 'lhandrx', 'lfingersrx',\n",
    "     'lthumbrz', 'lthumbrx', 'rclaviclerz', 'rclaviclery', 'rhumerusrz', 'rhumerusry', 'rhumerusrx', 'rradiusrx', 'rwristry', 'rhandrz',\n",
    "     'rhandrx', 'rfingersrx', 'rthumbrz', 'rthumbrx', 'lfemurrz', 'lfemurry', 'lfemurrx', 'ltibiarx', 'lfootrz', 'lfootrx',\n",
    "     'ltoesrx', 'rfemurrz', 'rfemurry', 'rfemurrx', 'rtibiarx', 'rfootrz', 'rfootrx', 'rtoesrx'])\n",
    "\n",
    "jp.array([mujoco.mj_name2id(mj_model, mujoco.mju_str2Type(\"joint\"), joint) for joint in params])"
   ]
  },
  {
   "cell_type": "code",
   "execution_count": 5,
   "metadata": {},
   "outputs": [
    {
     "data": {
      "text/plain": [
       "Array([ 1,  2,  3,  4,  5,  6,  7,  8,  9, 10, 11, 12, 13, 14, 15, 16, 17,\n",
       "       18, 19, 20, 21, 22, 23, 24, 25, 26, 27, 28, 29, 30, 31, 32, 33, 34,\n",
       "       35, 36, 37, 38, 39, 40, 41, 42, 43, 44, 45, 46, 47, 48, 49, 50, 51,\n",
       "       52, 53, 54, 55, 56], dtype=int32)"
      ]
     },
     "execution_count": 5,
     "metadata": {},
     "output_type": "execute_result"
    }
   ],
   "source": [
    "params = np.array(\n",
    "    ['lfemurrz', 'lfemurry', 'lfemurrx', 'ltibiarx', 'lfootrz', 'lfootrx',\n",
    "    'ltoesrx', 'rfemurrz', 'rfemurry', 'rfemurrx', 'rtibiarx', 'rfootrz',\n",
    "    'rfootrx', 'rtoesrx', 'lowerbackrz', 'lowerbackry', 'lowerbackrx',\n",
    "    'upperbackrz', 'upperbackry', 'upperbackrx', 'thoraxrz', 'thoraxry',\n",
    "    'thoraxrx', 'lowerneckrz', 'lowerneckry', 'lowerneckrx', 'upperneckrz',\n",
    "    'upperneckry', 'upperneckrx', 'headrz', 'headry', 'headrx', 'lclaviclerz',\n",
    "    'lclaviclery', 'lhumerusrz', 'lhumerusry', 'lhumerusrx', 'lradiusrx',\n",
    "    'lwristry', 'lhandrz', 'lhandrx', 'lfingersrx', 'lthumbrz', 'lthumbrx',\n",
    "    'rclaviclerz', 'rclaviclery', 'rhumerusrz', 'rhumerusry', 'rhumerusrx',\n",
    "    'rradiusrx', 'rwristry', 'rhandrz', 'rhandrx', 'rfingersrx', 'rthumbrz',\n",
    "    'rthumbrx'])\n",
    "\n",
    "jp.array([mujoco.mj_name2id(mj_model, mujoco.mju_str2Type(\"joint\"), joint) for joint in params])"
   ]
  },
  {
   "cell_type": "markdown",
   "metadata": {},
   "source": [
    "no freejoint `root` in joints for reference_joints list"
   ]
  },
  {
   "cell_type": "code",
   "execution_count": 6,
   "metadata": {},
   "outputs": [],
   "source": [
    "params = {\n",
    "    \"solver\": \"cg\",\n",
    "    \"iterations\": 6,\n",
    "    \"ls_iterations\": 6,\n",
    "    \"clip_path\": \"clips/test_traj.p\",\n",
    "    \"body_names\":\n",
    "    ['lhipjoint', 'lfemur', 'ltibia', 'lfoot', 'ltoes', 'rhipjoint', 'rfemur', 'rtibia', 'rfoot',\n",
    "    'rtoes', 'lowerback', 'upperback', 'thorax', 'lowerneck', 'upperneck', 'head', 'lclavicle', 'lhumerus',\n",
    "    'lradius', 'lwrist', 'lhand', 'lfingers', 'lthumb', 'rclavicle', 'rhumerus', 'rradius', 'rwrist',\n",
    "    'rhand', 'rfingers', 'rthumb'],\n",
    "    \"joint_names\":\n",
    "    ['headry', 'headrz', 'upperneckrx', 'lclaviclerz', 'headrx',\n",
    "       'lfemurry', 'lfemurrz', 'root', 'lhandrx', 'lfootrz', 'ltibiarx',\n",
    "       'lhandrz', 'lwristry', 'lhumerusry', 'lhumerusrz', 'lclaviclery',\n",
    "       'lowerbackry', 'lowerbackrz', 'rtoesrx', 'lowerneckry',\n",
    "       'lowerneckrz', 'thoraxrx', 'lhumerusrx', 'lthumbrz', 'lfingersrx',\n",
    "       'lfemurrx', 'lfootrx', 'lradiusrx', 'rclaviclerz', 'lthumbrx',\n",
    "       'rfemurry', 'rfemurrz', 'ltoesrx', 'rhandrx', 'rfootrz',\n",
    "       'rtibiarx', 'rhandrz', 'rwristry', 'rhumerusry', 'rhumerusrz',\n",
    "       'rclaviclery', 'rhumerusrx', 'rthumbrz', 'rfingersrx', 'rfemurrx',\n",
    "       'rfootrx', 'rradiusrx', 'thoraxry', 'thoraxrz', 'upperbackrx',\n",
    "       'upperbackry', 'upperbackrz', 'lowerbackrx', 'upperneckry',\n",
    "       'upperneckrz', 'lowerneckrx']\n",
    "}"
   ]
  },
  {
   "cell_type": "code",
   "execution_count": 7,
   "metadata": {},
   "outputs": [],
   "source": [
    "env_brax = HumanoidTracking(params)"
   ]
  },
  {
   "cell_type": "code",
   "execution_count": 8,
   "metadata": {},
   "outputs": [
    {
     "data": {
      "text/plain": [
       "62"
      ]
     },
     "execution_count": 8,
     "metadata": {},
     "output_type": "execute_result"
    }
   ],
   "source": [
    "env_brax.sys.nv # nq=63, nv=62"
   ]
  },
  {
   "cell_type": "code",
   "execution_count": 9,
   "metadata": {},
   "outputs": [
    {
     "data": {
      "text/plain": [
       "['root', 'lfemurrz', 'lfemurry', 'lfemurrx', 'ltibiarx']"
      ]
     },
     "execution_count": 9,
     "metadata": {},
     "output_type": "execute_result"
    }
   ],
   "source": [
    "lst =[]\n",
    "for n in range(100):\n",
    "      joint = mujoco.mj_id2name(env_brax.sys.mj_model, \n",
    "                          mujoco.mju_str2Type(\"joint\"), \n",
    "                          n)\n",
    "      lst.append(joint)\n",
    "# root joint is a free joint in any direction (adds extra dimensions), rotation locks, quaternion\n",
    "# something for full range of motion\n",
    "\n",
    "lst[:5]"
   ]
  },
  {
   "cell_type": "code",
   "execution_count": 10,
   "metadata": {},
   "outputs": [],
   "source": [
    "state = env_brax.reset(jax.random.PRNGKey(0))"
   ]
  },
  {
   "cell_type": "markdown",
   "metadata": {},
   "source": [
    "## Stepping brax environment"
   ]
  },
  {
   "cell_type": "code",
   "execution_count": 11,
   "metadata": {},
   "outputs": [],
   "source": [
    "# key = random.PRNGKey(0)\n",
    "# jit_step = jax.jit(env_brax.step)\n",
    "# jit_reset = jax.jit(env_brax.reset)"
   ]
  },
  {
   "cell_type": "code",
   "execution_count": 12,
   "metadata": {},
   "outputs": [],
   "source": [
    "# next = jit_reset(key)\n",
    "# print(\"starting rollout\")\n",
    "# mu = 0\n",
    "# sigma = .1\n",
    "# rollout = []\n",
    "# for _ in range(500):\n",
    "#     _, key = jax.random.split(key)\n",
    "#     next = jit_step(next, mu + sigma * random.normal(key, shape=(env.sys.nu,)))\n",
    "#     rollout.append(next)"
   ]
  },
  {
   "cell_type": "code",
   "execution_count": 13,
   "metadata": {},
   "outputs": [],
   "source": [
    "# import mediapy as media\n",
    "# import os\n",
    "\n",
    "# os.environ[\"MUJOCO_GL\"] = \"glfw\"\n",
    "# rollout_data = [s.pipeline_state for s in rollout]\n",
    "\n",
    "# video = env.render(rollout_data, camera='side')\n",
    "\n",
    "# media.show_video(video, fps=1.0 / env.dt)"
   ]
  },
  {
   "cell_type": "markdown",
   "metadata": {},
   "source": [
    "# COMIC Validation Observation"
   ]
  },
  {
   "cell_type": "code",
   "execution_count": 14,
   "metadata": {},
   "outputs": [],
   "source": [
    "from dm_control import composer\n",
    "from dm_control.locomotion import arenas\n",
    "from dm_control.locomotion import walkers\n",
    "from walker import Rat\n",
    "from walker_validate_cmu import CMUHumanoidPositionControlled\n",
    "from dm_control.locomotion.mocap import props\n",
    "from dm_control.locomotion.tasks.reference_pose import tracking\n",
    "from dm_control.locomotion.tasks.reference_pose import types\n",
    "from dm_control.utils import io as resources\n",
    "import os\n",
    "import h5py\n",
    "import pickle"
   ]
  },
  {
   "cell_type": "markdown",
   "metadata": {},
   "source": [
    "maybe reset doesn't replace values in dm control? instantiate it in init? The clip is actually instantiated in init with flag `always_init_at_clip_start=True`"
   ]
  },
  {
   "cell_type": "code",
   "execution_count": 15,
   "metadata": {},
   "outputs": [],
   "source": [
    "# Define the path to your motion capture data file\n",
    "file_name = 'clips/test_traj.h5' #'clips/all_snips_250.h5'\n",
    "current_directory = os.getcwd()\n",
    "TEST_FILE_PATH = os.path.join(current_directory, file_name)\n",
    "\n",
    "with h5py.File(TEST_FILE_PATH, 'r') as f:\n",
    "    dataset_keys = tuple(f.keys())\n",
    "    dataset = types.ClipCollection(ids=dataset_keys,)\n",
    "\n",
    "# Set up the mocap tracking task\n",
    "task = tracking.MultiClipMocapTracking(\n",
    "    walker=CMUHumanoidPositionControlled,\n",
    "    arena=arenas.Floor(),\n",
    "    ref_path=resources.GetResourceFilename(TEST_FILE_PATH),\n",
    "    ref_steps=(1, 2, 3, 4, 5),\n",
    "    min_steps=1,\n",
    "    dataset=dataset,\n",
    "    reward_type='comic',\n",
    "    always_init_at_clip_start=True\n",
    ")\n",
    "\n",
    "# Initialize the environment\n",
    "env = composer.Environment(task=task)\n",
    "reset = env.reset()\n",
    "\n",
    "# action_spec = env.action_spec()\n",
    "# env.step(np.zeros(action_spec.shape))"
   ]
  },
  {
   "cell_type": "code",
   "execution_count": 16,
   "metadata": {},
   "outputs": [
    {
     "data": {
      "text/plain": [
       "(1, 450)"
      ]
     },
     "execution_count": 16,
     "metadata": {},
     "output_type": "execute_result"
    }
   ],
   "source": [
    "reset.observation['walker/reference_rel_bodies_pos_global'].shape"
   ]
  },
  {
   "cell_type": "code",
   "execution_count": 17,
   "metadata": {},
   "outputs": [
    {
     "data": {
      "text/plain": [
       "(1, 15)"
      ]
     },
     "execution_count": 17,
     "metadata": {},
     "output_type": "execute_result"
    }
   ],
   "source": [
    "reset.observation['walker/reference_rel_root_pos_local'].shape"
   ]
  },
  {
   "cell_type": "code",
   "execution_count": 18,
   "metadata": {},
   "outputs": [
    {
     "data": {
      "text/plain": [
       "(1, 280)"
      ]
     },
     "execution_count": 18,
     "metadata": {},
     "output_type": "execute_result"
    }
   ],
   "source": [
    "reset.observation['walker/reference_rel_joints'].shape # 280 / 5 = 56 makes sense"
   ]
  },
  {
   "cell_type": "markdown",
   "metadata": {},
   "source": [
    "If the joints in brax environment is indexed with shape mismatch, no warning is given, `np` does not compain and dimension becomes (56,57) and give a flattened dimension of 3000ish, which is not the correct one. **Should use `[:,env_brax._joint_orders]`, it is a 2d indexing and also the `root` joint should not be included, it is there for mjx.**"
   ]
  },
  {
   "cell_type": "code",
   "execution_count": 19,
   "metadata": {},
   "outputs": [
    {
     "data": {
      "text/plain": [
       "dict_keys(['position', 'quaternion', 'joints', 'center_of_mass', 'end_effectors', 'appendages', 'body_positions', 'body_quaternions', 'velocity', 'angular_velocity', 'joints_velocity'])"
      ]
     },
     "execution_count": 19,
     "metadata": {},
     "output_type": "execute_result"
    }
   ],
   "source": [
    "env.task._walker_features.keys()"
   ]
  },
  {
   "cell_type": "code",
   "execution_count": 20,
   "metadata": {},
   "outputs": [
    {
     "data": {
      "text/plain": [
       "['reference_props_pos_global',\n",
       " 'reference_props_quat_global',\n",
       " 'walker/actuator_activation',\n",
       " 'walker/appendages_pos',\n",
       " 'walker/body_height',\n",
       " 'walker/end_effectors_pos',\n",
       " 'walker/joints_pos',\n",
       " 'walker/joints_vel',\n",
       " 'walker/sensors_accelerometer',\n",
       " 'walker/sensors_force',\n",
       " 'walker/sensors_gyro',\n",
       " 'walker/sensors_torque',\n",
       " 'walker/sensors_touch',\n",
       " 'walker/sensors_velocimeter',\n",
       " 'walker/world_zaxis',\n",
       " 'walker/reference_rel_joints',\n",
       " 'walker/reference_rel_bodies_pos_global',\n",
       " 'walker/reference_rel_bodies_quats',\n",
       " 'walker/reference_rel_bodies_pos_local',\n",
       " 'walker/reference_ego_bodies_quats',\n",
       " 'walker/reference_rel_root_quat',\n",
       " 'walker/reference_rel_root_pos_local',\n",
       " 'walker/reference_appendages_pos',\n",
       " 'walker/clip_id',\n",
       " 'walker/velocimeter_control',\n",
       " 'walker/gyro_control',\n",
       " 'walker/joints_vel_control',\n",
       " 'walker/time_in_clip']"
      ]
     },
     "execution_count": 20,
     "metadata": {},
     "output_type": "execute_result"
    }
   ],
   "source": [
    "[item for item in reset.observation]"
   ]
  },
  {
   "cell_type": "code",
   "execution_count": 21,
   "metadata": {},
   "outputs": [
    {
     "data": {
      "text/plain": [
       "array([[ 8.62317918e-06, -2.78480039e-02, -6.42844045e-02, ...,\n",
       "         3.10079384e-01, -1.54169243e-03,  5.53967392e-05]])"
      ]
     },
     "execution_count": 21,
     "metadata": {},
     "output_type": "execute_result"
    }
   ],
   "source": [
    "check_lst = ['walker/reference_rel_bodies_pos_local',\n",
    "             'walker/reference_rel_bodies_pos_global',\n",
    "             'walker/reference_rel_root_pos_local',\n",
    "             'walker/reference_rel_joints'\n",
    "            ]\n",
    "\n",
    "COMIC_lst = reset.observation[check_lst[0]]\n",
    "for check in check_lst[1:]:\n",
    "    COMIC_lst = np.concatenate((COMIC_lst, reset.observation[check]), axis=1)\n",
    "\n",
    "COMIC_lst"
   ]
  },
  {
   "cell_type": "code",
   "execution_count": 22,
   "metadata": {},
   "outputs": [
    {
     "data": {
      "text/plain": [
       "(1395,)"
      ]
     },
     "execution_count": 22,
     "metadata": {},
     "output_type": "execute_result"
    }
   ],
   "source": [
    "state.obs.shape"
   ]
  },
  {
   "cell_type": "code",
   "execution_count": 23,
   "metadata": {},
   "outputs": [
    {
     "data": {
      "text/plain": [
       "(1, 1195)"
      ]
     },
     "execution_count": 23,
     "metadata": {},
     "output_type": "execute_result"
    }
   ],
   "source": [
    "COMIC_lst.shape"
   ]
  },
  {
   "cell_type": "markdown",
   "metadata": {},
   "source": [
    "# Check reference_rel_bodies_pos_local\n",
    "Sample check, rest of the functions follow this"
   ]
  },
  {
   "cell_type": "markdown",
   "metadata": {},
   "source": [
    "## Check qpos matching: position is first 3 initilizatio same"
   ]
  },
  {
   "cell_type": "code",
   "execution_count": 24,
   "metadata": {},
   "outputs": [],
   "source": [
    "# env.task._clip_reference_features"
   ]
  },
  {
   "cell_type": "code",
   "execution_count": 25,
   "metadata": {},
   "outputs": [
    {
     "data": {
      "text/plain": [
       "array([0.        , 0.        , 0.94      , 0.46075298, 0.53638297,\n",
       "       0.53638297, 0.46075298, 0.        , 0.        , 0.        ,\n",
       "       0.        , 0.        , 0.        , 0.        , 0.        ,\n",
       "       0.        , 0.        , 0.        , 0.        , 0.        ,\n",
       "       0.        , 0.        , 0.        , 0.        , 0.        ,\n",
       "       0.        , 0.        , 0.        , 0.        , 0.        ,\n",
       "       0.        , 0.        , 0.        , 0.        , 0.        ,\n",
       "       0.        , 0.        , 0.        , 0.        , 0.        ,\n",
       "       0.        , 0.        , 0.        , 0.        , 0.        ,\n",
       "       0.        , 0.        , 0.        , 0.        , 0.        ,\n",
       "       0.        , 0.        , 0.        , 0.        , 0.        ,\n",
       "       0.        , 0.        , 0.        , 0.        , 0.        ,\n",
       "       0.        , 0.        , 0.        ])"
      ]
     },
     "execution_count": 25,
     "metadata": {},
     "output_type": "execute_result"
    }
   ],
   "source": [
    "env.physics.data.qpos"
   ]
  },
  {
   "cell_type": "code",
   "execution_count": 26,
   "metadata": {},
   "outputs": [
    {
     "data": {
      "text/plain": [
       "Array([0.        , 0.        , 0.94      , 0.46075296, 0.536383  ,\n",
       "       0.536383  , 0.46075296, 0.        , 0.        , 0.        ,\n",
       "       0.        , 0.        , 0.        , 0.        , 0.        ,\n",
       "       0.        , 0.        , 0.        , 0.        , 0.        ,\n",
       "       0.        , 0.        , 0.        , 0.        , 0.        ,\n",
       "       0.        , 0.        , 0.        , 0.        , 0.        ,\n",
       "       0.        , 0.        , 0.        , 0.        , 0.        ,\n",
       "       0.        , 0.        , 0.        , 0.        , 0.        ,\n",
       "       0.        , 0.        , 0.        , 0.        , 0.        ,\n",
       "       0.        , 0.        , 0.        , 0.        , 0.        ,\n",
       "       0.        , 0.        , 0.        , 0.        , 0.        ,\n",
       "       0.        , 0.        , 0.        , 0.        , 0.        ,\n",
       "       0.        , 0.        , 0.        ], dtype=float32)"
      ]
     },
     "execution_count": 26,
     "metadata": {},
     "output_type": "execute_result"
    }
   ],
   "source": [
    "state.pipeline_state.qpos"
   ]
  },
  {
   "cell_type": "markdown",
   "metadata": {},
   "source": [
    "## Each Transformation Checking (body index check)\n",
    "it is probably a ordering issue? al;l the numbers looks the same, but the ordering may be what is causing the issue"
   ]
  },
  {
   "cell_type": "code",
   "execution_count": 27,
   "metadata": {},
   "outputs": [
    {
     "data": {
      "text/plain": [
       "array([ 0.        ,  0.        ,  0.94      ,  0.03503343,  0.101937  ,\n",
       "        0.84178506, -0.02235977,  0.24043609,  0.46561425, -0.07985898])"
      ]
     },
     "execution_count": 27,
     "metadata": {},
     "output_type": "execute_result"
    }
   ],
   "source": [
    "time_steps = env.task._time_step + env.task._ref_steps\n",
    "obs = env.task._walker.transform_vec_to_egocentric_frame(env.physics, (env.task._clip_reference_features['body_positions'][time_steps] -\n",
    "                  env.task._walker_features['body_positions'])[:, env.task._body_idxs])\n",
    "obs_flattened = np.concatenate([o.flatten() for o in obs])\n",
    "\n",
    "env.task._walker_features['body_positions'].flatten()[:10]"
   ]
  },
  {
   "cell_type": "markdown",
   "metadata": {},
   "source": [
    "Both from brax environments:\n",
    "1. Sending to brax then grab body positions `xpos` flattened:\n",
    "\n",
    "    ```python\n",
    "    [ 0.02206819 -0.38698062  0.05154771  0.03503342  0.10193701  0.8417851\n",
    "    -0.02235974  0.24043609  0.46561432 -0.07985894]\n",
    "    ```\n",
    "\n",
    "2. Grabbing body positions then sending into brax `xpos` flattened:\n",
    "\n",
    "    ```python\n",
    "    [ 0.          0.          0.94        0.03503342  0.10193701  0.8417851\n",
    "    -0.02235974  0.24043609  0.46561432 -0.07985894]\n",
    "    ```\n",
    "\n",
    "Brax environment instantiation does aweird reordering that distort the original indexes"
   ]
  },
  {
   "cell_type": "markdown",
   "metadata": {},
   "source": [
    "qpos values are the same but xpos are different, body position indexing wrong"
   ]
  },
  {
   "cell_type": "code",
   "execution_count": 28,
   "metadata": {},
   "outputs": [
    {
     "data": {
      "text/plain": [
       "Array([ 2,  3,  4,  5,  6,  7,  8,  9, 10, 11, 12, 13, 14, 15, 16, 17, 18,\n",
       "       19, 20, 21, 22, 23, 24, 25, 26, 27, 28, 29, 30, 31], dtype=int32)"
      ]
     },
     "execution_count": 28,
     "metadata": {},
     "output_type": "execute_result"
    }
   ],
   "source": [
    "env_brax._body_locations"
   ]
  },
  {
   "cell_type": "markdown",
   "metadata": {},
   "source": [
    "positions grabbing now equivalence with the one on the top directly calling from notebook"
   ]
  },
  {
   "cell_type": "markdown",
   "metadata": {},
   "source": [
    "## Each Transformation Checking (check ref_traj as well)"
   ]
  },
  {
   "cell_type": "code",
   "execution_count": 29,
   "metadata": {},
   "outputs": [
    {
     "data": {
      "text/plain": [
       "array([ 0.        ,  0.        ,  0.94      ,  0.03503343,  0.101937  ,\n",
       "        0.84178506, -0.02235977,  0.24043609,  0.46561425, -0.07985898])"
      ]
     },
     "execution_count": 29,
     "metadata": {},
     "output_type": "execute_result"
    }
   ],
   "source": [
    "env.task._clip_reference_features['body_positions'].flatten()[:10]"
   ]
  },
  {
   "cell_type": "code",
   "execution_count": 30,
   "metadata": {},
   "outputs": [
    {
     "data": {
      "text/plain": [
       "Array([ 0.        ,  0.        ,  0.94      ,  0.03503343,  0.101937  ,\n",
       "        0.8417851 , -0.02235977,  0.24043609,  0.46561426, -0.07985898],      dtype=float32)"
      ]
     },
     "execution_count": 30,
     "metadata": {},
     "output_type": "execute_result"
    }
   ],
   "source": [
    "env_brax._ref_traj.body_positions.flatten()[:10]"
   ]
  },
  {
   "cell_type": "markdown",
   "metadata": {},
   "source": [
    "Similar as well, but..."
   ]
  },
  {
   "cell_type": "markdown",
   "metadata": {},
   "source": [
    "There is a extra step from `_ref_traj.body_positions` to `_walker_features['body_positions']`, the data still match up"
   ]
  },
  {
   "cell_type": "code",
   "execution_count": 31,
   "metadata": {},
   "outputs": [
    {
     "data": {
      "text/plain": [
       "array([ 0.        ,  0.        ,  0.94      ,  0.03503343,  0.101937  ,\n",
       "        0.84178506, -0.02235977,  0.24043609,  0.46561425, -0.07985898])"
      ]
     },
     "execution_count": 31,
     "metadata": {},
     "output_type": "execute_result"
    }
   ],
   "source": [
    "env.task._walker_features['body_positions'].flatten()[:10]"
   ]
  },
  {
   "cell_type": "markdown",
   "metadata": {},
   "source": [
    "## Each Transformation Checking (differences check)"
   ]
  },
  {
   "cell_type": "code",
   "execution_count": 32,
   "metadata": {},
   "outputs": [
    {
     "data": {
      "text/plain": [
       "array([-6.77492290e-02,  8.62317918e-06, -1.78336186e-02, -1.07166655e-01,\n",
       "        3.48603853e-05, -2.37769555e-02,  1.68382568e-01, -2.82965011e-02,\n",
       "        2.95138832e-02,  8.94642469e-03])"
      ]
     },
     "execution_count": 32,
     "metadata": {},
     "output_type": "execute_result"
    }
   ],
   "source": [
    "(env.task._clip_reference_features['body_positions'][time_steps] -\n",
    "                  env.task._walker_features['body_positions'])[:, env.task._body_idxs].flatten()[:10]"
   ]
  },
  {
   "cell_type": "code",
   "execution_count": 33,
   "metadata": {},
   "outputs": [],
   "source": [
    "def f(x):\n",
    "      if len(x.shape) != 1:\n",
    "        return jax.lax.dynamic_slice_in_dim(\n",
    "          x, \n",
    "          state.info['cur_frame'] + 1, \n",
    "          env_brax._ref_traj_length, \n",
    "        )\n",
    "      return jp.array([])"
   ]
  },
  {
   "cell_type": "code",
   "execution_count": 34,
   "metadata": {},
   "outputs": [
    {
     "data": {
      "text/plain": [
       "Array([-6.7749232e-02,  8.6231794e-06, -1.7833591e-02, -1.0716664e-01,\n",
       "        3.4846365e-05, -2.3776948e-02,  1.6838254e-01, -2.8296500e-02,\n",
       "        2.9513806e-02,  8.9463890e-03], dtype=float32)"
      ]
     },
     "execution_count": 34,
     "metadata": {},
     "output_type": "execute_result"
    }
   ],
   "source": [
    "ref_traj = jax.tree_util.tree_map(f, env_brax._ref_traj)\n",
    "\n",
    "xpos_flatten = state.pipeline_state.xpos[env_brax._body_locations].flatten()\n",
    "\n",
    "(ref_traj.body_positions - xpos_flatten).reshape([env_brax._ref_traj_length, 30, 3]).flatten()[:10]"
   ]
  },
  {
   "cell_type": "markdown",
   "metadata": {},
   "source": [
    "The differences is the same, may be the problem with transformation then"
   ]
  },
  {
   "cell_type": "markdown",
   "metadata": {},
   "source": [
    "## Each Transformation Checking (transform function check)"
   ]
  },
  {
   "cell_type": "code",
   "execution_count": 35,
   "metadata": {},
   "outputs": [
    {
     "data": {
      "text/plain": [
       "array([ 8.62317918e-06, -2.78480039e-02, -6.42844045e-02,  3.48603853e-05,\n",
       "       -3.96685538e-02, -1.02354489e-01, -2.82965011e-02,  5.45728515e-02,\n",
       "        1.62004822e-01, -4.03528938e-03])"
      ]
     },
     "execution_count": 35,
     "metadata": {},
     "output_type": "execute_result"
    }
   ],
   "source": [
    "obs = env.task._walker.transform_vec_to_egocentric_frame(env.physics,\n",
    "                                                         (env.task._clip_reference_features['body_positions'][time_steps] - \n",
    "                                                          env.task._walker_features['body_positions'])[:, env.task._body_idxs])\n",
    "\n",
    "obs_flattened = np.concatenate([o.flatten() for o in obs])\n",
    "obs_flattened[:10]"
   ]
  },
  {
   "cell_type": "markdown",
   "metadata": {},
   "source": [
    "brax environment after transformation, seems not to be the same, they seems to not be changed at all, `xmat` currently identity matrix\n",
    "```python\n",
    "[-6.7749232e-02  8.6231794e-06 -1.7833591e-02 -1.0716664e-01\n",
    "  3.4846365e-05 -2.3776948e-02  1.6838254e-01 -2.8296500e-02\n",
    "  2.9513806e-02  8.9463890e-03]\n",
    "```"
   ]
  },
  {
   "cell_type": "code",
   "execution_count": 36,
   "metadata": {},
   "outputs": [],
   "source": [
    "def global_vector_to_local_frame(data, vec_in_world_frame):\n",
    "    xmat = jp.reshape(data.xmat[1], (3, 3))\n",
    "    print(xmat)\n",
    "    if vec_in_world_frame.shape[-1] == 2:\n",
    "      return jp.dot(vec_in_world_frame, xmat[:2, :2])\n",
    "    elif vec_in_world_frame.shape[-1] == 3:\n",
    "      return jp.dot(vec_in_world_frame, xmat)\n",
    "    else:\n",
    "      raise ValueError('`vec_in_world_frame` should have shape with final '\n",
    "                       'dimension 2 or 3: got {}'.format(\n",
    "                           vec_in_world_frame.shape))"
   ]
  },
  {
   "cell_type": "code",
   "execution_count": 37,
   "metadata": {},
   "outputs": [
    {
     "name": "stdout",
     "output_type": "stream",
     "text": [
      "[[ 0.          0.15082681  0.9885602 ]\n",
      " [ 1.          0.          0.        ]\n",
      " [ 0.          0.9885602  -0.15082681]]\n"
     ]
    },
    {
     "data": {
      "text/plain": [
       "Array([ 8.62317938e-06, -2.78479792e-02, -6.42844066e-02,  3.48463655e-05,\n",
       "       -3.96685489e-02, -1.02354474e-01, -2.82965004e-02,  5.45727760e-02,\n",
       "        1.62004814e-01, -4.03526425e-03], dtype=float32)"
      ]
     },
     "execution_count": 37,
     "metadata": {},
     "output_type": "execute_result"
    }
   ],
   "source": [
    "ref_traj = jax.tree_util.tree_map(f, env_brax._ref_traj)\n",
    "\n",
    "xpos_flatten = state.pipeline_state.xpos[env_brax._body_locations].flatten()\n",
    "\n",
    "obs = global_vector_to_local_frame(state.pipeline_state,\n",
    "                             (ref_traj.body_positions - xpos_flatten)\n",
    "                             .reshape([env_brax._ref_traj_length, 30, 3]))\n",
    "\n",
    "obs_flattened = jp.concatenate([o.flatten() for o in obs])\n",
    "obs_flattened[:10]"
   ]
  },
  {
   "cell_type": "code",
   "execution_count": 38,
   "metadata": {},
   "outputs": [
    {
     "data": {
      "text/plain": [
       "Array([[ 0.        ,  0.15082681,  0.9885602 ],\n",
       "       [ 1.        ,  0.        ,  0.        ],\n",
       "       [ 0.        ,  0.9885602 , -0.15082681]], dtype=float32)"
      ]
     },
     "execution_count": 38,
     "metadata": {},
     "output_type": "execute_result"
    }
   ],
   "source": [
    "state.pipeline_state.xmat[1]"
   ]
  },
  {
   "cell_type": "markdown",
   "metadata": {},
   "source": [
    "COMIC paper uses the `xmat[1]`, the second `xmat` transformation matrix, might need this to be a changing values"
   ]
  },
  {
   "cell_type": "markdown",
   "metadata": {},
   "source": [
    "## Comparing Obs"
   ]
  },
  {
   "cell_type": "code",
   "execution_count": 39,
   "metadata": {},
   "outputs": [
    {
     "data": {
      "text/plain": [
       "Array([ 8.62317938e-06, -2.78479792e-02, -6.42844066e-02,  3.48463655e-05,\n",
       "       -3.96685489e-02, -1.02354474e-01, -2.82965004e-02,  5.45727760e-02,\n",
       "        1.62004814e-01, -4.03526425e-03], dtype=float32)"
      ]
     },
     "execution_count": 39,
     "metadata": {},
     "output_type": "execute_result"
    }
   ],
   "source": [
    "brax_body_pos_local = state.obs[:450]\n",
    "brax_body_pos_local[:10]"
   ]
  },
  {
   "cell_type": "code",
   "execution_count": 40,
   "metadata": {},
   "outputs": [
    {
     "data": {
      "text/plain": [
       "Array([ 8.62317938e-06, -2.78479792e-02, -6.42844066e-02,  3.48463655e-05,\n",
       "       -3.96685489e-02, -1.02354474e-01, -2.82965004e-02,  5.45727760e-02,\n",
       "        1.62004814e-01, -4.03526425e-03], dtype=float32)"
      ]
     },
     "execution_count": 40,
     "metadata": {},
     "output_type": "execute_result"
    }
   ],
   "source": [
    "COMIC_body_pos_local = obs_flattened[:450]\n",
    "COMIC_body_pos_local[:10]"
   ]
  },
  {
   "cell_type": "code",
   "execution_count": 41,
   "metadata": {},
   "outputs": [
    {
     "data": {
      "text/plain": [
       "array([ 8.62317918e-06, -2.78480039e-02, -6.42844045e-02,  3.48603853e-05,\n",
       "       -3.96685538e-02, -1.02354489e-01, -2.82965011e-02,  5.45728515e-02,\n",
       "        1.62004822e-01, -4.03528938e-03])"
      ]
     },
     "execution_count": 41,
     "metadata": {},
     "output_type": "execute_result"
    }
   ],
   "source": [
    "COMIC_body_pos_local = reset.observation['walker/reference_rel_bodies_pos_local'].flatten()\n",
    "COMIC_body_pos_local[:10]"
   ]
  },
  {
   "cell_type": "code",
   "execution_count": 42,
   "metadata": {},
   "outputs": [
    {
     "data": {
      "text/plain": [
       "450"
      ]
     },
     "execution_count": 42,
     "metadata": {},
     "output_type": "execute_result"
    }
   ],
   "source": [
    "np.isclose(brax_body_pos_local,\n",
    "           COMIC_body_pos_local,\n",
    "           atol=1e-04).sum()"
   ]
  },
  {
   "cell_type": "markdown",
   "metadata": {},
   "source": [
    "Local being the same meaning global is the same"
   ]
  },
  {
   "cell_type": "markdown",
   "metadata": {},
   "source": [
    "# Check reference_rel_bodies_pos_global"
   ]
  },
  {
   "cell_type": "code",
   "execution_count": 43,
   "metadata": {},
   "outputs": [
    {
     "data": {
      "text/plain": [
       "array([-6.77492290e-02,  8.62317918e-06, -1.78336186e-02, -1.07166655e-01,\n",
       "        3.48603853e-05, -2.37769555e-02,  1.68382568e-01, -2.82965011e-02,\n",
       "        2.95138832e-02,  8.94642469e-03])"
      ]
     },
     "execution_count": 43,
     "metadata": {},
     "output_type": "execute_result"
    }
   ],
   "source": [
    "reset.observation['walker/reference_rel_bodies_pos_global'].flatten()[:10]"
   ]
  },
  {
   "cell_type": "code",
   "execution_count": 44,
   "metadata": {},
   "outputs": [
    {
     "data": {
      "text/plain": [
       "Array([-6.7749232e-02,  8.6231794e-06, -1.7833591e-02, -1.0716664e-01,\n",
       "        3.4846365e-05, -2.3776948e-02,  1.6838254e-01, -2.8296500e-02,\n",
       "        2.9513806e-02,  8.9463890e-03], dtype=float32)"
      ]
     },
     "execution_count": 44,
     "metadata": {},
     "output_type": "execute_result"
    }
   ],
   "source": [
    "ref_traj = jax.tree_util.tree_map(f, env_brax._ref_traj)\n",
    "xpos_flatten = state.pipeline_state.xpos[env_brax._body_locations].flatten()\n",
    "obs = (ref_traj.body_positions - xpos_flatten)\n",
    "obs_flattened = obs.flatten()\n",
    "obs_flattened[:10]"
   ]
  },
  {
   "cell_type": "code",
   "execution_count": 45,
   "metadata": {},
   "outputs": [
    {
     "data": {
      "text/plain": [
       "450"
      ]
     },
     "execution_count": 45,
     "metadata": {},
     "output_type": "execute_result"
    }
   ],
   "source": [
    "np.isclose(obs_flattened,\n",
    "           reset.observation['walker/reference_rel_bodies_pos_global'].flatten(),\n",
    "           atol=1e-04).sum()"
   ]
  },
  {
   "cell_type": "markdown",
   "metadata": {},
   "source": [
    "# Comparing Joints Positions"
   ]
  },
  {
   "cell_type": "code",
   "execution_count": 46,
   "metadata": {},
   "outputs": [
    {
     "data": {
      "text/plain": [
       "Array([31, 30, 29, 33, 32,  2,  1,  0, 41,  5,  4, 40, 39, 36, 35, 34, 16,\n",
       "       15, 14, 25, 24, 23, 37, 43, 42,  3,  6, 38, 45, 44,  9,  8,  7, 53,\n",
       "       12, 11, 52, 51, 48, 47, 46, 49, 55, 54, 10, 13, 50, 22, 21, 20, 19,\n",
       "       18, 17, 28, 27, 26], dtype=int32)"
      ]
     },
     "execution_count": 46,
     "metadata": {},
     "output_type": "execute_result"
    }
   ],
   "source": [
    "env_brax._joint_orders"
   ]
  },
  {
   "cell_type": "markdown",
   "metadata": {},
   "source": [
    "Same with the one shown in notebook earlier"
   ]
  },
  {
   "cell_type": "code",
   "execution_count": 47,
   "metadata": {},
   "outputs": [
    {
     "data": {
      "text/plain": [
       "(5, 56)"
      ]
     },
     "execution_count": 47,
     "metadata": {},
     "output_type": "execute_result"
    }
   ],
   "source": [
    "(ref_traj.joints - state.pipeline_state.qpos[7:]).shape"
   ]
  },
  {
   "cell_type": "code",
   "execution_count": 48,
   "metadata": {},
   "outputs": [
    {
     "data": {
      "text/plain": [
       "(5, 56)"
      ]
     },
     "execution_count": 48,
     "metadata": {},
     "output_type": "execute_result"
    }
   ],
   "source": [
    "(ref_traj.joints - state.pipeline_state.qpos[7:])[:,env_brax._joint_orders].shape"
   ]
  },
  {
   "cell_type": "code",
   "execution_count": 49,
   "metadata": {},
   "outputs": [
    {
     "data": {
      "text/plain": [
       "(5, 56)"
      ]
     },
     "execution_count": 49,
     "metadata": {},
     "output_type": "execute_result"
    }
   ],
   "source": [
    "(ref_traj.joints - state.pipeline_state.qpos[7:][env_brax._joint_orders]).shape"
   ]
  },
  {
   "cell_type": "markdown",
   "metadata": {},
   "source": [
    "Now the 2d slicing would work and the dimensionality would match up, no (56,57) dimension"
   ]
  },
  {
   "cell_type": "code",
   "execution_count": 50,
   "metadata": {},
   "outputs": [
    {
     "data": {
      "text/plain": [
       "Array([-9.90474820e-02,  7.79400945e-01,  3.47748071e-01,  3.71101469e-01,\n",
       "        2.09856662e-03,  5.76202932e-04,  4.40269202e-01,  1.17130265e-01,\n",
       "       -1.34602770e-01,  1.42922294e+00], dtype=float32)"
      ]
     },
     "execution_count": 50,
     "metadata": {},
     "output_type": "execute_result"
    }
   ],
   "source": [
    "brax_body_joints = state.obs[state.obs.shape[0]-280:] # 280 joints\n",
    "brax_body_joints[:10]"
   ]
  },
  {
   "cell_type": "code",
   "execution_count": 51,
   "metadata": {},
   "outputs": [
    {
     "data": {
      "text/plain": [
       "array([ 3.51097703e-02,  2.23367805e-04,  6.32195582e-04,  1.06107106e-01,\n",
       "        4.23162204e-03, -1.06353902e+00,  9.13721649e-02,  7.30717459e-02,\n",
       "        4.87872551e-01,  1.46089771e-01])"
      ]
     },
     "execution_count": 51,
     "metadata": {},
     "output_type": "execute_result"
    }
   ],
   "source": [
    "reset.observation['walker/reference_rel_joints'].flatten()[:10]"
   ]
  },
  {
   "cell_type": "code",
   "execution_count": 68,
   "metadata": {},
   "outputs": [
    {
     "data": {
      "text/plain": [
       "array([ 3.51097703e-02,  2.23367805e-04,  6.32195582e-04,  1.06107106e-01,\n",
       "        4.23162204e-03, -1.06353902e+00,  9.13721649e-02,  7.30717459e-02,\n",
       "        4.87872551e-01,  1.46089771e-01])"
      ]
     },
     "execution_count": 68,
     "metadata": {},
     "output_type": "execute_result"
    }
   ],
   "source": [
    "time_steps = env.task._time_step + env.task._ref_steps\n",
    "diff = (env.task._clip_reference_features['joints'][time_steps] -\n",
    "            env.task._walker_joints)\n",
    "diff_flattened = diff[:, env.task._walker.mocap_to_observable_joint_order].flatten()\n",
    "diff_flattened[:10]"
   ]
  },
  {
   "cell_type": "markdown",
   "metadata": {},
   "source": [
    "Seems like the ordering of the joints is not the same between COMIC and brax, this is causing the issue"
   ]
  },
  {
   "cell_type": "code",
   "execution_count": 69,
   "metadata": {},
   "outputs": [
    {
     "data": {
      "text/plain": [
       "Array([ 3.5109770e-02,  2.2336781e-04,  6.3219556e-04,  1.0610711e-01,\n",
       "        4.2316220e-03, -1.0635390e+00,  9.1372162e-02,  7.3071748e-02,\n",
       "        4.8787254e-01,  1.4608978e-01], dtype=float32)"
      ]
     },
     "execution_count": 69,
     "metadata": {},
     "output_type": "execute_result"
    }
   ],
   "source": [
    "qpos_ref = ref_traj.joints\n",
    "diff = (qpos_ref - state.pipeline_state.qpos[7:])[:, env.task._walker.mocap_to_observable_joint_order]#[:,env_brax._joint_orders]\n",
    "brax_env_diff_flattened = diff.flatten()\n",
    "brax_env_diff_flattened[:10]"
   ]
  },
  {
   "cell_type": "code",
   "execution_count": 70,
   "metadata": {},
   "outputs": [
    {
     "data": {
      "text/plain": [
       "Array([ 0.07307175,  0.09137216, -1.063539  ,  1.1439872 , -0.24278677,\n",
       "        0.14608978, -0.4831119 , -0.07377312, -0.09156196, -1.0633751 ],      dtype=float32)"
      ]
     },
     "execution_count": 70,
     "metadata": {},
     "output_type": "execute_result"
    }
   ],
   "source": [
    "qpos_ref = ref_traj.joints\n",
    "diff = (qpos_ref - state.pipeline_state.qpos[7:][env_brax._joint_orders])\n",
    "brax_env_diff_flattened_2 = diff.flatten()\n",
    "brax_env_diff_flattened_2[:10]"
   ]
  },
  {
   "cell_type": "markdown",
   "metadata": {},
   "source": [
    "Checking the order from COMIC and reverse finding the name"
   ]
  },
  {
   "cell_type": "code",
   "execution_count": 71,
   "metadata": {},
   "outputs": [
    {
     "data": {
      "text/plain": [
       "array([31, 30, 29, 33, 32,  2,  1,  0, 41,  5,  4, 40, 39, 36, 35, 34, 16,\n",
       "       15, 14, 25, 24, 23, 37, 43, 42,  3,  6, 38, 45, 44,  9,  8,  7, 53,\n",
       "       12, 11, 52, 51, 48, 47, 46, 49, 55, 54, 10, 13, 50, 22, 21, 20, 19,\n",
       "       18, 17, 28, 27, 26])"
      ]
     },
     "execution_count": 71,
     "metadata": {},
     "output_type": "execute_result"
    }
   ],
   "source": [
    "np.array(env.task._walker.mocap_to_observable_joint_order)"
   ]
  },
  {
   "cell_type": "markdown",
   "metadata": {},
   "source": [
    "Work backward to get the names"
   ]
  },
  {
   "cell_type": "code",
   "execution_count": 72,
   "metadata": {},
   "outputs": [
    {
     "data": {
      "text/plain": [
       "array(['headry', 'headrz', 'upperneckrx', 'lclaviclerz', 'headrx',\n",
       "       'lfemurry', 'lfemurrz', 'root', 'lhandrx', 'lfootrz', 'ltibiarx',\n",
       "       'lhandrz', 'lwristry', 'lhumerusry', 'lhumerusrz', 'lclaviclery',\n",
       "       'lowerbackry', 'lowerbackrz', 'rtoesrx', 'lowerneckry',\n",
       "       'lowerneckrz', 'thoraxrx', 'lhumerusrx', 'lthumbrz', 'lfingersrx',\n",
       "       'lfemurrx', 'lfootrx', 'lradiusrx', 'rclaviclerz', 'lthumbrx',\n",
       "       'rfemurry', 'rfemurrz', 'ltoesrx', 'rhandrx', 'rfootrz',\n",
       "       'rtibiarx', 'rhandrz', 'rwristry', 'rhumerusry', 'rhumerusrz',\n",
       "       'rclaviclery', 'rhumerusrx', 'rthumbrz', 'rfingersrx', 'rfemurrx',\n",
       "       'rfootrx', 'rradiusrx', 'thoraxry', 'thoraxrz', 'upperbackrx',\n",
       "       'upperbackry', 'upperbackrz', 'lowerbackrx', 'upperneckry',\n",
       "       'upperneckrz', 'lowerneckrx'], dtype='<U11')"
      ]
     },
     "execution_count": 72,
     "metadata": {},
     "output_type": "execute_result"
    }
   ],
   "source": [
    "np.array([mujoco.mj_id2name(mj_model, mujoco.mju_str2Type(\"joint\"), joint)\n",
    "          for joint in env.task._walker.mocap_to_observable_joint_order])"
   ]
  },
  {
   "cell_type": "code",
   "execution_count": 73,
   "metadata": {},
   "outputs": [
    {
     "data": {
      "text/plain": [
       "280"
      ]
     },
     "execution_count": 73,
     "metadata": {},
     "output_type": "execute_result"
    }
   ],
   "source": [
    "np.isclose(brax_env_diff_flattened, reset.observation['walker/reference_rel_joints'].flatten()).sum()"
   ]
  },
  {
   "cell_type": "markdown",
   "metadata": {},
   "source": [
    "# Comparing root position\n",
    "correct position should be first three in `qpos`"
   ]
  },
  {
   "cell_type": "code",
   "execution_count": 58,
   "metadata": {},
   "outputs": [
    {
     "data": {
      "text/plain": [
       "array([ 8.62317918e-06, -2.78480039e-02, -6.42844045e-02, -1.32226590e-05,\n",
       "       -1.14394152e-01, -1.21373602e-01, -2.92599295e-05, -1.87009094e-01,\n",
       "       -1.26428729e-01, -2.53498893e-05])"
      ]
     },
     "execution_count": 58,
     "metadata": {},
     "output_type": "execute_result"
    }
   ],
   "source": [
    "reset.observation['walker/reference_rel_root_pos_local'].flatten()[:10]"
   ]
  },
  {
   "cell_type": "code",
   "execution_count": 59,
   "metadata": {},
   "outputs": [
    {
     "data": {
      "text/plain": [
       "Array([ 8.62317938e-06, -2.78479792e-02, -6.42844066e-02, -1.32226587e-05,\n",
       "       -1.14394173e-01, -1.21373594e-01, -2.92599289e-05, -1.87009111e-01,\n",
       "       -1.26428723e-01, -2.53498893e-05], dtype=float32)"
      ]
     },
     "execution_count": 59,
     "metadata": {},
     "output_type": "execute_result"
    }
   ],
   "source": [
    "com = state.pipeline_state.qpos[:3]#state.pipeline_state.subtree_com[0]\n",
    "thing = (ref_traj.position - com)\n",
    "obs = env_brax.global_vector_to_local_frame(state.pipeline_state, thing)\n",
    "brax_obs_flattened = jp.concatenate([o.flatten() for o in obs])\n",
    "brax_obs_flattened[:10]"
   ]
  },
  {
   "cell_type": "code",
   "execution_count": 60,
   "metadata": {},
   "outputs": [
    {
     "data": {
      "text/plain": [
       "Array([0.  , 0.  , 0.94], dtype=float32)"
      ]
     },
     "execution_count": 60,
     "metadata": {},
     "output_type": "execute_result"
    }
   ],
   "source": [
    "com"
   ]
  },
  {
   "cell_type": "code",
   "execution_count": 61,
   "metadata": {},
   "outputs": [
    {
     "data": {
      "text/plain": [
       "array([ 8.62317918e-06, -2.78480039e-02, -6.42844045e-02, -1.32226590e-05,\n",
       "       -1.14394152e-01, -1.21373602e-01, -2.92599295e-05, -1.87009094e-01,\n",
       "       -1.26428729e-01, -2.53498893e-05])"
      ]
     },
     "execution_count": 61,
     "metadata": {},
     "output_type": "execute_result"
    }
   ],
   "source": [
    "time_steps = env.task._time_step + env.task._ref_steps\n",
    "obs = env.task._walker.transform_vec_to_egocentric_frame(\n",
    "        env.physics, (env.task._clip_reference_features['position'][time_steps] -\n",
    "                  env.task._walker_features['position']))\n",
    "obs_flattened = np.concatenate([o.flatten() for o in obs])\n",
    "\n",
    "obs_flattened[:10]"
   ]
  },
  {
   "cell_type": "markdown",
   "metadata": {},
   "source": [
    "Check step by step"
   ]
  },
  {
   "cell_type": "code",
   "execution_count": 62,
   "metadata": {},
   "outputs": [
    {
     "data": {
      "text/plain": [
       "array([0.  , 0.  , 0.94])"
      ]
     },
     "execution_count": 62,
     "metadata": {},
     "output_type": "execute_result"
    }
   ],
   "source": [
    "env.task._walker_features['position']"
   ]
  },
  {
   "cell_type": "code",
   "execution_count": 63,
   "metadata": {},
   "outputs": [
    {
     "data": {
      "text/plain": [
       "15"
      ]
     },
     "execution_count": 63,
     "metadata": {},
     "output_type": "execute_result"
    }
   ],
   "source": [
    "np.isclose(brax_obs_flattened, reset.observation['walker/reference_rel_root_pos_local'].flatten()).sum()"
   ]
  },
  {
   "cell_type": "markdown",
   "metadata": {},
   "source": [
    "# Comparing All Observations"
   ]
  },
  {
   "cell_type": "code",
   "execution_count": 64,
   "metadata": {},
   "outputs": [
    {
     "data": {
      "text/plain": [
       "1195"
      ]
     },
     "execution_count": 64,
     "metadata": {},
     "output_type": "execute_result"
    }
   ],
   "source": [
    "np.isclose(state.obs[:450+450+15+280],COMIC_lst, atol=1e-04).sum()"
   ]
  },
  {
   "cell_type": "code",
   "execution_count": 65,
   "metadata": {},
   "outputs": [
    {
     "data": {
      "text/plain": [
       "(1195,)"
      ]
     },
     "execution_count": 65,
     "metadata": {},
     "output_type": "execute_result"
    }
   ],
   "source": [
    "state.obs[:450+450+15+280].shape"
   ]
  },
  {
   "cell_type": "markdown",
   "metadata": {},
   "source": [
    "All match!!!"
   ]
  },
  {
   "cell_type": "markdown",
   "metadata": {},
   "source": [
    "# Joints Order for Rodent Model\n",
    "1. Hard to instantiate because of agent/proto mismatch with our MOCAP data\n",
    "2. dm_control should use the list of joints just as what is written in the documentation"
   ]
  },
  {
   "cell_type": "markdown",
   "metadata": {},
   "source": [
    "# Comparing ref_appendges_pos"
   ]
  },
  {
   "cell_type": "code",
   "execution_count": 66,
   "metadata": {},
   "outputs": [
    {
     "data": {
      "text/plain": [
       "array([[-0.45634599,  0.41476   , -0.11430375,  0.45844934,  0.41457251,\n",
       "        -0.11405968, -0.37539589, -0.62795519,  0.3692763 ,  0.37496014,\n",
       "        -0.62812286,  0.36945789, -0.00102365,  0.50932764, -0.10341592,\n",
       "        -0.40951064,  0.49287611,  0.26847143,  0.41188137,  0.49241393,\n",
       "         0.26842684, -0.33230921, -0.47547592,  0.17988624,  0.33214898,\n",
       "        -0.47571259,  0.1796875 , -0.00077913,  0.47470758,  0.1990824 ,\n",
       "        -0.3761327 ,  0.32668301,  0.424146  ,  0.37814751,  0.3266576 ,\n",
       "         0.42429442, -0.31386993, -0.44234694,  0.17498533,  0.31418303,\n",
       "        -0.44217935,  0.17485666, -0.00105083,  0.37097046,  0.31755521,\n",
       "        -0.41046867,  0.23070891,  0.3622488 ,  0.41254475,  0.23100998,\n",
       "         0.36249511, -0.3279663 , -0.52494438,  0.29433282,  0.32857207,\n",
       "        -0.52458837,  0.29418791, -0.0012832 ,  0.32515618,  0.33978611,\n",
       "        -0.44742211,  0.28107662,  0.24599315,  0.44943593,  0.28141067,\n",
       "         0.24624748, -0.35384757, -0.55873849,  0.47058686,  0.35419166,\n",
       "        -0.55844518,  0.47061574, -0.00147013,  0.35498838,  0.31296136]])"
      ]
     },
     "execution_count": 66,
     "metadata": {},
     "output_type": "execute_result"
    }
   ],
   "source": [
    "reset.observation['walker/reference_appendages_pos']"
   ]
  },
  {
   "cell_type": "code",
   "execution_count": 67,
   "metadata": {},
   "outputs": [
    {
     "data": {
      "text/plain": [
       "Array([-0.456346  ,  0.41476   , -0.11430375,  0.45844933,  0.4145725 ,\n",
       "       -0.11405968, -0.3753959 , -0.6279552 ,  0.3692763 ,  0.37496015,\n",
       "       -0.62812287,  0.3694579 , -0.00102365,  0.50932765, -0.10341591,\n",
       "       -0.40951064,  0.4928761 ,  0.26847142,  0.41188136,  0.49241394,\n",
       "        0.26842684, -0.33230922, -0.47547594,  0.17988624,  0.332149  ,\n",
       "       -0.4757126 ,  0.1796875 , -0.00077913,  0.47470757,  0.19908239,\n",
       "       -0.3761327 ,  0.326683  ,  0.424146  ,  0.3781475 ,  0.3266576 ,\n",
       "        0.4242944 , -0.31386992, -0.44234693,  0.17498533,  0.31418303,\n",
       "       -0.44217935,  0.17485666, -0.00105083,  0.37097046,  0.31755522,\n",
       "       -0.41046867,  0.23070891,  0.3622488 ,  0.41254476,  0.23100998,\n",
       "        0.3624951 , -0.3279663 , -0.52494437,  0.29433283,  0.32857206,\n",
       "       -0.52458835,  0.2941879 , -0.0012832 ,  0.32515618,  0.3397861 ,\n",
       "       -0.44742212,  0.2810766 ,  0.24599315,  0.44943592,  0.28141066,\n",
       "        0.24624747, -0.35384756, -0.55873847,  0.47058687,  0.35419166,\n",
       "       -0.55844516,  0.47061574, -0.00147013,  0.3549884 ,  0.31296137],      dtype=float32)"
      ]
     },
     "execution_count": 67,
     "metadata": {},
     "output_type": "execute_result"
    }
   ],
   "source": [
    "ref_traj.appendages.flatten()"
   ]
  },
  {
   "cell_type": "code",
   "execution_count": null,
   "metadata": {},
   "outputs": [],
   "source": []
  },
  {
   "cell_type": "code",
   "execution_count": null,
   "metadata": {},
   "outputs": [],
   "source": []
  }
 ],
 "metadata": {
  "kernelspec": {
   "display_name": "rl",
   "language": "python",
   "name": "python3"
  },
  "language_info": {
   "codemirror_mode": {
    "name": "ipython",
    "version": 3
   },
   "file_extension": ".py",
   "mimetype": "text/x-python",
   "name": "python",
   "nbconvert_exporter": "python",
   "pygments_lexer": "ipython3",
   "version": "3.10.9"
  }
 },
 "nbformat": 4,
 "nbformat_minor": 2
}
