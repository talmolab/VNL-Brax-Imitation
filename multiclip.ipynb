{
 "cells": [
  {
   "cell_type": "code",
   "execution_count": 1,
   "metadata": {},
   "outputs": [
    {
     "name": "stderr",
     "output_type": "stream",
     "text": [
      "2024-07-02 21:44:31.935280: W external/xla/xla/service/gpu/nvptx_compiler.cc:765] The NVIDIA driver's CUDA version is 12.2 which is older than the ptxas CUDA version (12.5.82). Because the driver is older than the ptxas version, XLA is disabling parallel compilation, which may slow down compilation. You should update your NVIDIA driver or use the NVIDIA-provided CUDA forward compatibility packages.\n"
     ]
    }
   ],
   "source": [
    "%load_ext autoreload\n",
    "%autoreload 2\n",
    "import jax\n",
    "from jax import random\n",
    "from envs.rodent import RodentMultiClipTracking, RodentTracking\n",
    "from preprocessing import mjx_preprocess as mjxp\n",
    "\n",
    "from brax.training.agents.ppo import networks as ppo_networks\n",
    "\n",
    "import numpy as np\n",
    "import mediapy as media\n",
    "import jax.numpy as jp\n",
    "import mujoco\n",
    "import warnings\n",
    "warnings.filterwarnings(\"ignore\", category=DeprecationWarning)\n",
    "\n",
    "from brax import envs\n",
    "from preprocessing.mjx_preprocess import process_clip_to_train"
   ]
  },
  {
   "cell_type": "code",
   "execution_count": 2,
   "metadata": {},
   "outputs": [
    {
     "name": "stderr",
     "output_type": "stream",
     "text": [
      "/root/anaconda3/envs/vnl/lib/python3.11/site-packages/jax/_src/interpreters/xla.py:155: RuntimeWarning: overflow encountered in cast\n",
      "  return np.asarray(x, dtypes.canonicalize_dtype(x.dtype))\n"
     ]
    }
   ],
   "source": [
    "reference_clip = process_clip_to_train('clips/all_snips.p')"
   ]
  },
  {
   "cell_type": "code",
   "execution_count": null,
   "metadata": {},
   "outputs": [],
   "source": [
    "envs.register_environment(\"rodent\", RodentMultiClipTracking)\n",
    "\n",
    "# Define the environment arguments\n",
    "env_args = {\n",
    "    \"reference_clip\": reference_clip,\n",
    "    \"end_eff_names\": [\n",
    "        \"foot_L\",\n",
    "        \"foot_R\",\n",
    "        \"hand_L\",\n",
    "        \"hand_R\"\n",
    "    ],\n",
    "    \"appendage_names\": [\n",
    "        \"foot_L\",\n",
    "        \"foot_R\",\n",
    "        \"hand_L\",\n",
    "        \"hand_R\",\n",
    "        \"skull\"\n",
    "    ],\n",
    "    \"walker_body_names\": [\n",
    "        \"torso\",\n",
    "        \"pelvis\",\n",
    "        \"upper_leg_L\",\n",
    "        \"lower_leg_L\",\n",
    "        \"foot_L\",\n",
    "        \"upper_leg_R\",\n",
    "        \"lower_leg_R\",\n",
    "        \"foot_R\",\n",
    "        \"skull\",\n",
    "        \"jaw\",\n",
    "        \"scapula_L\",\n",
    "        \"upper_arm_L\",\n",
    "        \"lower_arm_L\",\n",
    "        \"finger_L\",\n",
    "        \"scapula_R\",\n",
    "        \"upper_arm_R\",\n",
    "        \"lower_arm_R\",\n",
    "        \"finger_R\"\n",
    "    ],\n",
    "    \"joint_names\": [\n",
    "        \"vertebra_1_extend\",\n",
    "        \"hip_L_supinate\",\n",
    "        \"hip_L_abduct\",\n",
    "        \"hip_L_extend\",\n",
    "        \"knee_L\",\n",
    "        \"ankle_L\",\n",
    "        \"toe_L\",\n",
    "        \"hip_R_supinate\",\n",
    "        \"hip_R_abduct\",\n",
    "        \"hip_R_extend\",\n",
    "        \"knee_R\",\n",
    "        \"ankle_R\",\n",
    "        \"toe_R\",\n",
    "        \"vertebra_C11_extend\",\n",
    "        \"vertebra_cervical_1_bend\",\n",
    "        \"vertebra_axis_twist\",\n",
    "        \"atlas\",\n",
    "        \"mandible\",\n",
    "        \"scapula_L_supinate\",\n",
    "        \"scapula_L_abduct\",\n",
    "        \"scapula_L_extend\",\n",
    "        \"shoulder_L\",\n",
    "        \"shoulder_sup_L\",\n",
    "        \"elbow_L\",\n",
    "        \"wrist_L\",\n",
    "        \"scapula_R_supinate\",\n",
    "        \"scapula_R_abduct\",\n",
    "        \"scapula_R_extend\",\n",
    "        \"shoulder_R\",\n",
    "        \"shoulder_sup_R\",\n",
    "        \"elbow_R\",\n",
    "        \"wrist_R\",\n",
    "        \"finger_R\"\n",
    "    ],\n",
    "    \"center_of_mass\": \"torso\",\n",
    "    \"mjcf_path\": \"./assets/rodent.xml\",\n",
    "    \"scale_factor\": 0.9,\n",
    "    \"solver\": \"cg\",\n",
    "    \"iterations\": 6,\n",
    "    \"ls_iterations\": 6,\n",
    "    \"healthy_z_range\": (0.2, 1.0),\n",
    "    \"reset_noise_scale\": 0.1,\n",
    "    \"clip_length\": 250,\n",
    "    \"sub_clip_length\": 10,\n",
    "    \"ref_traj_length\": 5,\n",
    "    \"termination_threshold\": 5,\n",
    "    \"body_error_multiplier\": 1.0,\n",
    "    # \"min_steps\": 10,\n",
    "}\n",
    "\n",
    "env = envs.get_environment('rodent', **env_args)"
   ]
  },
  {
   "cell_type": "code",
   "execution_count": null,
   "metadata": {},
   "outputs": [],
   "source": [
    "key = random.PRNGKey(100)\n",
    "reset_fn = jax.jit(jax.vmap(env.reset))\n",
    "step_fn = jax.jit(jax.vmap(env.step))"
   ]
  },
  {
   "cell_type": "code",
   "execution_count": 33,
   "metadata": {},
   "outputs": [],
   "source": [
    "n_envs = 1\n",
    "key_envs = jax.random.split(key, n_envs)\n",
    "env_state = reset_fn(key_envs)"
   ]
  },
  {
   "cell_type": "code",
   "execution_count": null,
   "metadata": {},
   "outputs": [
    {
     "name": "stderr",
     "output_type": "stream",
     "text": [
      "/var/folders/yt/5gdjwln55x9_stgx851x0yb80000gn/T/ipykernel_11561/2164151359.py:3: FutureWarning: choice accepts a single key, but was given a key array of shape (1, 2) != (). Use jax.vmap for batching. In a future JAX version, this will be an error.\n",
      "  index = jax.random.choice(\n",
      "/Users/kevinb/Desktop/salk/rodent/VNL-Brax-Imitation-Intention/.brax-imitation/lib/python3.10/site-packages/jax/_src/random.py:670: FutureWarning: uniform accepts a single key, but was given a key array of shape (1,) != (). Use jax.vmap for batching. In a future JAX version, this will be an error.\n",
      "  r = p_cuml[-1] * (1 - uniform(key, shape, dtype=p_cuml.dtype))\n"
     ]
    },
    {
     "data": {
      "text/plain": [
       "3"
      ]
     },
     "execution_count": 58,
     "metadata": {},
     "output_type": "execute_result"
    }
   ],
   "source": [
    "# key = random.PRNGKey(100)\n",
    "# key_envs = jax.random.split(key, 1)\n",
    "# index = jax.random.choice(\n",
    "#                 key_envs,\n",
    "#                 a=jp.arange(5),\n",
    "#                 p=jp.array([0.1,0.1,0.1,0.1,0.1])\n",
    "#             )\n",
    "# int(index)"
   ]
  },
  {
   "cell_type": "code",
   "execution_count": null,
   "metadata": {},
   "outputs": [],
   "source": []
  }
 ],
 "metadata": {
  "kernelspec": {
   "display_name": ".brax-imitation",
   "language": "python",
   "name": "python3"
  },
  "language_info": {
   "codemirror_mode": {
    "name": "ipython",
    "version": 3
   },
   "file_extension": ".py",
   "mimetype": "text/x-python",
   "name": "python",
   "nbconvert_exporter": "python",
   "pygments_lexer": "ipython3",
   "version": "3.11.9"
  }
 },
 "nbformat": 4,
 "nbformat_minor": 2
}
