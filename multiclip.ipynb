{
 "cells": [
  {
   "cell_type": "code",
   "execution_count": 30,
   "metadata": {},
   "outputs": [
    {
     "name": "stdout",
     "output_type": "stream",
     "text": [
      "The autoreload extension is already loaded. To reload it, use:\n",
      "  %reload_ext autoreload\n"
     ]
    }
   ],
   "source": [
    "%load_ext autoreload\n",
    "%autoreload 2\n",
    "import jax\n",
    "from jax import random\n",
    "from envs.rodent import RodentMultiClipTracking, RodentTracking\n",
    "from preprocessing import mjx_preprocess as mjxp\n",
    "\n",
    "from brax.training.agents.ppo import networks as ppo_networks\n",
    "\n",
    "import numpy as np\n",
    "import mediapy as media\n",
    "import jax.numpy as jp\n",
    "import mujoco\n",
    "import warnings\n",
    "warnings.filterwarnings(\"ignore\", category=DeprecationWarning)\n",
    "\n",
    "from brax import envs"
   ]
  },
  {
   "cell_type": "code",
   "execution_count": 59,
   "metadata": {},
   "outputs": [],
   "source": [
    "reference_clip = mjxp.process_clip('clips/all_snips.p', 1, 10)"
   ]
  },
  {
   "cell_type": "code",
   "execution_count": 60,
   "metadata": {},
   "outputs": [],
   "source": [
    "envs.register_environment(\"rodent\", RodentMultiClipTracking)\n",
    "\n",
    "# Define the environment arguments\n",
    "env_args = {\n",
    "    \"reference_clip\": reference_clip,\n",
    "    \"end_eff_names\": [\n",
    "        \"foot_L\",\n",
    "        \"foot_R\",\n",
    "        \"hand_L\",\n",
    "        \"hand_R\"\n",
    "    ],\n",
    "    \"appendage_names\": [\n",
    "        \"foot_L\",\n",
    "        \"foot_R\",\n",
    "        \"hand_L\",\n",
    "        \"hand_R\",\n",
    "        \"skull\"\n",
    "    ],\n",
    "    \"walker_body_names\": [\n",
    "        \"torso\",\n",
    "        \"pelvis\",\n",
    "        \"upper_leg_L\",\n",
    "        \"lower_leg_L\",\n",
    "        \"foot_L\",\n",
    "        \"upper_leg_R\",\n",
    "        \"lower_leg_R\",\n",
    "        \"foot_R\",\n",
    "        \"skull\",\n",
    "        \"jaw\",\n",
    "        \"scapula_L\",\n",
    "        \"upper_arm_L\",\n",
    "        \"lower_arm_L\",\n",
    "        \"finger_L\",\n",
    "        \"scapula_R\",\n",
    "        \"upper_arm_R\",\n",
    "        \"lower_arm_R\",\n",
    "        \"finger_R\"\n",
    "    ],\n",
    "    \"joint_names\": [\n",
    "        \"vertebra_1_extend\",\n",
    "        \"hip_L_supinate\",\n",
    "        \"hip_L_abduct\",\n",
    "        \"hip_L_extend\",\n",
    "        \"knee_L\",\n",
    "        \"ankle_L\",\n",
    "        \"toe_L\",\n",
    "        \"hip_R_supinate\",\n",
    "        \"hip_R_abduct\",\n",
    "        \"hip_R_extend\",\n",
    "        \"knee_R\",\n",
    "        \"ankle_R\",\n",
    "        \"toe_R\",\n",
    "        \"vertebra_C11_extend\",\n",
    "        \"vertebra_cervical_1_bend\",\n",
    "        \"vertebra_axis_twist\",\n",
    "        \"atlas\",\n",
    "        \"mandible\",\n",
    "        \"scapula_L_supinate\",\n",
    "        \"scapula_L_abduct\",\n",
    "        \"scapula_L_extend\",\n",
    "        \"shoulder_L\",\n",
    "        \"shoulder_sup_L\",\n",
    "        \"elbow_L\",\n",
    "        \"wrist_L\",\n",
    "        \"scapula_R_supinate\",\n",
    "        \"scapula_R_abduct\",\n",
    "        \"scapula_R_extend\",\n",
    "        \"shoulder_R\",\n",
    "        \"shoulder_sup_R\",\n",
    "        \"elbow_R\",\n",
    "        \"wrist_R\",\n",
    "        \"finger_R\"\n",
    "    ],\n",
    "    \"center_of_mass\": \"torso\",\n",
    "    \"mjcf_path\": \"./assets/rodent.xml\",\n",
    "    \"scale_factor\": 0.9,\n",
    "    \"solver\": \"cg\",\n",
    "    \"iterations\": 6,\n",
    "    \"ls_iterations\": 6,\n",
    "    \"healthy_z_range\": (0.2, 1.0),\n",
    "    \"reset_noise_scale\": 0.1,\n",
    "    \"clip_length\": 250,\n",
    "    \"sub_clip_length\": 10,\n",
    "    \"ref_traj_length\": 5,\n",
    "    \"termination_threshold\": 5,\n",
    "    \"body_error_multiplier\": 1.0,\n",
    "    \"min_steps\": 10,\n",
    "    \"always_init_at_clip_start\": True\n",
    "}\n",
    "\n",
    "env = envs.get_environment('rodent', **env_args)"
   ]
  },
  {
   "cell_type": "code",
   "execution_count": 61,
   "metadata": {},
   "outputs": [],
   "source": [
    "key = random.PRNGKey(100)\n",
    "reset_fn = jax.jit(jax.vmap(env.reset))\n",
    "step_fn = jax.jit(jax.vmap(env.step))"
   ]
  },
  {
   "cell_type": "code",
   "execution_count": 63,
   "metadata": {},
   "outputs": [
    {
     "name": "stdout",
     "output_type": "stream",
     "text": [
      "(842,) (842,) (842,)\n",
      "(842, 2)\n",
      "Traced<ShapedArray(float32[2])>with<BatchTrace(level=2/0)> with\n",
      "  val = Traced<ShapedArray(float32[1,2])>with<DynamicJaxprTrace(level=1/0)>\n",
      "  batch_dim = 0\n",
      "Traced<ShapedArray(int32[])>with<BatchTrace(level=2/0)> with\n",
      "  val = Traced<ShapedArray(int32[1])>with<DynamicJaxprTrace(level=1/0)>\n",
      "  batch_dim = 0\n",
      "Traced<ShapedArray(int32[])>with<BatchTrace(level=2/0)> with\n",
      "  val = Traced<ShapedArray(int32[1])>with<DynamicJaxprTrace(level=1/0)>\n",
      "  batch_dim = 0\n",
      "Traced<ShapedArray(int32[])>with<BatchTrace(level=2/0)> with\n",
      "  val = Traced<ShapedArray(int32[1])>with<DynamicJaxprTrace(level=1/0)>\n",
      "  batch_dim = 0\n"
     ]
    },
    {
     "ename": "TypeError",
     "evalue": "Only integer scalar arrays can be converted to a scalar index.",
     "output_type": "error",
     "traceback": [
      "\u001b[0;31m---------------------------------------------------------------------------\u001b[0m",
      "\u001b[0;31mTypeError\u001b[0m                                 Traceback (most recent call last)",
      "Cell \u001b[0;32mIn[63], line 3\u001b[0m\n\u001b[1;32m      1\u001b[0m n_envs \u001b[38;5;241m=\u001b[39m \u001b[38;5;241m1\u001b[39m\n\u001b[1;32m      2\u001b[0m key_envs \u001b[38;5;241m=\u001b[39m jax\u001b[38;5;241m.\u001b[39mrandom\u001b[38;5;241m.\u001b[39msplit(key, n_envs)\n\u001b[0;32m----> 3\u001b[0m env_state \u001b[38;5;241m=\u001b[39m \u001b[43mreset_fn\u001b[49m\u001b[43m(\u001b[49m\u001b[43mkey_envs\u001b[49m\u001b[43m)\u001b[49m\n",
      "    \u001b[0;31m[... skipping hidden 14 frame]\u001b[0m\n",
      "File \u001b[0;32m~/Desktop/salk/rodent/VNL-Brax-Imitation-Intention/envs/rodent.py:658\u001b[0m, in \u001b[0;36mRodentMultiClipTracking.reset\u001b[0;34m(self, rng)\u001b[0m\n\u001b[1;32m    656\u001b[0m \u001b[38;5;28mself\u001b[39m\u001b[38;5;241m.\u001b[39m_load_reference_data(\u001b[38;5;28mself\u001b[39m\u001b[38;5;241m.\u001b[39m_reference_clip_path)\n\u001b[1;32m    657\u001b[0m \u001b[38;5;28mself\u001b[39m\u001b[38;5;241m.\u001b[39m_get_possible_starts()\n\u001b[0;32m--> 658\u001b[0m \u001b[38;5;28;43mself\u001b[39;49m\u001b[38;5;241;43m.\u001b[39;49m\u001b[43m_get_clip_to_track\u001b[49m\u001b[43m(\u001b[49m\u001b[43mrng\u001b[49m\u001b[43m)\u001b[49m\n\u001b[1;32m    660\u001b[0m noise \u001b[38;5;241m=\u001b[39m \u001b[38;5;28mself\u001b[39m\u001b[38;5;241m.\u001b[39m_reset_noise_scale \u001b[38;5;241m*\u001b[39m jax\u001b[38;5;241m.\u001b[39mrandom\u001b[38;5;241m.\u001b[39mnormal(rng, shape\u001b[38;5;241m=\u001b[39m(\u001b[38;5;28mself\u001b[39m\u001b[38;5;241m.\u001b[39msys\u001b[38;5;241m.\u001b[39mnq,))\n\u001b[1;32m    662\u001b[0m qpos \u001b[38;5;241m=\u001b[39m jp\u001b[38;5;241m.\u001b[39mhstack(\n\u001b[1;32m    663\u001b[0m     [\n\u001b[1;32m    664\u001b[0m         \u001b[38;5;28mself\u001b[39m\u001b[38;5;241m.\u001b[39m_ref_traj\u001b[38;5;241m.\u001b[39mposition[\u001b[38;5;28mself\u001b[39m\u001b[38;5;241m.\u001b[39m_start_frame, :],\n\u001b[0;32m   (...)\u001b[0m\n\u001b[1;32m    667\u001b[0m     ]\n\u001b[1;32m    668\u001b[0m )\n",
      "File \u001b[0;32m~/Desktop/salk/rodent/VNL-Brax-Imitation-Intention/envs/rodent.py:635\u001b[0m, in \u001b[0;36mRodentMultiClipTracking._get_clip_to_track\u001b[0;34m(self, rng)\u001b[0m\n\u001b[1;32m    631\u001b[0m \u001b[38;5;28mself\u001b[39m\u001b[38;5;241m.\u001b[39m_ref_traj_index \u001b[38;5;241m=\u001b[39m clip_index\n\u001b[1;32m    633\u001b[0m \u001b[38;5;28mprint\u001b[39m(clip_index\u001b[38;5;241m.\u001b[39mastype(\u001b[38;5;28mint\u001b[39m))\n\u001b[0;32m--> 635\u001b[0m clip_id \u001b[38;5;241m=\u001b[39m \u001b[38;5;28;43mself\u001b[39;49m\u001b[38;5;241;43m.\u001b[39;49m\u001b[43m_dataset\u001b[49m\u001b[38;5;241;43m.\u001b[39;49m\u001b[43mids\u001b[49m\u001b[43m[\u001b[49m\u001b[38;5;28;43mself\u001b[39;49m\u001b[38;5;241;43m.\u001b[39;49m\u001b[43m_ref_traj_index\u001b[49m\u001b[43m]\u001b[49m\n\u001b[1;32m    637\u001b[0m \u001b[38;5;66;03m# Replace the self._all_clips with valid ReferenceClip objects, need separately broken down clips\u001b[39;00m\n\u001b[1;32m    638\u001b[0m \u001b[38;5;28mself\u001b[39m\u001b[38;5;241m.\u001b[39m_all_clips[\u001b[38;5;28mself\u001b[39m\u001b[38;5;241m.\u001b[39m_ref_traj_index] \u001b[38;5;241m=\u001b[39m \u001b[38;5;28mself\u001b[39m\u001b[38;5;241m.\u001b[39m_loader\u001b[38;5;241m.\u001b[39mprocess_clip(\n\u001b[1;32m    639\u001b[0m     clip_id, start_step\u001b[38;5;241m=\u001b[39mstart_step, clip_length\u001b[38;5;241m=\u001b[39m\u001b[38;5;28mself\u001b[39m\u001b[38;5;241m.\u001b[39m_clip_length\n\u001b[1;32m    640\u001b[0m )\n",
      "    \u001b[0;31m[... skipping hidden 1 frame]\u001b[0m\n",
      "File \u001b[0;32m~/Desktop/salk/rodent/VNL-Brax-Imitation-Intention/.brax-imitation/lib/python3.10/site-packages/jax/_src/core.py:650\u001b[0m, in \u001b[0;36mcheck_integer_conversion\u001b[0;34m(arr)\u001b[0m\n\u001b[1;32m    648\u001b[0m \u001b[38;5;28;01mdef\u001b[39;00m \u001b[38;5;21mcheck_integer_conversion\u001b[39m(arr: Array):\n\u001b[1;32m    649\u001b[0m   \u001b[38;5;28;01mif\u001b[39;00m \u001b[38;5;129;01mnot\u001b[39;00m (arr\u001b[38;5;241m.\u001b[39mshape \u001b[38;5;241m==\u001b[39m () \u001b[38;5;129;01mand\u001b[39;00m dtypes\u001b[38;5;241m.\u001b[39missubdtype(arr\u001b[38;5;241m.\u001b[39mdtype, np\u001b[38;5;241m.\u001b[39minteger)):\n\u001b[0;32m--> 650\u001b[0m     \u001b[38;5;28;01mraise\u001b[39;00m \u001b[38;5;167;01mTypeError\u001b[39;00m(\u001b[38;5;124m\"\u001b[39m\u001b[38;5;124mOnly integer scalar arrays can be converted to a scalar index.\u001b[39m\u001b[38;5;124m\"\u001b[39m)\n",
      "\u001b[0;31mTypeError\u001b[0m: Only integer scalar arrays can be converted to a scalar index."
     ]
    }
   ],
   "source": [
    "n_envs = 1\n",
    "key_envs = jax.random.split(key, n_envs)\n",
    "env_state = reset_fn(key_envs)"
   ]
  },
  {
   "cell_type": "code",
   "execution_count": null,
   "metadata": {},
   "outputs": [
    {
     "name": "stderr",
     "output_type": "stream",
     "text": [
      "/var/folders/yt/5gdjwln55x9_stgx851x0yb80000gn/T/ipykernel_11561/2164151359.py:3: FutureWarning: choice accepts a single key, but was given a key array of shape (1, 2) != (). Use jax.vmap for batching. In a future JAX version, this will be an error.\n",
      "  index = jax.random.choice(\n",
      "/Users/kevinb/Desktop/salk/rodent/VNL-Brax-Imitation-Intention/.brax-imitation/lib/python3.10/site-packages/jax/_src/random.py:670: FutureWarning: uniform accepts a single key, but was given a key array of shape (1,) != (). Use jax.vmap for batching. In a future JAX version, this will be an error.\n",
      "  r = p_cuml[-1] * (1 - uniform(key, shape, dtype=p_cuml.dtype))\n"
     ]
    },
    {
     "data": {
      "text/plain": [
       "3"
      ]
     },
     "execution_count": 58,
     "metadata": {},
     "output_type": "execute_result"
    }
   ],
   "source": [
    "key = random.PRNGKey(100)\n",
    "key_envs = jax.random.split(key, 1)\n",
    "index = jax.random.choice(\n",
    "                key_envs,\n",
    "                a=jp.arange(5),\n",
    "                p=jp.array([0.1,0.1,0.1,0.1,0.1])\n",
    "            )\n",
    "int(index)"
   ]
  }
 ],
 "metadata": {
  "kernelspec": {
   "display_name": ".brax-imitation",
   "language": "python",
   "name": "python3"
  },
  "language_info": {
   "codemirror_mode": {
    "name": "ipython",
    "version": 3
   },
   "file_extension": ".py",
   "mimetype": "text/x-python",
   "name": "python",
   "nbconvert_exporter": "python",
   "pygments_lexer": "ipython3",
   "version": "3.10.9"
  }
 },
 "nbformat": 4,
 "nbformat_minor": 2
}
