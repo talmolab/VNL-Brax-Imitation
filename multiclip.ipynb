{
 "cells": [
  {
   "cell_type": "code",
   "execution_count": 1,
   "metadata": {},
   "outputs": [
    {
     "name": "stderr",
     "output_type": "stream",
     "text": [
      "2024-07-15 23:05:12.136490: W external/xla/xla/service/gpu/nvptx_compiler.cc:765] The NVIDIA driver's CUDA version is 12.2 which is older than the ptxas CUDA version (12.5.82). Because the driver is older than the ptxas version, XLA is disabling parallel compilation, which may slow down compilation. You should update your NVIDIA driver or use the NVIDIA-provided CUDA forward compatibility packages.\n"
     ]
    }
   ],
   "source": [
    "%load_ext autoreload\n",
    "%autoreload 2\n",
    "import jax\n",
    "from jax import random\n",
    "from envs.rodent import RodentMultiClipTracking, RodentTracking\n",
    "from preprocessing import mjx_preprocess as mjxp\n",
    "\n",
    "from brax.training.agents.ppo import networks as ppo_networks\n",
    "\n",
    "import numpy as np\n",
    "import mediapy as media\n",
    "import jax.numpy as jp\n",
    "import mujoco\n",
    "import warnings\n",
    "warnings.filterwarnings(\"ignore\", category=DeprecationWarning)\n",
    "\n",
    "from brax import envs\n",
    "from preprocessing.mjx_preprocess import process_clip_to_train"
   ]
  },
  {
   "cell_type": "code",
   "execution_count": 2,
   "metadata": {},
   "outputs": [
    {
     "name": "stderr",
     "output_type": "stream",
     "text": [
      "/root/anaconda3/envs/vnl/lib/python3.11/site-packages/jax/_src/interpreters/xla.py:155: RuntimeWarning: overflow encountered in cast\n",
      "  return np.asarray(x, dtypes.canonicalize_dtype(x.dtype))\n"
     ]
    }
   ],
   "source": [
    "reference_clip = process_clip_to_train('clips/all_snips.p')"
   ]
  },
  {
   "cell_type": "code",
   "execution_count": 3,
   "metadata": {},
   "outputs": [],
   "source": [
    "envs.register_environment(\"rodent\", RodentMultiClipTracking)\n",
    "\n",
    "# Define the environment arguments\n",
    "env_args = {\n",
    "    \"reference_clip\": reference_clip,\n",
    "    \"end_eff_names\": [\n",
    "        \"foot_L\",\n",
    "        \"foot_R\",\n",
    "        \"hand_L\",\n",
    "        \"hand_R\"\n",
    "    ],\n",
    "    \"appendage_names\": [\n",
    "        \"foot_L\",\n",
    "        \"foot_R\",\n",
    "        \"hand_L\",\n",
    "        \"hand_R\",\n",
    "        \"skull\"\n",
    "    ],\n",
    "    \"walker_body_names\": [\n",
    "        \"torso\",\n",
    "        \"pelvis\",\n",
    "        \"upper_leg_L\",\n",
    "        \"lower_leg_L\",\n",
    "        \"foot_L\",\n",
    "        \"upper_leg_R\",\n",
    "        \"lower_leg_R\",\n",
    "        \"foot_R\",\n",
    "        \"skull\",\n",
    "        \"jaw\",\n",
    "        \"scapula_L\",\n",
    "        \"upper_arm_L\",\n",
    "        \"lower_arm_L\",\n",
    "        \"finger_L\",\n",
    "        \"scapula_R\",\n",
    "        \"upper_arm_R\",\n",
    "        \"lower_arm_R\",\n",
    "        \"finger_R\"\n",
    "    ],\n",
    "    \"joint_names\": [\n",
    "        \"vertebra_1_extend\",\n",
    "        \"hip_L_supinate\",\n",
    "        \"hip_L_abduct\",\n",
    "        \"hip_L_extend\",\n",
    "        \"knee_L\",\n",
    "        \"ankle_L\",\n",
    "        \"toe_L\",\n",
    "        \"hip_R_supinate\",\n",
    "        \"hip_R_abduct\",\n",
    "        \"hip_R_extend\",\n",
    "        \"knee_R\",\n",
    "        \"ankle_R\",\n",
    "        \"toe_R\",\n",
    "        \"vertebra_C11_extend\",\n",
    "        \"vertebra_cervical_1_bend\",\n",
    "        \"vertebra_axis_twist\",\n",
    "        \"atlas\",\n",
    "        \"mandible\",\n",
    "        \"scapula_L_supinate\",\n",
    "        \"scapula_L_abduct\",\n",
    "        \"scapula_L_extend\",\n",
    "        \"shoulder_L\",\n",
    "        \"shoulder_sup_L\",\n",
    "        \"elbow_L\",\n",
    "        \"wrist_L\",\n",
    "        \"scapula_R_supinate\",\n",
    "        \"scapula_R_abduct\",\n",
    "        \"scapula_R_extend\",\n",
    "        \"shoulder_R\",\n",
    "        \"shoulder_sup_R\",\n",
    "        \"elbow_R\",\n",
    "        \"wrist_R\",\n",
    "        \"finger_R\"\n",
    "    ],\n",
    "    \"center_of_mass\": \"torso\",\n",
    "    \"mjcf_path\": \"./assets/rodent.xml\",\n",
    "    \"scale_factor\": 0.9,\n",
    "    \"solver\": \"cg\",\n",
    "    \"iterations\": 6,\n",
    "    \"ls_iterations\": 6,\n",
    "    \"healthy_z_range\": (0.2, 1.0),\n",
    "    \"reset_noise_scale\": 0.1,\n",
    "    \"clip_length\": 250,\n",
    "    \"sub_clip_length\": 10,\n",
    "    \"ref_traj_length\": 5,\n",
    "    \"termination_threshold\": 5,\n",
    "    \"body_error_multiplier\": 1.0,\n",
    "    \"min_steps\": 10,\n",
    "    \"random_start\":True,\n",
    "}\n",
    "\n",
    "env = envs.get_environment('rodent', **env_args)"
   ]
  },
  {
   "cell_type": "markdown",
   "metadata": {},
   "source": [
    "## Checking reset & step functionality\n",
    "\n",
    "**reset function does support `vmap` for parralel env processing, but not the step function**"
   ]
  },
  {
   "cell_type": "code",
   "execution_count": 4,
   "metadata": {},
   "outputs": [
    {
     "data": {
      "text/plain": [
       "Array([ 28, 118,  71,  54,   3, 182,  27, 200, 106, 140, 109, 113,  12,\n",
       "       213, 186, 203, 164, 139, 189, 132,  42,  68, 206,  54,  60, 138,\n",
       "        80, 213,  75, 150,  57, 134,   1, 141, 117,  49, 207, 196, 148,\n",
       "        97, 203, 205,  99, 170, 113,  99, 191,  44, 107, 163,  81,  30,\n",
       "        74, 127, 144,  97, 191, 174,  33, 157, 176,  86, 172, 123, 120,\n",
       "        53,  80,  29, 113, 122,  24, 135,   2,  85, 152,  48, 150,  67,\n",
       "       210,  24, 148,   3,  50, 149,  47, 215, 218, 197,  94,  10, 106,\n",
       "       112, 185, 111,   2, 197,  77, 203,  10, 230, 106,  82, 229,  57,\n",
       "         9, 190,  68, 186, 220, 180, 212, 201, 127, 200,  27,  51, 153,\n",
       "       179,  45, 191, 213,   0, 176,  55, 170, 112,  23, 112,   4,  68,\n",
       "        35, 137, 115, 212, 132, 196,  47, 101, 136, 134, 162, 127, 195,\n",
       "       122, 117, 208,  88,  59, 179,  19,  28,  72, 112,  17,  53, 108,\n",
       "       116, 220, 115,  96, 142, 231,  15,  68, 124,  23,  80, 219, 107,\n",
       "       116,  55, 231, 139, 109, 160, 113,  57,  49, 105,  52,  26, 108,\n",
       "        13,  61,  75,  21, 133, 122, 159,  18, 147, 125, 182, 222,  94,\n",
       "       217, 234,  38,  61,  46,  30,  12,  25, 219, 118, 170, 153,  40,\n",
       "       115, 210,  86, 182, 202, 178, 126, 126,  35, 136,  66, 211,  50,\n",
       "         5, 180, 159, 119, 102,   9, 125,  15,  89,  25,  73, 156,  65,\n",
       "         9, 194, 153,  71, 187,  60,  67, 234, 158,  34, 159,  94,  16,\n",
       "       115, 170, 127,  38, 134, 180,  41,  41, 224, 134, 183, 110, 189,\n",
       "        14, 197, 146, 153, 125, 105, 178,  42, 206,  76,  63, 202, 141,\n",
       "       118, 115,  35, 170, 233, 222,  76,  93, 130,  78, 107, 148, 211,\n",
       "        55, 218, 227, 185, 127,  44, 193,  49, 188,  22, 138, 186,  93,\n",
       "       117, 132,  57, 224,   6, 157,  95,  89, 172, 123, 123, 193, 162,\n",
       "        24,  69, 214,  28, 162,  46, 230, 107,  97,  76, 139, 105,  29,\n",
       "       209, 119, 192,  18,  62,  84, 174, 159, 225, 217,  45, 121,  76,\n",
       "        37,  27,  63,  84, 214,  79,  94, 151, 134, 130,  26, 228,   1,\n",
       "       185, 165, 112, 191, 202,  26, 125,   6,  67,  62,  59, 188, 127,\n",
       "       135, 165,  34, 109,  53, 194, 193, 120, 140,   5,  97,  58,  59,\n",
       "       130, 221,  83,  20,  59, 217, 153, 173,  26,  50, 122, 142, 147,\n",
       "       159,  84, 180,  40, 149, 219, 150,   7,  81, 201,  63, 131,  33,\n",
       "        13, 193, 161, 130, 104, 234, 154, 123, 225, 123,  49, 212, 106,\n",
       "       210, 100,  41, 111, 190,  40, 221,  58, 114, 224,   8,  63,  15,\n",
       "        68, 145,  85, 175,  84, 175, 186,  89, 144,  97,  73, 109, 166,\n",
       "        34, 101, 153, 211, 153, 109,  15, 185, 136, 191, 206,  69,   8,\n",
       "       139, 203,   3, 222,  84, 214,  15,  72, 128,   6, 178, 191, 195,\n",
       "         9,  38, 194,  16, 100, 165, 206, 170,  59,  36, 122, 168, 127,\n",
       "        93,  48, 156,  90, 168, 135, 209, 218,  35, 186, 148,  29, 153,\n",
       "       180, 120,  51,  99,  37,  18, 120,  68,  88, 183, 160, 111, 167,\n",
       "       133,  48,  28,  50, 126, 156, 195,  29,  92,  51, 164, 118,  86,\n",
       "        24,  36,  67,  69, 149, 150,  35, 107, 144,  62,  18, 206, 160,\n",
       "         5, 122,  69,  83, 108,  61, 140,  38, 143, 224, 153, 204, 137,\n",
       "       144, 136, 234,   3,  89, 179,  20,  89, 224, 109,  29, 216,  36,\n",
       "        32, 170, 178,   1, 191,  31,  37, 179,  25, 220, 105, 183, 173,\n",
       "       151,  60, 226, 226, 230,  75,   2,  52,  84,  71,   7,  82,  59,\n",
       "        70, 206, 223, 111,  92,  20,  21,   1, 208, 168, 170, 184, 112,\n",
       "        82, 219, 159, 163, 214,   5, 203,  73,  47, 192, 142,  18, 141,\n",
       "       187,  74,  17, 212,  67, 101, 224, 109, 120,  17,  80, 219,  11,\n",
       "        86, 214, 125, 163, 150,  52, 140, 197, 150, 196,  50, 109, 176,\n",
       "        69, 207, 160, 215, 149,  97, 109, 143,  21, 136,  35, 134, 173,\n",
       "       119,  59,  28, 197,  58,  31, 182, 129,  56,  84, 131, 215, 148,\n",
       "       116,   4, 182,  91, 102,  72, 135, 100,  90, 108,  48, 149, 121,\n",
       "       228, 143,  93, 173, 199,  91, 194, 149,   1, 188,  29, 195,  85,\n",
       "       219,  94,  90, 185,  65, 129, 154,  99, 196, 221, 159, 155, 100,\n",
       "       169, 101, 207,  19, 191, 178, 124,  76, 213,  61, 114,  48,  75,\n",
       "       210,  88,   6, 124, 126,  94, 114, 165, 205,  40,  39, 112,  20,\n",
       "       208, 210, 208,  21, 175, 192, 131,  44,  95,  14,  94,  80, 193,\n",
       "       229,  95, 227,  41, 107,  85,  59, 170, 190, 175, 158, 214, 155,\n",
       "       120, 129,  37, 110,  29, 135, 195, 126, 150,  47,   6,  94, 221,\n",
       "        34, 123, 205,   9,  14,  11, 125,   5, 215,  82, 169,  96, 173,\n",
       "         5, 214, 120, 195,  47, 173, 116,  21, 166, 173, 105,  41, 124,\n",
       "        98, 198, 197,  70, 129, 158, 158, 124, 206, 130,  37,  73, 217,\n",
       "       194,  35,  57,   2, 149, 223, 137, 230, 197, 132, 152,   5, 228,\n",
       "       169, 190,  15, 210,  89, 132,  24, 213,  66, 208,  32, 209,  85,\n",
       "       167, 225,  68, 196,  10,  21, 166, 193, 147, 116], dtype=int32)"
      ]
     },
     "execution_count": 4,
     "metadata": {},
     "output_type": "execute_result"
    }
   ],
   "source": [
    "key = random.PRNGKey(100)\n",
    "jax.random.randint(key, (env._num_clips,), 0, 235)"
   ]
  },
  {
   "cell_type": "code",
   "execution_count": 5,
   "metadata": {},
   "outputs": [],
   "source": [
    "key = random.PRNGKey(100)\n",
    "reset_fn = jax.jit(env.reset)\n",
    "step_fn = jax.jit(env.step)"
   ]
  },
  {
   "cell_type": "code",
   "execution_count": 6,
   "metadata": {},
   "outputs": [],
   "source": [
    "# n_envs = 5\n",
    "_, key_envs= jax.random.split(key)\n",
    "env_state = reset_fn(key_envs)"
   ]
  },
  {
   "cell_type": "markdown",
   "metadata": {},
   "source": [
    "Inititialize the environment with reset called first time"
   ]
  },
  {
   "cell_type": "code",
   "execution_count": 7,
   "metadata": {},
   "outputs": [
    {
     "data": {
      "text/plain": [
       "{'cur_clip_id': Array(499, dtype=int32),\n",
       " 'cur_frame': Array(241, dtype=int32),\n",
       " 'sub_clip_frame': Array(0, dtype=int32, weak_type=True),\n",
       " 'termination_error': (Array(-6.950203, dtype=float32),\n",
       "  Array(0., dtype=float32, weak_type=True)),\n",
       " 'traj': Array([-0.20617531,  0.09366457,  0.06282681, ..., -0.01531352,\n",
       "        -0.03543425, -0.03543425], dtype=float32)}"
      ]
     },
     "execution_count": 7,
     "metadata": {},
     "output_type": "execute_result"
    }
   ],
   "source": [
    "env_state.info"
   ]
  },
  {
   "cell_type": "markdown",
   "metadata": {},
   "source": [
    "Inititialize the environment with reset called second time"
   ]
  },
  {
   "cell_type": "code",
   "execution_count": 8,
   "metadata": {},
   "outputs": [],
   "source": [
    "_, new_key_env = jax.random.split(key_envs)\n",
    "env_state = reset_fn(new_key_env)"
   ]
  },
  {
   "cell_type": "code",
   "execution_count": 9,
   "metadata": {},
   "outputs": [
    {
     "data": {
      "text/plain": [
       "{'cur_clip_id': Array(738, dtype=int32),\n",
       " 'cur_frame': Array(108, dtype=int32),\n",
       " 'sub_clip_frame': Array(0, dtype=int32, weak_type=True),\n",
       " 'termination_error': (Array(-16.027216, dtype=float32),\n",
       "  Array(0., dtype=float32, weak_type=True)),\n",
       " 'traj': Array([-0.16082662,  0.14971048,  0.10406622, ...,  0.02211449,\n",
       "        -0.14542218, -0.14542218], dtype=float32)}"
      ]
     },
     "execution_count": 9,
     "metadata": {},
     "output_type": "execute_result"
    }
   ],
   "source": [
    "env_state.info"
   ]
  },
  {
   "cell_type": "markdown",
   "metadata": {},
   "source": [
    "stepping the environment with the step function"
   ]
  },
  {
   "cell_type": "code",
   "execution_count": 10,
   "metadata": {},
   "outputs": [],
   "source": [
    "step_fn = jax.jit(env.step)"
   ]
  },
  {
   "cell_type": "code",
   "execution_count": 11,
   "metadata": {},
   "outputs": [
    {
     "data": {
      "text/plain": [
       "(30,)"
      ]
     },
     "execution_count": 11,
     "metadata": {},
     "output_type": "execute_result"
    }
   ],
   "source": [
    "random.normal(key, shape=(env.sys.nu,)).shape"
   ]
  },
  {
   "cell_type": "code",
   "execution_count": 12,
   "metadata": {},
   "outputs": [
    {
     "data": {
      "text/plain": [
       "(74,)"
      ]
     },
     "execution_count": 12,
     "metadata": {},
     "output_type": "execute_result"
    }
   ],
   "source": [
    "mu = 0\n",
    "sigma = 0.3\n",
    "action =  mu + sigma * random.normal(key, shape=(env.sys.nu,))\n",
    "state = env_state.pipeline_state\n",
    "# env.pipeline_step(state, action)\n",
    "state.q.shape"
   ]
  },
  {
   "cell_type": "code",
   "execution_count": 13,
   "metadata": {},
   "outputs": [],
   "source": [
    "new_state = step_fn(env_state, action)"
   ]
  },
  {
   "cell_type": "code",
   "execution_count": 14,
   "metadata": {},
   "outputs": [
    {
     "data": {
      "text/plain": [
       "{'cur_clip_id': Array(738, dtype=int32),\n",
       " 'cur_frame': Array(109, dtype=int32),\n",
       " 'sub_clip_frame': Array(2, dtype=int32, weak_type=True),\n",
       " 'termination_error': Array(-0.16027215, dtype=float32),\n",
       " 'traj': Array([-0.16100302,  0.14942591,  0.10313655, ..., -0.5201364 ,\n",
       "        -0.27276134, -0.27276134], dtype=float32)}"
      ]
     },
     "execution_count": 14,
     "metadata": {},
     "output_type": "execute_result"
    }
   ],
   "source": [
    "new_state.info"
   ]
  },
  {
   "cell_type": "markdown",
   "metadata": {},
   "source": [
    "stepping again"
   ]
  },
  {
   "cell_type": "code",
   "execution_count": 15,
   "metadata": {},
   "outputs": [
    {
     "data": {
      "text/plain": [
       "{'cur_clip_id': Array(738, dtype=int32),\n",
       " 'cur_frame': Array(110, dtype=int32),\n",
       " 'sub_clip_frame': Array(4, dtype=int32, weak_type=True),\n",
       " 'termination_error': Array(-0.22881521, dtype=float32),\n",
       " 'traj': Array([-0.1609548 ,  0.14878199,  0.10276634, ..., -0.80740184,\n",
       "        -0.4126497 , -0.4126497 ], dtype=float32)}"
      ]
     },
     "execution_count": 15,
     "metadata": {},
     "output_type": "execute_result"
    }
   ],
   "source": [
    "new_state = step_fn(new_state, action)\n",
    "new_state.info"
   ]
  },
  {
   "cell_type": "markdown",
   "metadata": {},
   "source": [
    "## `vmap` reset function for parralel environments"
   ]
  },
  {
   "cell_type": "code",
   "execution_count": 16,
   "metadata": {},
   "outputs": [
    {
     "data": {
      "text/plain": [
       "{'cur_clip_id': Array([485, 401, 632,  71, 651, 258, 284, 312, 366, 194], dtype=int32),\n",
       " 'cur_frame': Array([235, 187, 136, 149, 123,  10, 210,  94, 146, 112], dtype=int32),\n",
       " 'sub_clip_frame': Array([0, 0, 0, 0, 0, 0, 0, 0, 0, 0], dtype=int32, weak_type=True),\n",
       " 'termination_error': (Array([ -8.206141 ,  -1.6277385, -23.958109 , -10.601182 ,  -9.867305 ,\n",
       "         -14.988257 , -14.562813 , -11.599106 ,  -5.4344554, -18.814314 ],      dtype=float32),\n",
       "  Array([0., 0., 0., 0., 0., 1., 1., 0., 1., 0.], dtype=float32, weak_type=True)),\n",
       " 'traj': Array([[-0.15427066,  0.01494329,  0.05672465, ..., -0.06212887,\n",
       "         -0.09165404, -0.09165404],\n",
       "        [ 0.02545187, -0.09089029,  0.05754928, ..., -0.01286346,\n",
       "         -0.09104721, -0.09104721],\n",
       "        [-0.18914463,  0.07429746,  0.05606084, ...,  0.03004456,\n",
       "         -0.03742177, -0.03742177],\n",
       "        ...,\n",
       "        [ 0.06721927,  0.00763874,  0.08064112, ...,  0.02001724,\n",
       "          0.01832652,  0.01832652],\n",
       "        [ 0.21447162, -0.10602634,  0.17612511, ..., -0.2219195 ,\n",
       "          0.01180918,  0.01180918],\n",
       "        [-0.22641969,  0.18152273,  0.04882045, ...,  0.06719466,\n",
       "         -0.07037653, -0.07037653]], dtype=float32)}"
      ]
     },
     "execution_count": 16,
     "metadata": {},
     "output_type": "execute_result"
    }
   ],
   "source": [
    "reset_fn = jax.jit(jax.vmap(env.reset))\n",
    "step_fn = jax.jit(jax.vmap(env.step))\n",
    "\n",
    "n_envs = 10\n",
    "key_envs = jax.random.split(key, n_envs)\n",
    "env_state = reset_fn(key_envs)\n",
    "\n",
    "env_state.info"
   ]
  },
  {
   "cell_type": "code",
   "execution_count": 17,
   "metadata": {},
   "outputs": [
    {
     "data": {
      "text/plain": [
       "{'cur_clip_id': Array([467,  73, 426, 756, 356, 688, 409, 791, 404, 261], dtype=int32),\n",
       " 'cur_frame': Array([169,  81,  84,  16,  22, 220,  69, 197, 142, 211], dtype=int32),\n",
       " 'sub_clip_frame': Array([0, 0, 0, 0, 0, 0, 0, 0, 0, 0], dtype=int32, weak_type=True),\n",
       " 'termination_error': (Array([-13.7108965, -16.871    ,  -8.502774 , -22.36122  , -11.122095 ,\n",
       "          -5.816902 ,  -4.333744 , -14.831317 , -12.647524 , -13.258934 ],      dtype=float32),\n",
       "  Array([0., 0., 0., 0., 0., 0., 0., 0., 0., 0.], dtype=float32, weak_type=True)),\n",
       " 'traj': Array([[-0.20004347,  0.2385041 ,  0.06029586, ..., -0.08812524,\n",
       "          0.01174304,  0.01174304],\n",
       "        [-0.15528704,  0.00930448,  0.11902401, ..., -0.06174397,\n",
       "          0.01036848,  0.01036848],\n",
       "        [ 0.08066069,  0.04199532,  0.05919814, ..., -0.15245038,\n",
       "         -0.18402584, -0.18402584],\n",
       "        ...,\n",
       "        [-0.09740867,  0.3776508 ,  0.05755525, ..., -0.12594199,\n",
       "          0.00241748,  0.00241748],\n",
       "        [ 0.0057214 ,  0.43774807,  0.05910759, ..., -0.07318569,\n",
       "          0.00125737,  0.00125737],\n",
       "        [ 0.37582478,  0.13754463,  0.06562692, ...,  0.01810458,\n",
       "          0.08178552,  0.08178552]], dtype=float32)}"
      ]
     },
     "execution_count": 17,
     "metadata": {},
     "output_type": "execute_result"
    }
   ],
   "source": [
    "new_key_env = jax.random.split(key_envs[0], n_envs)\n",
    "env_state = reset_fn(new_key_env)\n",
    "env_state.info"
   ]
  },
  {
   "cell_type": "code",
   "execution_count": 18,
   "metadata": {},
   "outputs": [
    {
     "data": {
      "text/plain": [
       "(10, 30)"
      ]
     },
     "execution_count": 18,
     "metadata": {},
     "output_type": "execute_result"
    }
   ],
   "source": [
    "mu = 0\n",
    "sigma = 0.3\n",
    "action =  mu + sigma * random.normal(key, shape=(n_envs, env.sys.nu))\n",
    "action.shape"
   ]
  },
  {
   "cell_type": "code",
   "execution_count": 19,
   "metadata": {},
   "outputs": [
    {
     "data": {
      "text/plain": [
       "{'cur_clip_id': Array([467,  73, 426, 756, 356, 688, 409, 791, 404, 261], dtype=int32),\n",
       " 'cur_frame': Array([170,  82,  85,  17,  23, 221,  70, 198, 143, 212], dtype=int32),\n",
       " 'sub_clip_frame': Array([2, 2, 2, 2, 2, 2, 2, 2, 2, 2], dtype=int32, weak_type=True),\n",
       " 'termination_error': Array([-0.13710897, -0.16871   , -0.08502774, -0.22361219, -0.11122095,\n",
       "        -0.05816902, -0.04333744, -0.14831316, -0.12647523, -0.13258934],      dtype=float32),\n",
       " 'traj': Array([[-0.20036991,  0.23884232,  0.06018402, ..., -0.5029912 ,\n",
       "         -0.15563805, -0.15563805],\n",
       "        [-0.15533067,  0.00956762,  0.11930922, ..., -0.53285253,\n",
       "         -0.16768971, -0.16768971],\n",
       "        [ 0.08127106,  0.05134097,  0.06068143, ..., -0.5477654 ,\n",
       "         -0.3447373 , -0.3447373 ],\n",
       "        ...,\n",
       "        [-0.09816636,  0.37509644,  0.05811431, ...,  2.6401162 ,\n",
       "         -3.9763784 , -3.9763784 ],\n",
       "        [ 0.01007128,  0.4416503 ,  0.0586198 , ..., -0.45390052,\n",
       "         -0.17426883, -0.17426883],\n",
       "        [ 0.37679788,  0.14196157,  0.06423339, ..., -0.43476546,\n",
       "         -0.11026948, -0.11026948]], dtype=float32)}"
      ]
     },
     "execution_count": 19,
     "metadata": {},
     "output_type": "execute_result"
    }
   ],
   "source": [
    "new_state = step_fn(env_state, action)\n",
    "new_state.info"
   ]
  },
  {
   "cell_type": "markdown",
   "metadata": {},
   "source": [
    "step successfully"
   ]
  },
  {
   "cell_type": "markdown",
   "metadata": {},
   "source": [
    "## Reference to SingleClip"
   ]
  },
  {
   "cell_type": "code",
   "execution_count": 20,
   "metadata": {},
   "outputs": [],
   "source": [
    "envs.register_environment(\"rodent_single\", RodentTracking)\n",
    "\n",
    "# Define the environment arguments\n",
    "env_args = {\n",
    "    \"reference_clip\": reference_clip,\n",
    "    \"end_eff_names\": [\n",
    "        \"foot_L\",\n",
    "        \"foot_R\",\n",
    "        \"hand_L\",\n",
    "        \"hand_R\"\n",
    "    ],\n",
    "    \"appendage_names\": [\n",
    "        \"foot_L\",\n",
    "        \"foot_R\",\n",
    "        \"hand_L\",\n",
    "        \"hand_R\",\n",
    "        \"skull\"\n",
    "    ],\n",
    "    \"walker_body_names\": [\n",
    "        \"torso\",\n",
    "        \"pelvis\",\n",
    "        \"upper_leg_L\",\n",
    "        \"lower_leg_L\",\n",
    "        \"foot_L\",\n",
    "        \"upper_leg_R\",\n",
    "        \"lower_leg_R\",\n",
    "        \"foot_R\",\n",
    "        \"skull\",\n",
    "        \"jaw\",\n",
    "        \"scapula_L\",\n",
    "        \"upper_arm_L\",\n",
    "        \"lower_arm_L\",\n",
    "        \"finger_L\",\n",
    "        \"scapula_R\",\n",
    "        \"upper_arm_R\",\n",
    "        \"lower_arm_R\",\n",
    "        \"finger_R\"\n",
    "    ],\n",
    "    \"joint_names\": [\n",
    "        \"vertebra_1_extend\",\n",
    "        \"hip_L_supinate\",\n",
    "        \"hip_L_abduct\",\n",
    "        \"hip_L_extend\",\n",
    "        \"knee_L\",\n",
    "        \"ankle_L\",\n",
    "        \"toe_L\",\n",
    "        \"hip_R_supinate\",\n",
    "        \"hip_R_abduct\",\n",
    "        \"hip_R_extend\",\n",
    "        \"knee_R\",\n",
    "        \"ankle_R\",\n",
    "        \"toe_R\",\n",
    "        \"vertebra_C11_extend\",\n",
    "        \"vertebra_cervical_1_bend\",\n",
    "        \"vertebra_axis_twist\",\n",
    "        \"atlas\",\n",
    "        \"mandible\",\n",
    "        \"scapula_L_supinate\",\n",
    "        \"scapula_L_abduct\",\n",
    "        \"scapula_L_extend\",\n",
    "        \"shoulder_L\",\n",
    "        \"shoulder_sup_L\",\n",
    "        \"elbow_L\",\n",
    "        \"wrist_L\",\n",
    "        \"scapula_R_supinate\",\n",
    "        \"scapula_R_abduct\",\n",
    "        \"scapula_R_extend\",\n",
    "        \"shoulder_R\",\n",
    "        \"shoulder_sup_R\",\n",
    "        \"elbow_R\",\n",
    "        \"wrist_R\",\n",
    "        \"finger_R\"\n",
    "    ],\n",
    "    \"center_of_mass\": \"torso\",\n",
    "    \"mjcf_path\": \"./assets/rodent.xml\",\n",
    "    \"scale_factor\": 0.9,\n",
    "    \"solver\": \"cg\",\n",
    "    \"iterations\": 6,\n",
    "    \"ls_iterations\": 6,\n",
    "    \"healthy_z_range\": (0.2, 1.0),\n",
    "    \"reset_noise_scale\": 0.1,\n",
    "    \"clip_length\": 250,\n",
    "    \"sub_clip_length\": 10,\n",
    "    \"ref_traj_length\": 5,\n",
    "    \"termination_threshold\": 5,\n",
    "    \"body_error_multiplier\": 1.0,\n",
    "}\n",
    "\n",
    "env_s = envs.get_environment('rodent_single', **env_args)"
   ]
  },
  {
   "cell_type": "markdown",
   "metadata": {},
   "source": [
    "### `vmap` of the environment not available yet!"
   ]
  },
  {
   "cell_type": "code",
   "execution_count": 21,
   "metadata": {},
   "outputs": [],
   "source": [
    "key = random.PRNGKey(100)\n",
    "reset_fn = jax.jit(env_s.reset)\n",
    "step_fn = jax.jit(env_s.step)\n",
    "\n",
    "n_envs = 5\n",
    "_, key_envs= jax.random.split(key)\n",
    "env_state = reset_fn(key_envs)"
   ]
  },
  {
   "cell_type": "code",
   "execution_count": 22,
   "metadata": {},
   "outputs": [
    {
     "data": {
      "text/plain": [
       "{'cur_frame': Array(36, dtype=int32),\n",
       " 'sub_clip_frame': Array(0, dtype=int32, weak_type=True),\n",
       " 'termination_error': Array(-3.7766209, dtype=float32),\n",
       " 'traj': Array([ 0.39154962,  0.16734575,  0.11736992, ..., -0.01084213,\n",
       "        -0.14542218, -0.14542218], dtype=float32)}"
      ]
     },
     "execution_count": 22,
     "metadata": {},
     "output_type": "execute_result"
    }
   ],
   "source": [
    "env_state.info"
   ]
  },
  {
   "cell_type": "code",
   "execution_count": 23,
   "metadata": {},
   "outputs": [
    {
     "data": {
      "text/plain": [
       "(30,)"
      ]
     },
     "execution_count": 23,
     "metadata": {},
     "output_type": "execute_result"
    }
   ],
   "source": [
    "step_fn = jax.jit(env_s.step)\n",
    "mu = 0\n",
    "sigma = 0.3\n",
    "_, key = random.split(key)\n",
    "action =  mu + sigma * random.normal(key, shape=(env_s.sys.nu,))\n",
    "action.shape"
   ]
  },
  {
   "cell_type": "code",
   "execution_count": 24,
   "metadata": {},
   "outputs": [],
   "source": [
    "new_state = step_fn(env_state, action)"
   ]
  }
 ],
 "metadata": {
  "kernelspec": {
   "display_name": ".brax-imitation",
   "language": "python",
   "name": "python3"
  },
  "language_info": {
   "codemirror_mode": {
    "name": "ipython",
    "version": 3
   },
   "file_extension": ".py",
   "mimetype": "text/x-python",
   "name": "python",
   "nbconvert_exporter": "python",
   "pygments_lexer": "ipython3",
   "version": "3.10.9"
  }
 },
 "nbformat": 4,
 "nbformat_minor": 2
}
